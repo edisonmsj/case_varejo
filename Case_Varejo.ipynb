{
 "cells": [
  {
   "cell_type": "markdown",
   "metadata": {
    "id": "9Rp6S0_6OrWs"
   },
   "source": [
    "#Visão Geral\n"
   ]
  },
  {
   "cell_type": "markdown",
   "metadata": {
    "id": "WXK8yDuec38T"
   },
   "source": [
    "##Análise 1 \n",
    "###Foi percebido um aumento substancial das vendas no e-commerce no segundo trimestre de 2020. Analise a evolução do faturamento ao longo dos meses."
   ]
  },
  {
   "cell_type": "code",
   "execution_count": null,
   "metadata": {
    "id": "XPs9FFX9CM7Q"
   },
   "outputs": [],
   "source": [
    "import pandas as pd\n",
    "import sqlalchemy\n",
    "import os\n",
    "import re\n",
    "import datetime\n",
    "import matplotlib.pyplot as plt\n",
    "import seaborn as sns"
   ]
  },
  {
   "cell_type": "markdown",
   "metadata": {
    "id": "fP8SDAsDDtog"
   },
   "source": [
    "Importando a base de dados"
   ]
  },
  {
   "cell_type": "code",
   "execution_count": null,
   "metadata": {
    "colab": {
     "base_uri": "https://localhost:8080/"
    },
    "id": "SzSgXha2Dwuo",
    "outputId": "51c6d62e-7bd6-48b3-c5cb-0b86dda36309"
   },
   "outputs": [
    {
     "data": {
      "text/plain": [
       "['info_produto', 'pedidos']"
      ]
     },
     "execution_count": 5,
     "metadata": {
      "tags": []
     },
     "output_type": "execute_result"
    }
   ],
   "source": [
    "engine_str='sqlite://///content/drive/MyDrive/Vai Academy/Case 2/Dados/vaistore.sqlite'\n",
    "engine = sqlalchemy.create_engine(engine_str)\n",
    "sqlalchemy.inspect(engine).get_table_names()"
   ]
  },
  {
   "cell_type": "code",
   "execution_count": null,
   "metadata": {
    "colab": {
     "base_uri": "https://localhost:8080/",
     "height": 195
    },
    "id": "jJXYyGEiJz4w",
    "outputId": "091e6c18-cef1-49a1-922b-097485130269"
   },
   "outputs": [
    {
     "data": {
      "text/html": [
       "<div>\n",
       "<style scoped>\n",
       "    .dataframe tbody tr th:only-of-type {\n",
       "        vertical-align: middle;\n",
       "    }\n",
       "\n",
       "    .dataframe tbody tr th {\n",
       "        vertical-align: top;\n",
       "    }\n",
       "\n",
       "    .dataframe thead th {\n",
       "        text-align: right;\n",
       "    }\n",
       "</style>\n",
       "<table border=\"1\" class=\"dataframe\">\n",
       "  <thead>\n",
       "    <tr style=\"text-align: right;\">\n",
       "      <th></th>\n",
       "      <th>0</th>\n",
       "      <th>1</th>\n",
       "      <th>2</th>\n",
       "      <th>3</th>\n",
       "      <th>4</th>\n",
       "      <th>5</th>\n",
       "      <th>6</th>\n",
       "      <th>7</th>\n",
       "      <th>8</th>\n",
       "      <th>9</th>\n",
       "      <th>10</th>\n",
       "    </tr>\n",
       "  </thead>\n",
       "  <tbody>\n",
       "    <tr>\n",
       "      <th>0</th>\n",
       "      <td>2020-01-01 00:00:00.000000</td>\n",
       "      <td>7000001</td>\n",
       "      <td>P10000123123</td>\n",
       "      <td>4040690</td>\n",
       "      <td>E10505Y</td>\n",
       "      <td>1</td>\n",
       "      <td>149.9</td>\n",
       "      <td>0.00</td>\n",
       "      <td>32.32</td>\n",
       "      <td>182.22</td>\n",
       "      <td>32.32</td>\n",
       "    </tr>\n",
       "    <tr>\n",
       "      <th>1</th>\n",
       "      <td>2020-01-01 00:00:00.000000</td>\n",
       "      <td>7000003</td>\n",
       "      <td>P10000123124</td>\n",
       "      <td>4003939</td>\n",
       "      <td>E10513Y</td>\n",
       "      <td>1</td>\n",
       "      <td>189.9</td>\n",
       "      <td>0.00</td>\n",
       "      <td>0.00</td>\n",
       "      <td>189.90</td>\n",
       "      <td>0.00</td>\n",
       "    </tr>\n",
       "    <tr>\n",
       "      <th>2</th>\n",
       "      <td>2020-01-01 00:00:00.000000</td>\n",
       "      <td>7000006</td>\n",
       "      <td>P10000123128</td>\n",
       "      <td>4043259</td>\n",
       "      <td>E10375Y</td>\n",
       "      <td>1</td>\n",
       "      <td>129.9</td>\n",
       "      <td>-12.99</td>\n",
       "      <td>26.93</td>\n",
       "      <td>143.84</td>\n",
       "      <td>26.93</td>\n",
       "    </tr>\n",
       "    <tr>\n",
       "      <th>3</th>\n",
       "      <td>2020-01-01 00:00:00.000000</td>\n",
       "      <td>7000009</td>\n",
       "      <td>P10000123132</td>\n",
       "      <td>4090303</td>\n",
       "      <td>E10477Y</td>\n",
       "      <td>2</td>\n",
       "      <td>19.9</td>\n",
       "      <td>0.00</td>\n",
       "      <td>0.00</td>\n",
       "      <td>39.80</td>\n",
       "      <td>0.00</td>\n",
       "    </tr>\n",
       "    <tr>\n",
       "      <th>4</th>\n",
       "      <td>2020-01-01 00:00:00.000000</td>\n",
       "      <td>7000011</td>\n",
       "      <td>P10000294585</td>\n",
       "      <td>4080417</td>\n",
       "      <td>E10058Y</td>\n",
       "      <td>1</td>\n",
       "      <td>189.9</td>\n",
       "      <td>1.17</td>\n",
       "      <td>27.57</td>\n",
       "      <td>218.64</td>\n",
       "      <td>27.57</td>\n",
       "    </tr>\n",
       "  </tbody>\n",
       "</table>\n",
       "</div>"
      ],
      "text/plain": [
       "                           0        1             2   ...     8       9      10\n",
       "0  2020-01-01 00:00:00.000000  7000001  P10000123123  ...  32.32  182.22  32.32\n",
       "1  2020-01-01 00:00:00.000000  7000003  P10000123124  ...   0.00  189.90   0.00\n",
       "2  2020-01-01 00:00:00.000000  7000006  P10000123128  ...  26.93  143.84  26.93\n",
       "3  2020-01-01 00:00:00.000000  7000009  P10000123132  ...   0.00   39.80   0.00\n",
       "4  2020-01-01 00:00:00.000000  7000011  P10000294585  ...  27.57  218.64  27.57\n",
       "\n",
       "[5 rows x 11 columns]"
      ]
     },
     "execution_count": 6,
     "metadata": {
      "tags": []
     },
     "output_type": "execute_result"
    }
   ],
   "source": [
    "con = engine.connect()\n",
    "query = 'SELECT * FROM pedidos'\n",
    "rs = con.execute(query)\n",
    "results = rs.fetchall()\n",
    "df = pd.DataFrame(results)\n",
    "df.head()"
   ]
  },
  {
   "cell_type": "markdown",
   "metadata": {
    "id": "qowXXs5vOm0t"
   },
   "source": [
    "Atribuindo nome as colunas"
   ]
  },
  {
   "cell_type": "code",
   "execution_count": null,
   "metadata": {
    "colab": {
     "base_uri": "https://localhost:8080/",
     "height": 299
    },
    "id": "DqCl2az9OpwP",
    "outputId": "99cda799-2c3e-4778-986e-a068d869919d"
   },
   "outputs": [
    {
     "data": {
      "text/html": [
       "<div>\n",
       "<style scoped>\n",
       "    .dataframe tbody tr th:only-of-type {\n",
       "        vertical-align: middle;\n",
       "    }\n",
       "\n",
       "    .dataframe tbody tr th {\n",
       "        vertical-align: top;\n",
       "    }\n",
       "\n",
       "    .dataframe thead th {\n",
       "        text-align: right;\n",
       "    }\n",
       "</style>\n",
       "<table border=\"1\" class=\"dataframe\">\n",
       "  <thead>\n",
       "    <tr style=\"text-align: right;\">\n",
       "      <th></th>\n",
       "      <th>DATA_VENDA</th>\n",
       "      <th>PEDIDO</th>\n",
       "      <th>PEDIDO_ERP</th>\n",
       "      <th>COD_CLIENTE</th>\n",
       "      <th>PRODUTO</th>\n",
       "      <th>QTDE</th>\n",
       "      <th>PRECO_UNITARIO</th>\n",
       "      <th>DESCONTO_ITEM</th>\n",
       "      <th>FRETE_PAGO_CLIENTE</th>\n",
       "      <th>RECEITA</th>\n",
       "      <th>CUSTO_FRETE</th>\n",
       "    </tr>\n",
       "  </thead>\n",
       "  <tbody>\n",
       "    <tr>\n",
       "      <th>0</th>\n",
       "      <td>2020-01-01 00:00:00.000000</td>\n",
       "      <td>7000001</td>\n",
       "      <td>P10000123123</td>\n",
       "      <td>4040690</td>\n",
       "      <td>E10505Y</td>\n",
       "      <td>1</td>\n",
       "      <td>149.9</td>\n",
       "      <td>0.00</td>\n",
       "      <td>32.32</td>\n",
       "      <td>182.22</td>\n",
       "      <td>32.32</td>\n",
       "    </tr>\n",
       "    <tr>\n",
       "      <th>1</th>\n",
       "      <td>2020-01-01 00:00:00.000000</td>\n",
       "      <td>7000003</td>\n",
       "      <td>P10000123124</td>\n",
       "      <td>4003939</td>\n",
       "      <td>E10513Y</td>\n",
       "      <td>1</td>\n",
       "      <td>189.9</td>\n",
       "      <td>0.00</td>\n",
       "      <td>0.00</td>\n",
       "      <td>189.90</td>\n",
       "      <td>0.00</td>\n",
       "    </tr>\n",
       "    <tr>\n",
       "      <th>2</th>\n",
       "      <td>2020-01-01 00:00:00.000000</td>\n",
       "      <td>7000006</td>\n",
       "      <td>P10000123128</td>\n",
       "      <td>4043259</td>\n",
       "      <td>E10375Y</td>\n",
       "      <td>1</td>\n",
       "      <td>129.9</td>\n",
       "      <td>-12.99</td>\n",
       "      <td>26.93</td>\n",
       "      <td>143.84</td>\n",
       "      <td>26.93</td>\n",
       "    </tr>\n",
       "    <tr>\n",
       "      <th>3</th>\n",
       "      <td>2020-01-01 00:00:00.000000</td>\n",
       "      <td>7000009</td>\n",
       "      <td>P10000123132</td>\n",
       "      <td>4090303</td>\n",
       "      <td>E10477Y</td>\n",
       "      <td>2</td>\n",
       "      <td>19.9</td>\n",
       "      <td>0.00</td>\n",
       "      <td>0.00</td>\n",
       "      <td>39.80</td>\n",
       "      <td>0.00</td>\n",
       "    </tr>\n",
       "    <tr>\n",
       "      <th>4</th>\n",
       "      <td>2020-01-01 00:00:00.000000</td>\n",
       "      <td>7000011</td>\n",
       "      <td>P10000294585</td>\n",
       "      <td>4080417</td>\n",
       "      <td>E10058Y</td>\n",
       "      <td>1</td>\n",
       "      <td>189.9</td>\n",
       "      <td>1.17</td>\n",
       "      <td>27.57</td>\n",
       "      <td>218.64</td>\n",
       "      <td>27.57</td>\n",
       "    </tr>\n",
       "  </tbody>\n",
       "</table>\n",
       "</div>"
      ],
      "text/plain": [
       "                   DATA_VENDA   PEDIDO  ... RECEITA  CUSTO_FRETE\n",
       "0  2020-01-01 00:00:00.000000  7000001  ...  182.22        32.32\n",
       "1  2020-01-01 00:00:00.000000  7000003  ...  189.90         0.00\n",
       "2  2020-01-01 00:00:00.000000  7000006  ...  143.84        26.93\n",
       "3  2020-01-01 00:00:00.000000  7000009  ...   39.80         0.00\n",
       "4  2020-01-01 00:00:00.000000  7000011  ...  218.64        27.57\n",
       "\n",
       "[5 rows x 11 columns]"
      ]
     },
     "execution_count": 7,
     "metadata": {
      "tags": []
     },
     "output_type": "execute_result"
    }
   ],
   "source": [
    "columns = con.execute(query).keys()\n",
    "df.columns = columns\n",
    "df.head()"
   ]
  },
  {
   "cell_type": "markdown",
   "metadata": {
    "id": "yjGMveQMRyqj"
   },
   "source": [
    "Características do df"
   ]
  },
  {
   "cell_type": "code",
   "execution_count": null,
   "metadata": {
    "colab": {
     "base_uri": "https://localhost:8080/"
    },
    "id": "XllSv0_IR4fp",
    "outputId": "02ba6452-7925-4945-88e1-4f28e29d2fd8"
   },
   "outputs": [
    {
     "name": "stdout",
     "output_type": "stream",
     "text": [
      "<class 'pandas.core.frame.DataFrame'>\n",
      "RangeIndex: 296937 entries, 0 to 296936\n",
      "Data columns (total 11 columns):\n",
      " #   Column              Non-Null Count   Dtype  \n",
      "---  ------              --------------   -----  \n",
      " 0   DATA_VENDA          296937 non-null  object \n",
      " 1   PEDIDO              296937 non-null  int64  \n",
      " 2   PEDIDO_ERP          296937 non-null  object \n",
      " 3   COD_CLIENTE         296937 non-null  int64  \n",
      " 4   PRODUTO             296937 non-null  object \n",
      " 5   QTDE                296937 non-null  int64  \n",
      " 6   PRECO_UNITARIO      296937 non-null  float64\n",
      " 7   DESCONTO_ITEM       296937 non-null  float64\n",
      " 8   FRETE_PAGO_CLIENTE  296937 non-null  float64\n",
      " 9   RECEITA             296937 non-null  float64\n",
      " 10  CUSTO_FRETE         296937 non-null  float64\n",
      "dtypes: float64(5), int64(3), object(3)\n",
      "memory usage: 24.9+ MB\n"
     ]
    }
   ],
   "source": [
    "df.info()"
   ]
  },
  {
   "cell_type": "code",
   "execution_count": null,
   "metadata": {
    "colab": {
     "base_uri": "https://localhost:8080/",
     "height": 284
    },
    "id": "SbmpFD9hR_tX",
    "outputId": "fc6b3d99-35b0-468d-e475-2b0eb7f04b03"
   },
   "outputs": [
    {
     "data": {
      "text/html": [
       "<div>\n",
       "<style scoped>\n",
       "    .dataframe tbody tr th:only-of-type {\n",
       "        vertical-align: middle;\n",
       "    }\n",
       "\n",
       "    .dataframe tbody tr th {\n",
       "        vertical-align: top;\n",
       "    }\n",
       "\n",
       "    .dataframe thead th {\n",
       "        text-align: right;\n",
       "    }\n",
       "</style>\n",
       "<table border=\"1\" class=\"dataframe\">\n",
       "  <thead>\n",
       "    <tr style=\"text-align: right;\">\n",
       "      <th></th>\n",
       "      <th>PEDIDO</th>\n",
       "      <th>COD_CLIENTE</th>\n",
       "      <th>QTDE</th>\n",
       "      <th>PRECO_UNITARIO</th>\n",
       "      <th>DESCONTO_ITEM</th>\n",
       "      <th>FRETE_PAGO_CLIENTE</th>\n",
       "      <th>RECEITA</th>\n",
       "      <th>CUSTO_FRETE</th>\n",
       "    </tr>\n",
       "  </thead>\n",
       "  <tbody>\n",
       "    <tr>\n",
       "      <th>count</th>\n",
       "      <td>2.969370e+05</td>\n",
       "      <td>2.969370e+05</td>\n",
       "      <td>296937.000000</td>\n",
       "      <td>296937.000000</td>\n",
       "      <td>296937.000000</td>\n",
       "      <td>296937.000000</td>\n",
       "      <td>296937.000000</td>\n",
       "      <td>296937.000000</td>\n",
       "    </tr>\n",
       "    <tr>\n",
       "      <th>mean</th>\n",
       "      <td>8.245409e+06</td>\n",
       "      <td>4.071741e+06</td>\n",
       "      <td>1.096071</td>\n",
       "      <td>88.702216</td>\n",
       "      <td>-3.320825</td>\n",
       "      <td>7.565462</td>\n",
       "      <td>96.737892</td>\n",
       "      <td>10.695023</td>\n",
       "    </tr>\n",
       "    <tr>\n",
       "      <th>std</th>\n",
       "      <td>9.617816e+07</td>\n",
       "      <td>4.240777e+04</td>\n",
       "      <td>0.732218</td>\n",
       "      <td>91.983725</td>\n",
       "      <td>20.480290</td>\n",
       "      <td>7.902874</td>\n",
       "      <td>97.317731</td>\n",
       "      <td>10.387043</td>\n",
       "    </tr>\n",
       "    <tr>\n",
       "      <th>min</th>\n",
       "      <td>7.000001e+06</td>\n",
       "      <td>4.000001e+06</td>\n",
       "      <td>1.000000</td>\n",
       "      <td>1.000000</td>\n",
       "      <td>-7135.200000</td>\n",
       "      <td>0.000000</td>\n",
       "      <td>1.080000</td>\n",
       "      <td>0.000000</td>\n",
       "    </tr>\n",
       "    <tr>\n",
       "      <th>25%</th>\n",
       "      <td>7.045000e+06</td>\n",
       "      <td>4.034865e+06</td>\n",
       "      <td>1.000000</td>\n",
       "      <td>29.900000</td>\n",
       "      <td>0.000000</td>\n",
       "      <td>0.000000</td>\n",
       "      <td>32.900000</td>\n",
       "      <td>4.080000</td>\n",
       "    </tr>\n",
       "    <tr>\n",
       "      <th>50%</th>\n",
       "      <td>7.092251e+06</td>\n",
       "      <td>4.070934e+06</td>\n",
       "      <td>1.000000</td>\n",
       "      <td>59.900000</td>\n",
       "      <td>0.000000</td>\n",
       "      <td>6.400000</td>\n",
       "      <td>69.900000</td>\n",
       "      <td>8.090000</td>\n",
       "    </tr>\n",
       "    <tr>\n",
       "      <th>75%</th>\n",
       "      <td>7.128757e+06</td>\n",
       "      <td>4.107895e+06</td>\n",
       "      <td>1.000000</td>\n",
       "      <td>129.900000</td>\n",
       "      <td>0.000000</td>\n",
       "      <td>12.900000</td>\n",
       "      <td>137.410000</td>\n",
       "      <td>14.580000</td>\n",
       "    </tr>\n",
       "    <tr>\n",
       "      <th>max</th>\n",
       "      <td>8.000000e+09</td>\n",
       "      <td>4.146333e+06</td>\n",
       "      <td>100.000000</td>\n",
       "      <td>2499.900000</td>\n",
       "      <td>80.000000</td>\n",
       "      <td>147.320000</td>\n",
       "      <td>8001.100000</td>\n",
       "      <td>324.990000</td>\n",
       "    </tr>\n",
       "  </tbody>\n",
       "</table>\n",
       "</div>"
      ],
      "text/plain": [
       "             PEDIDO   COD_CLIENTE  ...        RECEITA    CUSTO_FRETE\n",
       "count  2.969370e+05  2.969370e+05  ...  296937.000000  296937.000000\n",
       "mean   8.245409e+06  4.071741e+06  ...      96.737892      10.695023\n",
       "std    9.617816e+07  4.240777e+04  ...      97.317731      10.387043\n",
       "min    7.000001e+06  4.000001e+06  ...       1.080000       0.000000\n",
       "25%    7.045000e+06  4.034865e+06  ...      32.900000       4.080000\n",
       "50%    7.092251e+06  4.070934e+06  ...      69.900000       8.090000\n",
       "75%    7.128757e+06  4.107895e+06  ...     137.410000      14.580000\n",
       "max    8.000000e+09  4.146333e+06  ...    8001.100000     324.990000\n",
       "\n",
       "[8 rows x 8 columns]"
      ]
     },
     "execution_count": 9,
     "metadata": {
      "tags": []
     },
     "output_type": "execute_result"
    }
   ],
   "source": [
    "df.describe()"
   ]
  },
  {
   "cell_type": "markdown",
   "metadata": {
    "id": "Y9xBK95-QG-Q"
   },
   "source": [
    "Requisição para para avaliação da receita por mês\n"
   ]
  },
  {
   "cell_type": "code",
   "execution_count": null,
   "metadata": {
    "colab": {
     "base_uri": "https://localhost:8080/",
     "height": 402
    },
    "id": "NX_K1nLyQdrL",
    "outputId": "f7104c33-8e91-4427-df3f-a1c4e3cfabe6"
   },
   "outputs": [
    {
     "data": {
      "text/html": [
       "<div>\n",
       "<style scoped>\n",
       "    .dataframe tbody tr th:only-of-type {\n",
       "        vertical-align: middle;\n",
       "    }\n",
       "\n",
       "    .dataframe tbody tr th {\n",
       "        vertical-align: top;\n",
       "    }\n",
       "\n",
       "    .dataframe thead th {\n",
       "        text-align: right;\n",
       "    }\n",
       "</style>\n",
       "<table border=\"1\" class=\"dataframe\">\n",
       "  <thead>\n",
       "    <tr style=\"text-align: right;\">\n",
       "      <th></th>\n",
       "      <th>DATA_VENDA</th>\n",
       "      <th>RECEITA</th>\n",
       "    </tr>\n",
       "  </thead>\n",
       "  <tbody>\n",
       "    <tr>\n",
       "      <th>0</th>\n",
       "      <td>2020-01-01 00:00:00.000000</td>\n",
       "      <td>182.22</td>\n",
       "    </tr>\n",
       "    <tr>\n",
       "      <th>1</th>\n",
       "      <td>2020-01-01 00:00:00.000000</td>\n",
       "      <td>189.90</td>\n",
       "    </tr>\n",
       "    <tr>\n",
       "      <th>2</th>\n",
       "      <td>2020-01-01 00:00:00.000000</td>\n",
       "      <td>143.84</td>\n",
       "    </tr>\n",
       "    <tr>\n",
       "      <th>3</th>\n",
       "      <td>2020-01-01 00:00:00.000000</td>\n",
       "      <td>39.80</td>\n",
       "    </tr>\n",
       "    <tr>\n",
       "      <th>4</th>\n",
       "      <td>2020-01-01 00:00:00.000000</td>\n",
       "      <td>218.64</td>\n",
       "    </tr>\n",
       "    <tr>\n",
       "      <th>...</th>\n",
       "      <td>...</td>\n",
       "      <td>...</td>\n",
       "    </tr>\n",
       "    <tr>\n",
       "      <th>296932</th>\n",
       "      <td>2020-12-10 00:00:00.000000</td>\n",
       "      <td>80.90</td>\n",
       "    </tr>\n",
       "    <tr>\n",
       "      <th>296933</th>\n",
       "      <td>2020-12-10 00:00:00.000000</td>\n",
       "      <td>100.40</td>\n",
       "    </tr>\n",
       "    <tr>\n",
       "      <th>296934</th>\n",
       "      <td>2020-12-10 00:00:00.000000</td>\n",
       "      <td>240.40</td>\n",
       "    </tr>\n",
       "    <tr>\n",
       "      <th>296935</th>\n",
       "      <td>2020-12-10 00:00:00.000000</td>\n",
       "      <td>64.46</td>\n",
       "    </tr>\n",
       "    <tr>\n",
       "      <th>296936</th>\n",
       "      <td>2020-12-10 00:00:00.000000</td>\n",
       "      <td>110.90</td>\n",
       "    </tr>\n",
       "  </tbody>\n",
       "</table>\n",
       "<p>296937 rows × 2 columns</p>\n",
       "</div>"
      ],
      "text/plain": [
       "                        DATA_VENDA  RECEITA\n",
       "0       2020-01-01 00:00:00.000000   182.22\n",
       "1       2020-01-01 00:00:00.000000   189.90\n",
       "2       2020-01-01 00:00:00.000000   143.84\n",
       "3       2020-01-01 00:00:00.000000    39.80\n",
       "4       2020-01-01 00:00:00.000000   218.64\n",
       "...                            ...      ...\n",
       "296932  2020-12-10 00:00:00.000000    80.90\n",
       "296933  2020-12-10 00:00:00.000000   100.40\n",
       "296934  2020-12-10 00:00:00.000000   240.40\n",
       "296935  2020-12-10 00:00:00.000000    64.46\n",
       "296936  2020-12-10 00:00:00.000000   110.90\n",
       "\n",
       "[296937 rows x 2 columns]"
      ]
     },
     "execution_count": 10,
     "metadata": {
      "tags": []
     },
     "output_type": "execute_result"
    }
   ],
   "source": [
    "data_receita = df[['DATA_VENDA', 'RECEITA']]\n",
    "data_receita\n"
   ]
  },
  {
   "cell_type": "markdown",
   "metadata": {
    "id": "k3jt0mv7RiVW"
   },
   "source": [
    "Criando uma coluna com o mês da venda"
   ]
  },
  {
   "cell_type": "code",
   "execution_count": null,
   "metadata": {
    "colab": {
     "base_uri": "https://localhost:8080/",
     "height": 402
    },
    "id": "Sd4SC9F3VyJ2",
    "outputId": "f7cc3266-cb31-423b-9714-729ff8b7b178"
   },
   "outputs": [
    {
     "data": {
      "text/html": [
       "<div>\n",
       "<style scoped>\n",
       "    .dataframe tbody tr th:only-of-type {\n",
       "        vertical-align: middle;\n",
       "    }\n",
       "\n",
       "    .dataframe tbody tr th {\n",
       "        vertical-align: top;\n",
       "    }\n",
       "\n",
       "    .dataframe thead th {\n",
       "        text-align: right;\n",
       "    }\n",
       "</style>\n",
       "<table border=\"1\" class=\"dataframe\">\n",
       "  <thead>\n",
       "    <tr style=\"text-align: right;\">\n",
       "      <th></th>\n",
       "      <th>DATA_VENDA</th>\n",
       "      <th>MES</th>\n",
       "    </tr>\n",
       "  </thead>\n",
       "  <tbody>\n",
       "    <tr>\n",
       "      <th>0</th>\n",
       "      <td>2020-01-01 00:00:00.000000</td>\n",
       "      <td>01</td>\n",
       "    </tr>\n",
       "    <tr>\n",
       "      <th>1</th>\n",
       "      <td>2020-01-01 00:00:00.000000</td>\n",
       "      <td>01</td>\n",
       "    </tr>\n",
       "    <tr>\n",
       "      <th>2</th>\n",
       "      <td>2020-01-01 00:00:00.000000</td>\n",
       "      <td>01</td>\n",
       "    </tr>\n",
       "    <tr>\n",
       "      <th>3</th>\n",
       "      <td>2020-01-01 00:00:00.000000</td>\n",
       "      <td>01</td>\n",
       "    </tr>\n",
       "    <tr>\n",
       "      <th>4</th>\n",
       "      <td>2020-01-01 00:00:00.000000</td>\n",
       "      <td>01</td>\n",
       "    </tr>\n",
       "    <tr>\n",
       "      <th>...</th>\n",
       "      <td>...</td>\n",
       "      <td>...</td>\n",
       "    </tr>\n",
       "    <tr>\n",
       "      <th>296932</th>\n",
       "      <td>2020-12-10 00:00:00.000000</td>\n",
       "      <td>12</td>\n",
       "    </tr>\n",
       "    <tr>\n",
       "      <th>296933</th>\n",
       "      <td>2020-12-10 00:00:00.000000</td>\n",
       "      <td>12</td>\n",
       "    </tr>\n",
       "    <tr>\n",
       "      <th>296934</th>\n",
       "      <td>2020-12-10 00:00:00.000000</td>\n",
       "      <td>12</td>\n",
       "    </tr>\n",
       "    <tr>\n",
       "      <th>296935</th>\n",
       "      <td>2020-12-10 00:00:00.000000</td>\n",
       "      <td>12</td>\n",
       "    </tr>\n",
       "    <tr>\n",
       "      <th>296936</th>\n",
       "      <td>2020-12-10 00:00:00.000000</td>\n",
       "      <td>12</td>\n",
       "    </tr>\n",
       "  </tbody>\n",
       "</table>\n",
       "<p>296937 rows × 2 columns</p>\n",
       "</div>"
      ],
      "text/plain": [
       "                        DATA_VENDA MES\n",
       "0       2020-01-01 00:00:00.000000  01\n",
       "1       2020-01-01 00:00:00.000000  01\n",
       "2       2020-01-01 00:00:00.000000  01\n",
       "3       2020-01-01 00:00:00.000000  01\n",
       "4       2020-01-01 00:00:00.000000  01\n",
       "...                            ...  ..\n",
       "296932  2020-12-10 00:00:00.000000  12\n",
       "296933  2020-12-10 00:00:00.000000  12\n",
       "296934  2020-12-10 00:00:00.000000  12\n",
       "296935  2020-12-10 00:00:00.000000  12\n",
       "296936  2020-12-10 00:00:00.000000  12\n",
       "\n",
       "[296937 rows x 2 columns]"
      ]
     },
     "execution_count": 11,
     "metadata": {
      "tags": []
     },
     "output_type": "execute_result"
    }
   ],
   "source": [
    "query = 'SELECT Data_venda, strftime(\"%m\", \"Data_venda\") as \"MES\" FROM pedidos'\n",
    "data_mes = pd.read_sql_query(query, engine)\n",
    "data_mes"
   ]
  },
  {
   "cell_type": "markdown",
   "metadata": {
    "id": "b9W-4CqDDY5-"
   },
   "source": [
    "Merge entre a tabela mes e a data_receita"
   ]
  },
  {
   "cell_type": "code",
   "execution_count": null,
   "metadata": {
    "id": "a0-2-mE-EFr-"
   },
   "outputs": [],
   "source": [
    "merge = pd.concat([data_mes, data_receita], axis = 1)\n",
    "merge.drop(labels = ['DATA_VENDA'], axis= 1 )\n",
    "receita_mes = merge"
   ]
  },
  {
   "cell_type": "markdown",
   "metadata": {
    "id": "Y9q0IO2eH5uH"
   },
   "source": [
    "Criando a receita total por mes"
   ]
  },
  {
   "cell_type": "code",
   "execution_count": null,
   "metadata": {
    "colab": {
     "base_uri": "https://localhost:8080/",
     "height": 402
    },
    "id": "gysJLv27H5AB",
    "outputId": "c971f965-043e-46cd-da4e-e59fcbd6c304"
   },
   "outputs": [
    {
     "data": {
      "text/html": [
       "<div>\n",
       "<style scoped>\n",
       "    .dataframe tbody tr th:only-of-type {\n",
       "        vertical-align: middle;\n",
       "    }\n",
       "\n",
       "    .dataframe tbody tr th {\n",
       "        vertical-align: top;\n",
       "    }\n",
       "\n",
       "    .dataframe thead th {\n",
       "        text-align: right;\n",
       "    }\n",
       "</style>\n",
       "<table border=\"1\" class=\"dataframe\">\n",
       "  <thead>\n",
       "    <tr style=\"text-align: right;\">\n",
       "      <th></th>\n",
       "      <th>MES</th>\n",
       "      <th>RECEITA</th>\n",
       "    </tr>\n",
       "  </thead>\n",
       "  <tbody>\n",
       "    <tr>\n",
       "      <th>0</th>\n",
       "      <td>01</td>\n",
       "      <td>2.286126e+06</td>\n",
       "    </tr>\n",
       "    <tr>\n",
       "      <th>1</th>\n",
       "      <td>02</td>\n",
       "      <td>1.556249e+06</td>\n",
       "    </tr>\n",
       "    <tr>\n",
       "      <th>2</th>\n",
       "      <td>03</td>\n",
       "      <td>1.124974e+06</td>\n",
       "    </tr>\n",
       "    <tr>\n",
       "      <th>3</th>\n",
       "      <td>04</td>\n",
       "      <td>1.696474e+06</td>\n",
       "    </tr>\n",
       "    <tr>\n",
       "      <th>4</th>\n",
       "      <td>05</td>\n",
       "      <td>4.600114e+06</td>\n",
       "    </tr>\n",
       "    <tr>\n",
       "      <th>5</th>\n",
       "      <td>06</td>\n",
       "      <td>3.736710e+06</td>\n",
       "    </tr>\n",
       "    <tr>\n",
       "      <th>6</th>\n",
       "      <td>07</td>\n",
       "      <td>2.253901e+06</td>\n",
       "    </tr>\n",
       "    <tr>\n",
       "      <th>7</th>\n",
       "      <td>08</td>\n",
       "      <td>1.905498e+06</td>\n",
       "    </tr>\n",
       "    <tr>\n",
       "      <th>8</th>\n",
       "      <td>09</td>\n",
       "      <td>1.203432e+06</td>\n",
       "    </tr>\n",
       "    <tr>\n",
       "      <th>9</th>\n",
       "      <td>10</td>\n",
       "      <td>1.480890e+06</td>\n",
       "    </tr>\n",
       "    <tr>\n",
       "      <th>10</th>\n",
       "      <td>11</td>\n",
       "      <td>3.889284e+06</td>\n",
       "    </tr>\n",
       "    <tr>\n",
       "      <th>11</th>\n",
       "      <td>12</td>\n",
       "      <td>2.991408e+06</td>\n",
       "    </tr>\n",
       "  </tbody>\n",
       "</table>\n",
       "</div>"
      ],
      "text/plain": [
       "   MES       RECEITA\n",
       "0   01  2.286126e+06\n",
       "1   02  1.556249e+06\n",
       "2   03  1.124974e+06\n",
       "3   04  1.696474e+06\n",
       "4   05  4.600114e+06\n",
       "5   06  3.736710e+06\n",
       "6   07  2.253901e+06\n",
       "7   08  1.905498e+06\n",
       "8   09  1.203432e+06\n",
       "9   10  1.480890e+06\n",
       "10  11  3.889284e+06\n",
       "11  12  2.991408e+06"
      ]
     },
     "execution_count": 13,
     "metadata": {
      "tags": []
     },
     "output_type": "execute_result"
    }
   ],
   "source": [
    "receita_viz = receita_mes.groupby(receita_mes.MES).sum().reset_index()\n",
    "receita_viz"
   ]
  },
  {
   "cell_type": "markdown",
   "metadata": {
    "id": "cO3iBLsLIdYw"
   },
   "source": [
    "Criando gráfico da receita por mes"
   ]
  },
  {
   "cell_type": "code",
   "execution_count": null,
   "metadata": {
    "colab": {
     "base_uri": "https://localhost:8080/",
     "height": 312
    },
    "id": "E3FjqgwVDuOF",
    "outputId": "bf072363-94e7-4d60-97ed-96e70e005733"
   },
   "outputs": [
    {
     "data": {
      "text/plain": [
       "<BarContainer object of 12 artists>"
      ]
     },
     "execution_count": 14,
     "metadata": {
      "tags": []
     },
     "output_type": "execute_result"
    },
    {
     "data": {
      "image/png": "[encoded data removed]",
      "text/plain": [
       "<Figure size 432x288 with 1 Axes>"
      ]
     },
     "metadata": {
      "needs_background": "light",
      "tags": []
     },
     "output_type": "display_data"
    }
   ],
   "source": [
    "x_axis = receita_viz.MES\n",
    "y_axis = (receita_viz.RECEITA)/1000000\n",
    "\n",
    "title = 'Receita por mês'\n",
    "xlabel = 'Mês'\n",
    "ylabel = 'Receita em milhões'\n",
    "plt.title(title)\n",
    "plt.xlabel(xlabel)\n",
    "plt.ylabel(ylabel)\n",
    "#plt.grid(axis='both')\n",
    "plt.bar(x_axis, y_axis)\n"
   ]
  },
  {
   "cell_type": "markdown",
   "metadata": {
    "id": "gs_lnv-4CVnY"
   },
   "source": [
    "###Resultado\n",
    "####Houve um aumento expressivo de receita no 2º e no 4º trimestre de 2020"
   ]
  },
  {
   "cell_type": "markdown",
   "metadata": {
    "id": "f0gX4euQVMBV"
   },
   "source": [
    "#Novos Clientes\n"
   ]
  },
  {
   "cell_type": "markdown",
   "metadata": {
    "id": "bsBFk6dDd3_N"
   },
   "source": [
    "##Análise 2\n",
    "###Um cliente é considerado ativo caso ele tenha feito compras nos últimos 12 meses. Analise a evolução do número de clientes ativos mês a mês."
   ]
  },
  {
   "cell_type": "markdown",
   "metadata": {
    "id": "i_TBXC_8YkI1"
   },
   "source": [
    "Separando as colunas de interesse\n"
   ]
  },
  {
   "cell_type": "code",
   "execution_count": null,
   "metadata": {
    "colab": {
     "base_uri": "https://localhost:8080/",
     "height": 402
    },
    "id": "EI1cJQ3iVood",
    "outputId": "fb20dfae-f04f-4478-9ea4-8d2eb18f2be6"
   },
   "outputs": [
    {
     "data": {
      "text/html": [
       "<div>\n",
       "<style scoped>\n",
       "    .dataframe tbody tr th:only-of-type {\n",
       "        vertical-align: middle;\n",
       "    }\n",
       "\n",
       "    .dataframe tbody tr th {\n",
       "        vertical-align: top;\n",
       "    }\n",
       "\n",
       "    .dataframe thead th {\n",
       "        text-align: right;\n",
       "    }\n",
       "</style>\n",
       "<table border=\"1\" class=\"dataframe\">\n",
       "  <thead>\n",
       "    <tr style=\"text-align: right;\">\n",
       "      <th></th>\n",
       "      <th>DATA_VENDA</th>\n",
       "      <th>COD_CLIENTE</th>\n",
       "    </tr>\n",
       "  </thead>\n",
       "  <tbody>\n",
       "    <tr>\n",
       "      <th>0</th>\n",
       "      <td>2020-01-01 00:00:00.000000</td>\n",
       "      <td>4040690</td>\n",
       "    </tr>\n",
       "    <tr>\n",
       "      <th>1</th>\n",
       "      <td>2020-01-01 00:00:00.000000</td>\n",
       "      <td>4003939</td>\n",
       "    </tr>\n",
       "    <tr>\n",
       "      <th>2</th>\n",
       "      <td>2020-01-01 00:00:00.000000</td>\n",
       "      <td>4043259</td>\n",
       "    </tr>\n",
       "    <tr>\n",
       "      <th>3</th>\n",
       "      <td>2020-01-01 00:00:00.000000</td>\n",
       "      <td>4090303</td>\n",
       "    </tr>\n",
       "    <tr>\n",
       "      <th>4</th>\n",
       "      <td>2020-01-01 00:00:00.000000</td>\n",
       "      <td>4080417</td>\n",
       "    </tr>\n",
       "    <tr>\n",
       "      <th>...</th>\n",
       "      <td>...</td>\n",
       "      <td>...</td>\n",
       "    </tr>\n",
       "    <tr>\n",
       "      <th>296932</th>\n",
       "      <td>2020-12-10 00:00:00.000000</td>\n",
       "      <td>4049216</td>\n",
       "    </tr>\n",
       "    <tr>\n",
       "      <th>296933</th>\n",
       "      <td>2020-12-10 00:00:00.000000</td>\n",
       "      <td>4019312</td>\n",
       "    </tr>\n",
       "    <tr>\n",
       "      <th>296934</th>\n",
       "      <td>2020-12-10 00:00:00.000000</td>\n",
       "      <td>4055873</td>\n",
       "    </tr>\n",
       "    <tr>\n",
       "      <th>296935</th>\n",
       "      <td>2020-12-10 00:00:00.000000</td>\n",
       "      <td>4086203</td>\n",
       "    </tr>\n",
       "    <tr>\n",
       "      <th>296936</th>\n",
       "      <td>2020-12-10 00:00:00.000000</td>\n",
       "      <td>4145384</td>\n",
       "    </tr>\n",
       "  </tbody>\n",
       "</table>\n",
       "<p>296937 rows × 2 columns</p>\n",
       "</div>"
      ],
      "text/plain": [
       "                        DATA_VENDA  COD_CLIENTE\n",
       "0       2020-01-01 00:00:00.000000      4040690\n",
       "1       2020-01-01 00:00:00.000000      4003939\n",
       "2       2020-01-01 00:00:00.000000      4043259\n",
       "3       2020-01-01 00:00:00.000000      4090303\n",
       "4       2020-01-01 00:00:00.000000      4080417\n",
       "...                            ...          ...\n",
       "296932  2020-12-10 00:00:00.000000      4049216\n",
       "296933  2020-12-10 00:00:00.000000      4019312\n",
       "296934  2020-12-10 00:00:00.000000      4055873\n",
       "296935  2020-12-10 00:00:00.000000      4086203\n",
       "296936  2020-12-10 00:00:00.000000      4145384\n",
       "\n",
       "[296937 rows x 2 columns]"
      ]
     },
     "execution_count": 15,
     "metadata": {
      "tags": []
     },
     "output_type": "execute_result"
    }
   ],
   "source": [
    "query = 'SELECT data_venda, cod_cliente FROM pedidos'\n",
    "data_cliente = pd.read_sql_query(query, engine)\n",
    "data_cliente.columns = ['DATA_VENDA', 'COD_CLIENTE']\n",
    "data_cliente"
   ]
  },
  {
   "cell_type": "code",
   "execution_count": null,
   "metadata": {
    "colab": {
     "base_uri": "https://localhost:8080/",
     "height": 402
    },
    "id": "OjjTnGiUYGXI",
    "outputId": "9c139f80-b569-42b3-ce34-3356bc1887ba"
   },
   "outputs": [
    {
     "data": {
      "text/html": [
       "<div>\n",
       "<style scoped>\n",
       "    .dataframe tbody tr th:only-of-type {\n",
       "        vertical-align: middle;\n",
       "    }\n",
       "\n",
       "    .dataframe tbody tr th {\n",
       "        vertical-align: top;\n",
       "    }\n",
       "\n",
       "    .dataframe thead th {\n",
       "        text-align: right;\n",
       "    }\n",
       "</style>\n",
       "<table border=\"1\" class=\"dataframe\">\n",
       "  <thead>\n",
       "    <tr style=\"text-align: right;\">\n",
       "      <th></th>\n",
       "      <th>DATA_VENDA</th>\n",
       "      <th>MES</th>\n",
       "    </tr>\n",
       "  </thead>\n",
       "  <tbody>\n",
       "    <tr>\n",
       "      <th>0</th>\n",
       "      <td>2020-01-01 00:00:00.000000</td>\n",
       "      <td>01</td>\n",
       "    </tr>\n",
       "    <tr>\n",
       "      <th>1</th>\n",
       "      <td>2020-01-01 00:00:00.000000</td>\n",
       "      <td>01</td>\n",
       "    </tr>\n",
       "    <tr>\n",
       "      <th>2</th>\n",
       "      <td>2020-01-01 00:00:00.000000</td>\n",
       "      <td>01</td>\n",
       "    </tr>\n",
       "    <tr>\n",
       "      <th>3</th>\n",
       "      <td>2020-01-01 00:00:00.000000</td>\n",
       "      <td>01</td>\n",
       "    </tr>\n",
       "    <tr>\n",
       "      <th>4</th>\n",
       "      <td>2020-01-01 00:00:00.000000</td>\n",
       "      <td>01</td>\n",
       "    </tr>\n",
       "    <tr>\n",
       "      <th>...</th>\n",
       "      <td>...</td>\n",
       "      <td>...</td>\n",
       "    </tr>\n",
       "    <tr>\n",
       "      <th>296932</th>\n",
       "      <td>2020-12-10 00:00:00.000000</td>\n",
       "      <td>12</td>\n",
       "    </tr>\n",
       "    <tr>\n",
       "      <th>296933</th>\n",
       "      <td>2020-12-10 00:00:00.000000</td>\n",
       "      <td>12</td>\n",
       "    </tr>\n",
       "    <tr>\n",
       "      <th>296934</th>\n",
       "      <td>2020-12-10 00:00:00.000000</td>\n",
       "      <td>12</td>\n",
       "    </tr>\n",
       "    <tr>\n",
       "      <th>296935</th>\n",
       "      <td>2020-12-10 00:00:00.000000</td>\n",
       "      <td>12</td>\n",
       "    </tr>\n",
       "    <tr>\n",
       "      <th>296936</th>\n",
       "      <td>2020-12-10 00:00:00.000000</td>\n",
       "      <td>12</td>\n",
       "    </tr>\n",
       "  </tbody>\n",
       "</table>\n",
       "<p>296937 rows × 2 columns</p>\n",
       "</div>"
      ],
      "text/plain": [
       "                        DATA_VENDA MES\n",
       "0       2020-01-01 00:00:00.000000  01\n",
       "1       2020-01-01 00:00:00.000000  01\n",
       "2       2020-01-01 00:00:00.000000  01\n",
       "3       2020-01-01 00:00:00.000000  01\n",
       "4       2020-01-01 00:00:00.000000  01\n",
       "...                            ...  ..\n",
       "296932  2020-12-10 00:00:00.000000  12\n",
       "296933  2020-12-10 00:00:00.000000  12\n",
       "296934  2020-12-10 00:00:00.000000  12\n",
       "296935  2020-12-10 00:00:00.000000  12\n",
       "296936  2020-12-10 00:00:00.000000  12\n",
       "\n",
       "[296937 rows x 2 columns]"
      ]
     },
     "execution_count": 16,
     "metadata": {
      "tags": []
     },
     "output_type": "execute_result"
    }
   ],
   "source": [
    "query = 'SELECT data_venda, strftime(\"%m\", \"data_venda\") as MES FROM pedidos'\n",
    "data_mes = pd.read_sql_query(query, engine)\n",
    "data_mes"
   ]
  },
  {
   "cell_type": "markdown",
   "metadata": {
    "id": "_hdiIxz1YpKZ"
   },
   "source": [
    "Juntando as duas tabelas"
   ]
  },
  {
   "cell_type": "code",
   "execution_count": null,
   "metadata": {
    "colab": {
     "base_uri": "https://localhost:8080/",
     "height": 402
    },
    "id": "M3rPgSHUYsJZ",
    "outputId": "4eb17dd1-03a4-40ec-c74a-2489d2bbef06"
   },
   "outputs": [
    {
     "data": {
      "text/html": [
       "<div>\n",
       "<style scoped>\n",
       "    .dataframe tbody tr th:only-of-type {\n",
       "        vertical-align: middle;\n",
       "    }\n",
       "\n",
       "    .dataframe tbody tr th {\n",
       "        vertical-align: top;\n",
       "    }\n",
       "\n",
       "    .dataframe thead th {\n",
       "        text-align: right;\n",
       "    }\n",
       "</style>\n",
       "<table border=\"1\" class=\"dataframe\">\n",
       "  <thead>\n",
       "    <tr style=\"text-align: right;\">\n",
       "      <th></th>\n",
       "      <th>MES</th>\n",
       "      <th>COD_CLIENTE</th>\n",
       "    </tr>\n",
       "  </thead>\n",
       "  <tbody>\n",
       "    <tr>\n",
       "      <th>0</th>\n",
       "      <td>01</td>\n",
       "      <td>4040690</td>\n",
       "    </tr>\n",
       "    <tr>\n",
       "      <th>1</th>\n",
       "      <td>01</td>\n",
       "      <td>4003939</td>\n",
       "    </tr>\n",
       "    <tr>\n",
       "      <th>2</th>\n",
       "      <td>01</td>\n",
       "      <td>4043259</td>\n",
       "    </tr>\n",
       "    <tr>\n",
       "      <th>3</th>\n",
       "      <td>01</td>\n",
       "      <td>4090303</td>\n",
       "    </tr>\n",
       "    <tr>\n",
       "      <th>4</th>\n",
       "      <td>01</td>\n",
       "      <td>4080417</td>\n",
       "    </tr>\n",
       "    <tr>\n",
       "      <th>...</th>\n",
       "      <td>...</td>\n",
       "      <td>...</td>\n",
       "    </tr>\n",
       "    <tr>\n",
       "      <th>296932</th>\n",
       "      <td>12</td>\n",
       "      <td>4049216</td>\n",
       "    </tr>\n",
       "    <tr>\n",
       "      <th>296933</th>\n",
       "      <td>12</td>\n",
       "      <td>4019312</td>\n",
       "    </tr>\n",
       "    <tr>\n",
       "      <th>296934</th>\n",
       "      <td>12</td>\n",
       "      <td>4055873</td>\n",
       "    </tr>\n",
       "    <tr>\n",
       "      <th>296935</th>\n",
       "      <td>12</td>\n",
       "      <td>4086203</td>\n",
       "    </tr>\n",
       "    <tr>\n",
       "      <th>296936</th>\n",
       "      <td>12</td>\n",
       "      <td>4145384</td>\n",
       "    </tr>\n",
       "  </tbody>\n",
       "</table>\n",
       "<p>296937 rows × 2 columns</p>\n",
       "</div>"
      ],
      "text/plain": [
       "       MES  COD_CLIENTE\n",
       "0       01      4040690\n",
       "1       01      4003939\n",
       "2       01      4043259\n",
       "3       01      4090303\n",
       "4       01      4080417\n",
       "...     ..          ...\n",
       "296932  12      4049216\n",
       "296933  12      4019312\n",
       "296934  12      4055873\n",
       "296935  12      4086203\n",
       "296936  12      4145384\n",
       "\n",
       "[296937 rows x 2 columns]"
      ]
     },
     "execution_count": 17,
     "metadata": {
      "tags": []
     },
     "output_type": "execute_result"
    }
   ],
   "source": [
    "merge = pd.concat([data_mes, data_cliente], axis = 1)\n",
    "cliente_mes = merge.drop(labels = ['DATA_VENDA'], axis = 1)\n",
    "cliente_mes"
   ]
  },
  {
   "cell_type": "markdown",
   "metadata": {
    "id": "G2-qaBrLY3tN"
   },
   "source": [
    "Removendo clientes repetidos pois o cliente se torna ativo apenas na primeira compra"
   ]
  },
  {
   "cell_type": "code",
   "execution_count": null,
   "metadata": {
    "colab": {
     "base_uri": "https://localhost:8080/",
     "height": 402
    },
    "id": "IcTUoeMPY7L-",
    "outputId": "f975749e-44d9-4fb2-96df-2eb64ab3cf72"
   },
   "outputs": [
    {
     "data": {
      "text/html": [
       "<div>\n",
       "<style scoped>\n",
       "    .dataframe tbody tr th:only-of-type {\n",
       "        vertical-align: middle;\n",
       "    }\n",
       "\n",
       "    .dataframe tbody tr th {\n",
       "        vertical-align: top;\n",
       "    }\n",
       "\n",
       "    .dataframe thead th {\n",
       "        text-align: right;\n",
       "    }\n",
       "</style>\n",
       "<table border=\"1\" class=\"dataframe\">\n",
       "  <thead>\n",
       "    <tr style=\"text-align: right;\">\n",
       "      <th></th>\n",
       "      <th>MES</th>\n",
       "      <th>COD_CLIENTE</th>\n",
       "    </tr>\n",
       "  </thead>\n",
       "  <tbody>\n",
       "    <tr>\n",
       "      <th>0</th>\n",
       "      <td>01</td>\n",
       "      <td>4040690</td>\n",
       "    </tr>\n",
       "    <tr>\n",
       "      <th>1</th>\n",
       "      <td>01</td>\n",
       "      <td>4003939</td>\n",
       "    </tr>\n",
       "    <tr>\n",
       "      <th>2</th>\n",
       "      <td>01</td>\n",
       "      <td>4043259</td>\n",
       "    </tr>\n",
       "    <tr>\n",
       "      <th>3</th>\n",
       "      <td>01</td>\n",
       "      <td>4090303</td>\n",
       "    </tr>\n",
       "    <tr>\n",
       "      <th>4</th>\n",
       "      <td>01</td>\n",
       "      <td>4080417</td>\n",
       "    </tr>\n",
       "    <tr>\n",
       "      <th>...</th>\n",
       "      <td>...</td>\n",
       "      <td>...</td>\n",
       "    </tr>\n",
       "    <tr>\n",
       "      <th>296913</th>\n",
       "      <td>03</td>\n",
       "      <td>4051508</td>\n",
       "    </tr>\n",
       "    <tr>\n",
       "      <th>296917</th>\n",
       "      <td>03</td>\n",
       "      <td>4084473</td>\n",
       "    </tr>\n",
       "    <tr>\n",
       "      <th>296927</th>\n",
       "      <td>12</td>\n",
       "      <td>4145384</td>\n",
       "    </tr>\n",
       "    <tr>\n",
       "      <th>296930</th>\n",
       "      <td>12</td>\n",
       "      <td>4123929</td>\n",
       "    </tr>\n",
       "    <tr>\n",
       "      <th>296931</th>\n",
       "      <td>12</td>\n",
       "      <td>4049216</td>\n",
       "    </tr>\n",
       "  </tbody>\n",
       "</table>\n",
       "<p>146333 rows × 2 columns</p>\n",
       "</div>"
      ],
      "text/plain": [
       "       MES  COD_CLIENTE\n",
       "0       01      4040690\n",
       "1       01      4003939\n",
       "2       01      4043259\n",
       "3       01      4090303\n",
       "4       01      4080417\n",
       "...     ..          ...\n",
       "296913  03      4051508\n",
       "296917  03      4084473\n",
       "296927  12      4145384\n",
       "296930  12      4123929\n",
       "296931  12      4049216\n",
       "\n",
       "[146333 rows x 2 columns]"
      ]
     },
     "execution_count": 18,
     "metadata": {
      "tags": []
     },
     "output_type": "execute_result"
    }
   ],
   "source": [
    "cliente_mes_unique = cliente_mes.drop_duplicates(subset=['COD_CLIENTE'], keep = 'first')\n",
    "cliente_mes_unique"
   ]
  },
  {
   "cell_type": "markdown",
   "metadata": {
    "id": "ZOVcR7cFZAsn"
   },
   "source": [
    "Contando o numero de clientes novos por mês\n",
    "\n",
    "\n",
    "\n"
   ]
  },
  {
   "cell_type": "code",
   "execution_count": null,
   "metadata": {
    "id": "P2JkNl-QZE_P"
   },
   "outputs": [],
   "source": [
    "cliente_mes_soma = cliente_mes_unique.groupby('MES').count().reset_index()\n",
    "cliente_mes_soma = cliente_mes_soma.rename(columns = {'COD_CLIENTE': 'CLIENTES_NOVOS'})"
   ]
  },
  {
   "cell_type": "markdown",
   "metadata": {
    "id": "HuiWmOd9Zxq9"
   },
   "source": [
    "Vizualização - Quantidade de Novos clientes por mes"
   ]
  },
  {
   "cell_type": "code",
   "execution_count": null,
   "metadata": {
    "colab": {
     "base_uri": "https://localhost:8080/",
     "height": 312
    },
    "id": "eSJsDFhLZ0zY",
    "outputId": "2e22f0d9-dab5-4733-df4e-fca7c98aa57c"
   },
   "outputs": [
    {
     "data": {
      "text/plain": [
       "<BarContainer object of 12 artists>"
      ]
     },
     "execution_count": 20,
     "metadata": {
      "tags": []
     },
     "output_type": "execute_result"
    },
    {
     "data": {
      "image/png": "[encoded data removed]",
      "text/plain": [
       "<Figure size 432x288 with 1 Axes>"
      ]
     },
     "metadata": {
      "needs_background": "light",
      "tags": []
     },
     "output_type": "display_data"
    }
   ],
   "source": [
    "x_axis = cliente_mes_soma.MES\n",
    "y_axis = cliente_mes_soma.CLIENTES_NOVOS\n",
    "xlabel = 'Meses'\n",
    "ylabel = 'Quantidade de novos clientes'\n",
    "title = 'Novos clientes por mês'\n",
    "#plt.grid (axis = 'both')\n",
    "plt.xlabel(xlabel)\n",
    "plt.ylabel(ylabel)\n",
    "plt.title(title)\n",
    "plt.bar(x_axis, y_axis)"
   ]
  },
  {
   "cell_type": "markdown",
   "metadata": {
    "id": "QkH-mWmteFiL"
   },
   "source": [
    "###Resultado\n",
    "####Houve um aumento no número de novos clientes no 2° e no 4° trimestre que acompanhou o aumento de receita\n",
    "\n"
   ]
  },
  {
   "cell_type": "markdown",
   "metadata": {
    "id": "ZC8yUZsVgoyO"
   },
   "source": [
    "##Análise 3\n",
    "###Qual o canal de marketing que mais trouxe clientes em 2020? Qual foi a receita e margem dos clientes em cada canal? Analisando o investimento de cada canal, qual seria a sua recomendação para a diretoria sobre a alocação de recursos por canal?"
   ]
  },
  {
   "cell_type": "markdown",
   "metadata": {
    "id": "Z5SO38zxhOMI"
   },
   "source": [
    "Importando a base de dados ORIGEM_TRAFICO"
   ]
  },
  {
   "cell_type": "code",
   "execution_count": null,
   "metadata": {
    "colab": {
     "base_uri": "https://localhost:8080/",
     "height": 402
    },
    "id": "RpiNHMz2btvb",
    "outputId": "4c6b6bb7-94f8-4c5c-f0b6-df51d81f639f"
   },
   "outputs": [
    {
     "data": {
      "text/html": [
       "<div>\n",
       "<style scoped>\n",
       "    .dataframe tbody tr th:only-of-type {\n",
       "        vertical-align: middle;\n",
       "    }\n",
       "\n",
       "    .dataframe tbody tr th {\n",
       "        vertical-align: top;\n",
       "    }\n",
       "\n",
       "    .dataframe thead th {\n",
       "        text-align: right;\n",
       "    }\n",
       "</style>\n",
       "<table border=\"1\" class=\"dataframe\">\n",
       "  <thead>\n",
       "    <tr style=\"text-align: right;\">\n",
       "      <th></th>\n",
       "      <th>PEDIDO_ERP</th>\n",
       "      <th>CANAL_MARKETING</th>\n",
       "    </tr>\n",
       "  </thead>\n",
       "  <tbody>\n",
       "    <tr>\n",
       "      <th>0</th>\n",
       "      <td>P10000123123</td>\n",
       "      <td>Google Ads</td>\n",
       "    </tr>\n",
       "    <tr>\n",
       "      <th>1</th>\n",
       "      <td>P10000123124</td>\n",
       "      <td>Facebook Ads</td>\n",
       "    </tr>\n",
       "    <tr>\n",
       "      <th>2</th>\n",
       "      <td>P10000123125</td>\n",
       "      <td>Email</td>\n",
       "    </tr>\n",
       "    <tr>\n",
       "      <th>3</th>\n",
       "      <td>P10000123126</td>\n",
       "      <td>Direto</td>\n",
       "    </tr>\n",
       "    <tr>\n",
       "      <th>4</th>\n",
       "      <td>P10000123127</td>\n",
       "      <td>Busca orgânica</td>\n",
       "    </tr>\n",
       "    <tr>\n",
       "      <th>...</th>\n",
       "      <td>...</td>\n",
       "      <td>...</td>\n",
       "    </tr>\n",
       "    <tr>\n",
       "      <th>172026</th>\n",
       "      <td>P10000295149</td>\n",
       "      <td>NaN</td>\n",
       "    </tr>\n",
       "    <tr>\n",
       "      <th>172027</th>\n",
       "      <td>P10000295150</td>\n",
       "      <td>NaN</td>\n",
       "    </tr>\n",
       "    <tr>\n",
       "      <th>172028</th>\n",
       "      <td>P10000295151</td>\n",
       "      <td>NaN</td>\n",
       "    </tr>\n",
       "    <tr>\n",
       "      <th>172029</th>\n",
       "      <td>P10000295152</td>\n",
       "      <td>NaN</td>\n",
       "    </tr>\n",
       "    <tr>\n",
       "      <th>172030</th>\n",
       "      <td>P10000295153</td>\n",
       "      <td>NaN</td>\n",
       "    </tr>\n",
       "  </tbody>\n",
       "</table>\n",
       "<p>172031 rows × 2 columns</p>\n",
       "</div>"
      ],
      "text/plain": [
       "          PEDIDO_ERP CANAL_MARKETING\n",
       "0       P10000123123      Google Ads\n",
       "1       P10000123124    Facebook Ads\n",
       "2       P10000123125           Email\n",
       "3       P10000123126          Direto\n",
       "4       P10000123127  Busca orgânica\n",
       "...              ...             ...\n",
       "172026  P10000295149             NaN\n",
       "172027  P10000295150             NaN\n",
       "172028  P10000295151             NaN\n",
       "172029  P10000295152             NaN\n",
       "172030  P10000295153             NaN\n",
       "\n",
       "[172031 rows x 2 columns]"
      ]
     },
     "execution_count": 21,
     "metadata": {
      "tags": []
     },
     "output_type": "execute_result"
    }
   ],
   "source": [
    "df = pd.read_csv('/content/drive/MyDrive/Vai Academy/Case 2/Dados/ORIGEM_TRAFEGO.csv', sep = ';')\n",
    "df"
   ]
  },
  {
   "cell_type": "markdown",
   "metadata": {
    "id": "iW1pRDhahjlN"
   },
   "source": [
    "###Análise 3.1\n",
    "#### Qual o canal de marketing que mais trouxe clientes em 2020?"
   ]
  },
  {
   "cell_type": "code",
   "execution_count": null,
   "metadata": {
    "colab": {
     "base_uri": "https://localhost:8080/"
    },
    "id": "FljNfPm7hwFp",
    "outputId": "096b4719-8f22-45db-93ba-3a29ba2f4e77"
   },
   "outputs": [
    {
     "name": "stdout",
     "output_type": "stream",
     "text": [
      "<class 'pandas.core.frame.DataFrame'>\n",
      "RangeIndex: 172031 entries, 0 to 172030\n",
      "Data columns (total 2 columns):\n",
      " #   Column           Non-Null Count   Dtype \n",
      "---  ------           --------------   ----- \n",
      " 0   PEDIDO_ERP       172031 non-null  object\n",
      " 1   CANAL_MARKETING  151600 non-null  object\n",
      "dtypes: object(2)\n",
      "memory usage: 2.6+ MB\n"
     ]
    }
   ],
   "source": [
    "df.info()"
   ]
  },
  {
   "cell_type": "code",
   "execution_count": null,
   "metadata": {
    "colab": {
     "base_uri": "https://localhost:8080/",
     "height": 166
    },
    "id": "oA2vlAbDh3-K",
    "outputId": "464bca29-b33a-4b3c-82b5-23a4548b984c"
   },
   "outputs": [
    {
     "data": {
      "text/html": [
       "<div>\n",
       "<style scoped>\n",
       "    .dataframe tbody tr th:only-of-type {\n",
       "        vertical-align: middle;\n",
       "    }\n",
       "\n",
       "    .dataframe tbody tr th {\n",
       "        vertical-align: top;\n",
       "    }\n",
       "\n",
       "    .dataframe thead th {\n",
       "        text-align: right;\n",
       "    }\n",
       "</style>\n",
       "<table border=\"1\" class=\"dataframe\">\n",
       "  <thead>\n",
       "    <tr style=\"text-align: right;\">\n",
       "      <th></th>\n",
       "      <th>PEDIDO_ERP</th>\n",
       "      <th>CANAL_MARKETING</th>\n",
       "    </tr>\n",
       "  </thead>\n",
       "  <tbody>\n",
       "    <tr>\n",
       "      <th>count</th>\n",
       "      <td>172031</td>\n",
       "      <td>151600</td>\n",
       "    </tr>\n",
       "    <tr>\n",
       "      <th>unique</th>\n",
       "      <td>172031</td>\n",
       "      <td>7</td>\n",
       "    </tr>\n",
       "    <tr>\n",
       "      <th>top</th>\n",
       "      <td>P10000164257</td>\n",
       "      <td>Google Ads</td>\n",
       "    </tr>\n",
       "    <tr>\n",
       "      <th>freq</th>\n",
       "      <td>1</td>\n",
       "      <td>60935</td>\n",
       "    </tr>\n",
       "  </tbody>\n",
       "</table>\n",
       "</div>"
      ],
      "text/plain": [
       "          PEDIDO_ERP CANAL_MARKETING\n",
       "count         172031          151600\n",
       "unique        172031               7\n",
       "top     P10000164257      Google Ads\n",
       "freq               1           60935"
      ]
     },
     "execution_count": 23,
     "metadata": {
      "tags": []
     },
     "output_type": "execute_result"
    }
   ],
   "source": [
    "df.describe()"
   ]
  },
  {
   "cell_type": "code",
   "execution_count": null,
   "metadata": {
    "colab": {
     "base_uri": "https://localhost:8080/"
    },
    "id": "Fv9-U2qeiLs7",
    "outputId": "a613a1bb-3207-4383-dfd2-cc810c38faca"
   },
   "outputs": [
    {
     "data": {
      "text/plain": [
       "PEDIDO_ERP             0\n",
       "CANAL_MARKETING    20431\n",
       "dtype: int64"
      ]
     },
     "execution_count": 24,
     "metadata": {
      "tags": []
     },
     "output_type": "execute_result"
    }
   ],
   "source": [
    "df.isna().sum()"
   ]
  },
  {
   "cell_type": "markdown",
   "metadata": {
    "id": "W5W13PzZiRDL"
   },
   "source": [
    "Existem mais de 20000 pedidos onde o canal de marketing não foi especificado. Isso pode ter ocorrido por diversos motivos. De qualquer forma, manter esses dados para uma análise de quais canais trouxeram mais clientes não faz sentido."
   ]
  },
  {
   "cell_type": "code",
   "execution_count": null,
   "metadata": {
    "colab": {
     "base_uri": "https://localhost:8080/",
     "height": 254
    },
    "id": "ncHvPqekiW-B",
    "outputId": "130cb08b-557b-4f45-ec2d-84ab482791ab"
   },
   "outputs": [
    {
     "data": {
      "text/html": [
       "<div>\n",
       "<style scoped>\n",
       "    .dataframe tbody tr th:only-of-type {\n",
       "        vertical-align: middle;\n",
       "    }\n",
       "\n",
       "    .dataframe tbody tr th {\n",
       "        vertical-align: top;\n",
       "    }\n",
       "\n",
       "    .dataframe thead th {\n",
       "        text-align: right;\n",
       "    }\n",
       "</style>\n",
       "<table border=\"1\" class=\"dataframe\">\n",
       "  <thead>\n",
       "    <tr style=\"text-align: right;\">\n",
       "      <th></th>\n",
       "      <th>CANAL_MARKETING</th>\n",
       "      <th>PEDIDO_ERP</th>\n",
       "    </tr>\n",
       "  </thead>\n",
       "  <tbody>\n",
       "    <tr>\n",
       "      <th>0</th>\n",
       "      <td>Busca orgânica</td>\n",
       "      <td>28287</td>\n",
       "    </tr>\n",
       "    <tr>\n",
       "      <th>1</th>\n",
       "      <td>Direto</td>\n",
       "      <td>17270</td>\n",
       "    </tr>\n",
       "    <tr>\n",
       "      <th>2</th>\n",
       "      <td>Email</td>\n",
       "      <td>9373</td>\n",
       "    </tr>\n",
       "    <tr>\n",
       "      <th>3</th>\n",
       "      <td>Facebook Ads</td>\n",
       "      <td>14780</td>\n",
       "    </tr>\n",
       "    <tr>\n",
       "      <th>4</th>\n",
       "      <td>Google Ads</td>\n",
       "      <td>60935</td>\n",
       "    </tr>\n",
       "    <tr>\n",
       "      <th>5</th>\n",
       "      <td>Outros</td>\n",
       "      <td>10065</td>\n",
       "    </tr>\n",
       "    <tr>\n",
       "      <th>6</th>\n",
       "      <td>Referência</td>\n",
       "      <td>10890</td>\n",
       "    </tr>\n",
       "  </tbody>\n",
       "</table>\n",
       "</div>"
      ],
      "text/plain": [
       "  CANAL_MARKETING  PEDIDO_ERP\n",
       "0  Busca orgânica       28287\n",
       "1          Direto       17270\n",
       "2           Email        9373\n",
       "3    Facebook Ads       14780\n",
       "4      Google Ads       60935\n",
       "5          Outros       10065\n",
       "6      Referência       10890"
      ]
     },
     "execution_count": 25,
     "metadata": {
      "tags": []
     },
     "output_type": "execute_result"
    }
   ],
   "source": [
    "pedido_canal = df.dropna()\n",
    "pedido_canal = df.groupby(by = df.CANAL_MARKETING).count().reset_index()\n",
    "pedido_canal"
   ]
  },
  {
   "cell_type": "markdown",
   "metadata": {
    "id": "HXiqjl_qiu_R"
   },
   "source": [
    "Visualização - Numero de clientes trazidos por canal de marketing"
   ]
  },
  {
   "cell_type": "code",
   "execution_count": null,
   "metadata": {
    "colab": {
     "base_uri": "https://localhost:8080/",
     "height": 368
    },
    "id": "a0HSL1EmiyTy",
    "outputId": "cf56b227-5c49-4c5b-8cf6-20d28398dbc8"
   },
   "outputs": [
    {
     "data": {
      "text/plain": [
       "<BarContainer object of 7 artists>"
      ]
     },
     "execution_count": 26,
     "metadata": {
      "tags": []
     },
     "output_type": "execute_result"
    },
    {
     "data": {
      "image/png": "[encoded data removed]",
      "text/plain": [
       "<Figure size 432x288 with 1 Axes>"
      ]
     },
     "metadata": {
      "needs_background": "light",
      "tags": []
     },
     "output_type": "display_data"
    }
   ],
   "source": [
    "x_axis = pedido_canal.CANAL_MARKETING\n",
    "y_axis = pedido_canal.PEDIDO_ERP\n",
    "title = 'Clientes trazidos por canal de marketing'\n",
    "x_label = 'Canal de Marketing'\n",
    "y_label = 'Numero de clientes'\n",
    "plt.title(title)\n",
    "plt.xlabel(x_label)\n",
    "plt.ylabel(y_label)\n",
    "plt.xticks(rotation = 50, ha = 'right' )\n",
    "plt.bar(x_axis, y_axis)\n",
    "\n"
   ]
  },
  {
   "cell_type": "markdown",
   "metadata": {
    "id": "AwT5sOgWjW6e"
   },
   "source": [
    "###Análise 3.2\n",
    "####Qual foi a receita e margem dos clientes em cada canal?"
   ]
  },
  {
   "cell_type": "markdown",
   "metadata": {
    "id": "0TVtqPyHj1qK"
   },
   "source": [
    "Importando base de dados Gasto_com_Mídia"
   ]
  },
  {
   "cell_type": "code",
   "execution_count": null,
   "metadata": {
    "colab": {
     "base_uri": "https://localhost:8080/"
    },
    "id": "28K8_3aojugT",
    "outputId": "7be4530d-0383-4236-a212-81e746991255"
   },
   "outputs": [
    {
     "name": "stdout",
     "output_type": "stream",
     "text": [
      "<class 'pandas.core.frame.DataFrame'>\n",
      "RangeIndex: 456 entries, 0 to 455\n",
      "Data columns (total 3 columns):\n",
      " #   Column        Non-Null Count  Dtype         \n",
      "---  ------        --------------  -----         \n",
      " 0   Dia           456 non-null    datetime64[ns]\n",
      " 1   Facebook Ads  410 non-null    float64       \n",
      " 2   Google Ads    456 non-null    float64       \n",
      "dtypes: datetime64[ns](1), float64(2)\n",
      "memory usage: 10.8 KB\n"
     ]
    }
   ],
   "source": [
    "df_midia = pd.read_excel('/content/drive/MyDrive/Vai Academy/Case 2/Dados/Gasto com Mídia.xlsx')\n",
    "df_midia.info()"
   ]
  },
  {
   "cell_type": "code",
   "execution_count": null,
   "metadata": {
    "colab": {
     "base_uri": "https://localhost:8080/"
    },
    "id": "zhK2eksik4cZ",
    "outputId": "c4211a43-a9c4-4f47-de6c-6cca3d37dca4"
   },
   "outputs": [
    {
     "data": {
      "text/plain": [
       "Dia              0\n",
       "Facebook Ads    46\n",
       "Google Ads       0\n",
       "dtype: int64"
      ]
     },
     "execution_count": 28,
     "metadata": {
      "tags": []
     },
     "output_type": "execute_result"
    }
   ],
   "source": [
    "df_midia.isna().sum()"
   ]
  },
  {
   "cell_type": "markdown",
   "metadata": {
    "id": "fpF_LvN_k7cn"
   },
   "source": [
    "Observa-se que em 46 dias não tem dados sobre gastos com facebook ads. Esse valor sera interpretado como 0, ou seja, não houve gastos nesses dias"
   ]
  },
  {
   "cell_type": "code",
   "execution_count": null,
   "metadata": {
    "id": "YTV8wDo2k6Wm"
   },
   "outputs": [],
   "source": [
    "df_midia = df_midia.fillna(value = 0)\n"
   ]
  },
  {
   "cell_type": "code",
   "execution_count": null,
   "metadata": {
    "colab": {
     "base_uri": "https://localhost:8080/",
     "height": 402
    },
    "id": "Mgi1EBKBlDea",
    "outputId": "59b03e01-dc60-49a4-c639-2565d6f6bf9f"
   },
   "outputs": [
    {
     "data": {
      "text/html": [
       "<div>\n",
       "<style scoped>\n",
       "    .dataframe tbody tr th:only-of-type {\n",
       "        vertical-align: middle;\n",
       "    }\n",
       "\n",
       "    .dataframe tbody tr th {\n",
       "        vertical-align: top;\n",
       "    }\n",
       "\n",
       "    .dataframe thead th {\n",
       "        text-align: right;\n",
       "    }\n",
       "</style>\n",
       "<table border=\"1\" class=\"dataframe\">\n",
       "  <thead>\n",
       "    <tr style=\"text-align: right;\">\n",
       "      <th></th>\n",
       "      <th>Dia</th>\n",
       "      <th>Facebook Ads</th>\n",
       "      <th>Google Ads</th>\n",
       "    </tr>\n",
       "  </thead>\n",
       "  <tbody>\n",
       "    <tr>\n",
       "      <th>0</th>\n",
       "      <td>2020-01-01</td>\n",
       "      <td>0.00</td>\n",
       "      <td>987.46</td>\n",
       "    </tr>\n",
       "    <tr>\n",
       "      <th>1</th>\n",
       "      <td>2020-01-02</td>\n",
       "      <td>0.00</td>\n",
       "      <td>1165.32</td>\n",
       "    </tr>\n",
       "    <tr>\n",
       "      <th>2</th>\n",
       "      <td>2020-01-03</td>\n",
       "      <td>0.00</td>\n",
       "      <td>876.76</td>\n",
       "    </tr>\n",
       "    <tr>\n",
       "      <th>3</th>\n",
       "      <td>2020-01-04</td>\n",
       "      <td>0.00</td>\n",
       "      <td>804.85</td>\n",
       "    </tr>\n",
       "    <tr>\n",
       "      <th>4</th>\n",
       "      <td>2020-01-05</td>\n",
       "      <td>0.00</td>\n",
       "      <td>899.13</td>\n",
       "    </tr>\n",
       "    <tr>\n",
       "      <th>...</th>\n",
       "      <td>...</td>\n",
       "      <td>...</td>\n",
       "      <td>...</td>\n",
       "    </tr>\n",
       "    <tr>\n",
       "      <th>451</th>\n",
       "      <td>2021-03-27</td>\n",
       "      <td>350.57</td>\n",
       "      <td>778.54</td>\n",
       "    </tr>\n",
       "    <tr>\n",
       "      <th>452</th>\n",
       "      <td>2021-03-28</td>\n",
       "      <td>371.65</td>\n",
       "      <td>994.93</td>\n",
       "    </tr>\n",
       "    <tr>\n",
       "      <th>453</th>\n",
       "      <td>2021-03-29</td>\n",
       "      <td>306.72</td>\n",
       "      <td>894.11</td>\n",
       "    </tr>\n",
       "    <tr>\n",
       "      <th>454</th>\n",
       "      <td>2021-03-30</td>\n",
       "      <td>303.54</td>\n",
       "      <td>651.89</td>\n",
       "    </tr>\n",
       "    <tr>\n",
       "      <th>455</th>\n",
       "      <td>2021-03-31</td>\n",
       "      <td>333.58</td>\n",
       "      <td>611.09</td>\n",
       "    </tr>\n",
       "  </tbody>\n",
       "</table>\n",
       "<p>456 rows × 3 columns</p>\n",
       "</div>"
      ],
      "text/plain": [
       "           Dia  Facebook Ads  Google Ads\n",
       "0   2020-01-01          0.00      987.46\n",
       "1   2020-01-02          0.00     1165.32\n",
       "2   2020-01-03          0.00      876.76\n",
       "3   2020-01-04          0.00      804.85\n",
       "4   2020-01-05          0.00      899.13\n",
       "..         ...           ...         ...\n",
       "451 2021-03-27        350.57      778.54\n",
       "452 2021-03-28        371.65      994.93\n",
       "453 2021-03-29        306.72      894.11\n",
       "454 2021-03-30        303.54      651.89\n",
       "455 2021-03-31        333.58      611.09\n",
       "\n",
       "[456 rows x 3 columns]"
      ]
     },
     "execution_count": 30,
     "metadata": {
      "tags": []
     },
     "output_type": "execute_result"
    }
   ],
   "source": [
    "df_midia = df_midia.sort_values(by = ['Dia'], ascending = True)\n",
    "df_midia"
   ]
  },
  {
   "cell_type": "markdown",
   "metadata": {
    "id": "3qN1uHw9lMJE"
   },
   "source": [
    "Observa-se que os dados das campanhas de mídia vão do dia 01-01-2020 até 31-03-2021. Porém, os dados de receita vão até 10-12-2020. Portanto será considerado até essa data"
   ]
  },
  {
   "cell_type": "code",
   "execution_count": null,
   "metadata": {
    "colab": {
     "base_uri": "https://localhost:8080/",
     "height": 402
    },
    "id": "njvflX0Mla-d",
    "outputId": "96a21cd7-a5c6-4da0-cfe4-db4163c95a14"
   },
   "outputs": [
    {
     "data": {
      "text/html": [
       "<div>\n",
       "<style scoped>\n",
       "    .dataframe tbody tr th:only-of-type {\n",
       "        vertical-align: middle;\n",
       "    }\n",
       "\n",
       "    .dataframe tbody tr th {\n",
       "        vertical-align: top;\n",
       "    }\n",
       "\n",
       "    .dataframe thead th {\n",
       "        text-align: right;\n",
       "    }\n",
       "</style>\n",
       "<table border=\"1\" class=\"dataframe\">\n",
       "  <thead>\n",
       "    <tr style=\"text-align: right;\">\n",
       "      <th></th>\n",
       "      <th>Dia</th>\n",
       "      <th>Facebook Ads</th>\n",
       "      <th>Google Ads</th>\n",
       "    </tr>\n",
       "  </thead>\n",
       "  <tbody>\n",
       "    <tr>\n",
       "      <th>0</th>\n",
       "      <td>2020-01-01</td>\n",
       "      <td>0.00</td>\n",
       "      <td>987.46</td>\n",
       "    </tr>\n",
       "    <tr>\n",
       "      <th>1</th>\n",
       "      <td>2020-01-02</td>\n",
       "      <td>0.00</td>\n",
       "      <td>1165.32</td>\n",
       "    </tr>\n",
       "    <tr>\n",
       "      <th>2</th>\n",
       "      <td>2020-01-03</td>\n",
       "      <td>0.00</td>\n",
       "      <td>876.76</td>\n",
       "    </tr>\n",
       "    <tr>\n",
       "      <th>3</th>\n",
       "      <td>2020-01-04</td>\n",
       "      <td>0.00</td>\n",
       "      <td>804.85</td>\n",
       "    </tr>\n",
       "    <tr>\n",
       "      <th>4</th>\n",
       "      <td>2020-01-05</td>\n",
       "      <td>0.00</td>\n",
       "      <td>899.13</td>\n",
       "    </tr>\n",
       "    <tr>\n",
       "      <th>...</th>\n",
       "      <td>...</td>\n",
       "      <td>...</td>\n",
       "      <td>...</td>\n",
       "    </tr>\n",
       "    <tr>\n",
       "      <th>340</th>\n",
       "      <td>2020-12-06</td>\n",
       "      <td>1060.67</td>\n",
       "      <td>1920.81</td>\n",
       "    </tr>\n",
       "    <tr>\n",
       "      <th>341</th>\n",
       "      <td>2020-12-07</td>\n",
       "      <td>1051.21</td>\n",
       "      <td>2815.89</td>\n",
       "    </tr>\n",
       "    <tr>\n",
       "      <th>342</th>\n",
       "      <td>2020-12-08</td>\n",
       "      <td>1098.05</td>\n",
       "      <td>2428.61</td>\n",
       "    </tr>\n",
       "    <tr>\n",
       "      <th>343</th>\n",
       "      <td>2020-12-09</td>\n",
       "      <td>1036.59</td>\n",
       "      <td>1967.35</td>\n",
       "    </tr>\n",
       "    <tr>\n",
       "      <th>344</th>\n",
       "      <td>2020-12-10</td>\n",
       "      <td>923.61</td>\n",
       "      <td>1733.82</td>\n",
       "    </tr>\n",
       "  </tbody>\n",
       "</table>\n",
       "<p>345 rows × 3 columns</p>\n",
       "</div>"
      ],
      "text/plain": [
       "           Dia  Facebook Ads  Google Ads\n",
       "0   2020-01-01          0.00      987.46\n",
       "1   2020-01-02          0.00     1165.32\n",
       "2   2020-01-03          0.00      876.76\n",
       "3   2020-01-04          0.00      804.85\n",
       "4   2020-01-05          0.00      899.13\n",
       "..         ...           ...         ...\n",
       "340 2020-12-06       1060.67     1920.81\n",
       "341 2020-12-07       1051.21     2815.89\n",
       "342 2020-12-08       1098.05     2428.61\n",
       "343 2020-12-09       1036.59     1967.35\n",
       "344 2020-12-10        923.61     1733.82\n",
       "\n",
       "[345 rows x 3 columns]"
      ]
     },
     "execution_count": 31,
     "metadata": {
      "tags": []
     },
     "output_type": "execute_result"
    }
   ],
   "source": [
    "df_midia = df_midia.iloc[:345, :]\n",
    "df_midia"
   ]
  },
  {
   "cell_type": "markdown",
   "metadata": {
    "id": "MI_4sNxVlgyX"
   },
   "source": [
    "Observando gasto com campanha por mês"
   ]
  },
  {
   "cell_type": "code",
   "execution_count": null,
   "metadata": {
    "colab": {
     "base_uri": "https://localhost:8080/",
     "height": 523
    },
    "id": "eeoNJrQyljuY",
    "outputId": "0d5d0a83-5084-4653-a544-0044b09c25ae"
   },
   "outputs": [
    {
     "name": "stderr",
     "output_type": "stream",
     "text": [
      "/usr/local/lib/python3.7/dist-packages/ipykernel_launcher.py:1: SettingWithCopyWarning: \n",
      "A value is trying to be set on a copy of a slice from a DataFrame.\n",
      "Try using .loc[row_indexer,col_indexer] = value instead\n",
      "\n",
      "See the caveats in the documentation: https://pandas.pydata.org/pandas-docs/stable/user_guide/indexing.html#returning-a-view-versus-a-copy\n",
      "  \"\"\"Entry point for launching an IPython kernel.\n"
     ]
    },
    {
     "data": {
      "text/html": [
       "<div>\n",
       "<style scoped>\n",
       "    .dataframe tbody tr th:only-of-type {\n",
       "        vertical-align: middle;\n",
       "    }\n",
       "\n",
       "    .dataframe tbody tr th {\n",
       "        vertical-align: top;\n",
       "    }\n",
       "\n",
       "    .dataframe thead th {\n",
       "        text-align: right;\n",
       "    }\n",
       "</style>\n",
       "<table border=\"1\" class=\"dataframe\">\n",
       "  <thead>\n",
       "    <tr style=\"text-align: right;\">\n",
       "      <th></th>\n",
       "      <th>Mes</th>\n",
       "      <th>Facebook Ads</th>\n",
       "      <th>Google Ads</th>\n",
       "    </tr>\n",
       "  </thead>\n",
       "  <tbody>\n",
       "    <tr>\n",
       "      <th>0</th>\n",
       "      <td>1</td>\n",
       "      <td>0.00</td>\n",
       "      <td>13328.63</td>\n",
       "    </tr>\n",
       "    <tr>\n",
       "      <th>1</th>\n",
       "      <td>2</td>\n",
       "      <td>8687.81</td>\n",
       "      <td>13371.03</td>\n",
       "    </tr>\n",
       "    <tr>\n",
       "      <th>2</th>\n",
       "      <td>3</td>\n",
       "      <td>24190.22</td>\n",
       "      <td>10814.21</td>\n",
       "    </tr>\n",
       "    <tr>\n",
       "      <th>3</th>\n",
       "      <td>4</td>\n",
       "      <td>36301.19</td>\n",
       "      <td>9608.02</td>\n",
       "    </tr>\n",
       "    <tr>\n",
       "      <th>4</th>\n",
       "      <td>5</td>\n",
       "      <td>94095.11</td>\n",
       "      <td>28051.49</td>\n",
       "    </tr>\n",
       "    <tr>\n",
       "      <th>5</th>\n",
       "      <td>6</td>\n",
       "      <td>111308.51</td>\n",
       "      <td>33551.99</td>\n",
       "    </tr>\n",
       "    <tr>\n",
       "      <th>6</th>\n",
       "      <td>7</td>\n",
       "      <td>89841.67</td>\n",
       "      <td>21001.91</td>\n",
       "    </tr>\n",
       "    <tr>\n",
       "      <th>7</th>\n",
       "      <td>8</td>\n",
       "      <td>77997.83</td>\n",
       "      <td>17279.75</td>\n",
       "    </tr>\n",
       "    <tr>\n",
       "      <th>8</th>\n",
       "      <td>9</td>\n",
       "      <td>43930.43</td>\n",
       "      <td>17787.46</td>\n",
       "    </tr>\n",
       "    <tr>\n",
       "      <th>9</th>\n",
       "      <td>10</td>\n",
       "      <td>28886.52</td>\n",
       "      <td>20473.09</td>\n",
       "    </tr>\n",
       "    <tr>\n",
       "      <th>10</th>\n",
       "      <td>11</td>\n",
       "      <td>66480.40</td>\n",
       "      <td>65934.03</td>\n",
       "    </tr>\n",
       "    <tr>\n",
       "      <th>11</th>\n",
       "      <td>12</td>\n",
       "      <td>10339.58</td>\n",
       "      <td>19424.46</td>\n",
       "    </tr>\n",
       "  </tbody>\n",
       "</table>\n",
       "</div>"
      ],
      "text/plain": [
       "    Mes  Facebook Ads  Google Ads\n",
       "0     1          0.00    13328.63\n",
       "1     2       8687.81    13371.03\n",
       "2     3      24190.22    10814.21\n",
       "3     4      36301.19     9608.02\n",
       "4     5      94095.11    28051.49\n",
       "5     6     111308.51    33551.99\n",
       "6     7      89841.67    21001.91\n",
       "7     8      77997.83    17279.75\n",
       "8     9      43930.43    17787.46\n",
       "9    10      28886.52    20473.09\n",
       "10   11      66480.40    65934.03\n",
       "11   12      10339.58    19424.46"
      ]
     },
     "execution_count": 32,
     "metadata": {
      "tags": []
     },
     "output_type": "execute_result"
    }
   ],
   "source": [
    "df_midia['Mes'] = df_midia['Dia'].dt.month\n",
    "df_midia_mensal = df_midia.iloc[:, 1:]\n",
    "df_midia_mensal = df_midia_mensal.groupby(by = ['Mes']).sum().reset_index()\n",
    "df_midia_mensal"
   ]
  },
  {
   "cell_type": "markdown",
   "metadata": {
    "id": "WGkf1_c6nzEl"
   },
   "source": [
    "Visualização - Gasto Mensal com Marketing"
   ]
  },
  {
   "cell_type": "code",
   "execution_count": null,
   "metadata": {
    "colab": {
     "base_uri": "https://localhost:8080/",
     "height": 312
    },
    "id": "4S-yII4Gn04U",
    "outputId": "bf9dafb1-a895-4fdf-cb5e-c36892417fc0"
   },
   "outputs": [
    {
     "data": {
      "text/plain": [
       "<matplotlib.legend.Legend at 0x7f55683a91d0>"
      ]
     },
     "execution_count": 33,
     "metadata": {
      "tags": []
     },
     "output_type": "execute_result"
    },
    {
     "data": {
      "image/png": "[encoded data removed]",
      "text/plain": [
       "<Figure size 432x288 with 1 Axes>"
      ]
     },
     "metadata": {
      "needs_background": "light",
      "tags": []
     },
     "output_type": "display_data"
    }
   ],
   "source": [
    "x_axis = df_midia_mensal.Mes\n",
    "y_axis_g = df_midia_mensal['Google Ads']\n",
    "y_axis_f = df_midia_mensal['Facebook Ads']\n",
    "title = 'Gasto mensal com marketing'\n",
    "xlabel = 'Meses'\n",
    "ylabel = 'Gasto com marketing'\n",
    "plt.title(title)\n",
    "plt.xlabel(xlabel)\n",
    "plt.ylabel(ylabel)\n",
    "#plt.grid(axis = 'both')\n",
    "plt.xticks(x_axis)\n",
    "plt.plot(x_axis, y_axis_g, label = 'Google Ads')\n",
    "plt.plot(x_axis, y_axis_f, label = 'Facebook Ads')\n",
    "plt.legend()"
   ]
  },
  {
   "cell_type": "markdown",
   "metadata": {
    "id": "MiVl-0KooQqE"
   },
   "source": [
    "Ao longo de 2020 o gasto com Facebook Ads foi maior comparado com Google Ads. No mês 6 e no mês 11 houve um pico de gasto com marketing. Esse foram os meses que tiveram maior receita"
   ]
  },
  {
   "cell_type": "markdown",
   "metadata": {
    "id": "8lia22CRoug4"
   },
   "source": [
    "Criando o df de receita por canal composto pela lista de pedido_erp com o respectivo canal de marketing, merged com a lista de pedido_erp e a receita do pedido."
   ]
  },
  {
   "cell_type": "code",
   "execution_count": null,
   "metadata": {
    "colab": {
     "base_uri": "https://localhost:8080/",
     "height": 402
    },
    "id": "W2trjc5sowzg",
    "outputId": "e8465826-28c3-4486-afca-ff67c505f95c"
   },
   "outputs": [
    {
     "data": {
      "text/html": [
       "<div>\n",
       "<style scoped>\n",
       "    .dataframe tbody tr th:only-of-type {\n",
       "        vertical-align: middle;\n",
       "    }\n",
       "\n",
       "    .dataframe tbody tr th {\n",
       "        vertical-align: top;\n",
       "    }\n",
       "\n",
       "    .dataframe thead th {\n",
       "        text-align: right;\n",
       "    }\n",
       "</style>\n",
       "<table border=\"1\" class=\"dataframe\">\n",
       "  <thead>\n",
       "    <tr style=\"text-align: right;\">\n",
       "      <th></th>\n",
       "      <th>PEDIDO_ERP</th>\n",
       "      <th>CANAL_MARKETING</th>\n",
       "    </tr>\n",
       "  </thead>\n",
       "  <tbody>\n",
       "    <tr>\n",
       "      <th>0</th>\n",
       "      <td>P10000123123</td>\n",
       "      <td>Google Ads</td>\n",
       "    </tr>\n",
       "    <tr>\n",
       "      <th>1</th>\n",
       "      <td>P10000123124</td>\n",
       "      <td>Facebook Ads</td>\n",
       "    </tr>\n",
       "    <tr>\n",
       "      <th>2</th>\n",
       "      <td>P10000123125</td>\n",
       "      <td>Email</td>\n",
       "    </tr>\n",
       "    <tr>\n",
       "      <th>3</th>\n",
       "      <td>P10000123126</td>\n",
       "      <td>Direto</td>\n",
       "    </tr>\n",
       "    <tr>\n",
       "      <th>4</th>\n",
       "      <td>P10000123127</td>\n",
       "      <td>Busca orgânica</td>\n",
       "    </tr>\n",
       "    <tr>\n",
       "      <th>...</th>\n",
       "      <td>...</td>\n",
       "      <td>...</td>\n",
       "    </tr>\n",
       "    <tr>\n",
       "      <th>168860</th>\n",
       "      <td>P10000291983</td>\n",
       "      <td>Facebook Ads</td>\n",
       "    </tr>\n",
       "    <tr>\n",
       "      <th>168861</th>\n",
       "      <td>P10000291984</td>\n",
       "      <td>Email</td>\n",
       "    </tr>\n",
       "    <tr>\n",
       "      <th>168866</th>\n",
       "      <td>P10000291989</td>\n",
       "      <td>Google Ads</td>\n",
       "    </tr>\n",
       "    <tr>\n",
       "      <th>168867</th>\n",
       "      <td>P10000291990</td>\n",
       "      <td>Google Ads</td>\n",
       "    </tr>\n",
       "    <tr>\n",
       "      <th>168868</th>\n",
       "      <td>P10000291991</td>\n",
       "      <td>Busca orgânica</td>\n",
       "    </tr>\n",
       "  </tbody>\n",
       "</table>\n",
       "<p>151600 rows × 2 columns</p>\n",
       "</div>"
      ],
      "text/plain": [
       "          PEDIDO_ERP CANAL_MARKETING\n",
       "0       P10000123123      Google Ads\n",
       "1       P10000123124    Facebook Ads\n",
       "2       P10000123125           Email\n",
       "3       P10000123126          Direto\n",
       "4       P10000123127  Busca orgânica\n",
       "...              ...             ...\n",
       "168860  P10000291983    Facebook Ads\n",
       "168861  P10000291984           Email\n",
       "168866  P10000291989      Google Ads\n",
       "168867  P10000291990      Google Ads\n",
       "168868  P10000291991  Busca orgânica\n",
       "\n",
       "[151600 rows x 2 columns]"
      ]
     },
     "execution_count": 34,
     "metadata": {
      "tags": []
     },
     "output_type": "execute_result"
    }
   ],
   "source": [
    "pedido_midia = df.dropna()\n",
    "pedido_midia"
   ]
  },
  {
   "cell_type": "code",
   "execution_count": null,
   "metadata": {
    "colab": {
     "base_uri": "https://localhost:8080/",
     "height": 160
    },
    "id": "fSyrkpy9o7f0",
    "outputId": "a4c97f59-f44b-41c1-e3ff-5af0dcfe2a42"
   },
   "outputs": [
    {
     "data": {
      "text/html": [
       "<div>\n",
       "<style scoped>\n",
       "    .dataframe tbody tr th:only-of-type {\n",
       "        vertical-align: middle;\n",
       "    }\n",
       "\n",
       "    .dataframe tbody tr th {\n",
       "        vertical-align: top;\n",
       "    }\n",
       "\n",
       "    .dataframe thead th {\n",
       "        text-align: right;\n",
       "    }\n",
       "</style>\n",
       "<table border=\"1\" class=\"dataframe\">\n",
       "  <thead>\n",
       "    <tr style=\"text-align: right;\">\n",
       "      <th></th>\n",
       "      <th>DATA_VENDA</th>\n",
       "      <th>PEDIDO</th>\n",
       "      <th>PEDIDO_ERP</th>\n",
       "      <th>COD_CLIENTE</th>\n",
       "      <th>PRODUTO</th>\n",
       "      <th>QTDE</th>\n",
       "      <th>PRECO_UNITARIO</th>\n",
       "      <th>DESCONTO_ITEM</th>\n",
       "      <th>FRETE_PAGO_CLIENTE</th>\n",
       "      <th>RECEITA</th>\n",
       "      <th>CUSTO_FRETE</th>\n",
       "    </tr>\n",
       "  </thead>\n",
       "  <tbody>\n",
       "    <tr>\n",
       "      <th>3944</th>\n",
       "      <td>2020-01-01 00:00:00.000000</td>\n",
       "      <td>7000002</td>\n",
       "      <td>P10000123125</td>\n",
       "      <td>4067390</td>\n",
       "      <td>B10058G</td>\n",
       "      <td>1</td>\n",
       "      <td>29.9</td>\n",
       "      <td>-29.90</td>\n",
       "      <td>13.57</td>\n",
       "      <td>13.57</td>\n",
       "      <td>13.57</td>\n",
       "    </tr>\n",
       "    <tr>\n",
       "      <th>3945</th>\n",
       "      <td>2020-01-01 00:00:00.000000</td>\n",
       "      <td>7000002</td>\n",
       "      <td>P10000123125</td>\n",
       "      <td>4067390</td>\n",
       "      <td>E10300Y</td>\n",
       "      <td>1</td>\n",
       "      <td>289.9</td>\n",
       "      <td>-86.97</td>\n",
       "      <td>13.57</td>\n",
       "      <td>216.50</td>\n",
       "      <td>13.57</td>\n",
       "    </tr>\n",
       "  </tbody>\n",
       "</table>\n",
       "</div>"
      ],
      "text/plain": [
       "                      DATA_VENDA   PEDIDO  ... RECEITA  CUSTO_FRETE\n",
       "3944  2020-01-01 00:00:00.000000  7000002  ...   13.57        13.57\n",
       "3945  2020-01-01 00:00:00.000000  7000002  ...  216.50        13.57\n",
       "\n",
       "[2 rows x 11 columns]"
      ]
     },
     "execution_count": 35,
     "metadata": {
      "tags": []
     },
     "output_type": "execute_result"
    }
   ],
   "source": [
    " query ='SELECT * FROM pedidos'\n",
    " qpee = pd.read_sql_query(query, engine)\n",
    " qpee[qpee.PEDIDO_ERP == 'P10000123125']"
   ]
  },
  {
   "cell_type": "markdown",
   "metadata": {
    "id": "45iDVZ3-pCHv"
   },
   "source": [
    "A partir da análise acima é possivel observar que existem diversas linhas para o mesmo pedido. Cada linha correponde a um produto do pedido. Portanto, para as analises desejadas, seria interessante fazer a soma da receita"
   ]
  },
  {
   "cell_type": "code",
   "execution_count": null,
   "metadata": {
    "colab": {
     "base_uri": "https://localhost:8080/",
     "height": 431
    },
    "id": "paIAGBUgpEui",
    "outputId": "7e558de6-e83b-4f83-a171-62682f1c0d0f"
   },
   "outputs": [
    {
     "data": {
      "text/html": [
       "<div>\n",
       "<style scoped>\n",
       "    .dataframe tbody tr th:only-of-type {\n",
       "        vertical-align: middle;\n",
       "    }\n",
       "\n",
       "    .dataframe tbody tr th {\n",
       "        vertical-align: top;\n",
       "    }\n",
       "\n",
       "    .dataframe thead th {\n",
       "        text-align: right;\n",
       "    }\n",
       "</style>\n",
       "<table border=\"1\" class=\"dataframe\">\n",
       "  <thead>\n",
       "    <tr style=\"text-align: right;\">\n",
       "      <th></th>\n",
       "      <th>RECEITA</th>\n",
       "    </tr>\n",
       "    <tr>\n",
       "      <th>PEDIDO_ERP</th>\n",
       "      <th></th>\n",
       "    </tr>\n",
       "  </thead>\n",
       "  <tbody>\n",
       "    <tr>\n",
       "      <th>P10000123123</th>\n",
       "      <td>182.22</td>\n",
       "    </tr>\n",
       "    <tr>\n",
       "      <th>P10000123124</th>\n",
       "      <td>189.90</td>\n",
       "    </tr>\n",
       "    <tr>\n",
       "      <th>P10000123125</th>\n",
       "      <td>230.07</td>\n",
       "    </tr>\n",
       "    <tr>\n",
       "      <th>P10000123126</th>\n",
       "      <td>24.90</td>\n",
       "    </tr>\n",
       "    <tr>\n",
       "      <th>P10000123127</th>\n",
       "      <td>114.17</td>\n",
       "    </tr>\n",
       "    <tr>\n",
       "      <th>...</th>\n",
       "      <td>...</td>\n",
       "    </tr>\n",
       "    <tr>\n",
       "      <th>P10000295149</th>\n",
       "      <td>52.90</td>\n",
       "    </tr>\n",
       "    <tr>\n",
       "      <th>P10000295150</th>\n",
       "      <td>58.82</td>\n",
       "    </tr>\n",
       "    <tr>\n",
       "      <th>P10000295151</th>\n",
       "      <td>104.90</td>\n",
       "    </tr>\n",
       "    <tr>\n",
       "      <th>P10000295152</th>\n",
       "      <td>54.48</td>\n",
       "    </tr>\n",
       "    <tr>\n",
       "      <th>P10000295153</th>\n",
       "      <td>52.90</td>\n",
       "    </tr>\n",
       "  </tbody>\n",
       "</table>\n",
       "<p>172031 rows × 1 columns</p>\n",
       "</div>"
      ],
      "text/plain": [
       "              RECEITA\n",
       "PEDIDO_ERP           \n",
       "P10000123123   182.22\n",
       "P10000123124   189.90\n",
       "P10000123125   230.07\n",
       "P10000123126    24.90\n",
       "P10000123127   114.17\n",
       "...               ...\n",
       "P10000295149    52.90\n",
       "P10000295150    58.82\n",
       "P10000295151   104.90\n",
       "P10000295152    54.48\n",
       "P10000295153    52.90\n",
       "\n",
       "[172031 rows x 1 columns]"
      ]
     },
     "execution_count": 36,
     "metadata": {
      "tags": []
     },
     "output_type": "execute_result"
    }
   ],
   "source": [
    "query = 'SELECT pedido_erp, receita FROM pedidos'\n",
    "pedido_receita = pd.read_sql_query(query, engine)\n",
    "pedido_receita = pedido_receita.groupby(by = 'PEDIDO_ERP').sum()\n",
    "pedido_receita.shape\n",
    "pedido_receita"
   ]
  },
  {
   "cell_type": "code",
   "execution_count": null,
   "metadata": {
    "colab": {
     "base_uri": "https://localhost:8080/",
     "height": 402
    },
    "id": "IYVLHFBZp0BX",
    "outputId": "b42dd7d0-5c7a-4ce1-d48b-92a649155675"
   },
   "outputs": [
    {
     "data": {
      "text/html": [
       "<div>\n",
       "<style scoped>\n",
       "    .dataframe tbody tr th:only-of-type {\n",
       "        vertical-align: middle;\n",
       "    }\n",
       "\n",
       "    .dataframe tbody tr th {\n",
       "        vertical-align: top;\n",
       "    }\n",
       "\n",
       "    .dataframe thead th {\n",
       "        text-align: right;\n",
       "    }\n",
       "</style>\n",
       "<table border=\"1\" class=\"dataframe\">\n",
       "  <thead>\n",
       "    <tr style=\"text-align: right;\">\n",
       "      <th></th>\n",
       "      <th>PEDIDO_ERP</th>\n",
       "      <th>CANAL_MARKETING</th>\n",
       "      <th>RECEITA</th>\n",
       "    </tr>\n",
       "  </thead>\n",
       "  <tbody>\n",
       "    <tr>\n",
       "      <th>0</th>\n",
       "      <td>P10000123123</td>\n",
       "      <td>Google Ads</td>\n",
       "      <td>182.22</td>\n",
       "    </tr>\n",
       "    <tr>\n",
       "      <th>1</th>\n",
       "      <td>P10000123124</td>\n",
       "      <td>Facebook Ads</td>\n",
       "      <td>189.90</td>\n",
       "    </tr>\n",
       "    <tr>\n",
       "      <th>2</th>\n",
       "      <td>P10000123125</td>\n",
       "      <td>Email</td>\n",
       "      <td>230.07</td>\n",
       "    </tr>\n",
       "    <tr>\n",
       "      <th>3</th>\n",
       "      <td>P10000123126</td>\n",
       "      <td>Direto</td>\n",
       "      <td>24.90</td>\n",
       "    </tr>\n",
       "    <tr>\n",
       "      <th>4</th>\n",
       "      <td>P10000123127</td>\n",
       "      <td>Busca orgânica</td>\n",
       "      <td>114.17</td>\n",
       "    </tr>\n",
       "    <tr>\n",
       "      <th>...</th>\n",
       "      <td>...</td>\n",
       "      <td>...</td>\n",
       "      <td>...</td>\n",
       "    </tr>\n",
       "    <tr>\n",
       "      <th>151595</th>\n",
       "      <td>P10000291983</td>\n",
       "      <td>Facebook Ads</td>\n",
       "      <td>499.70</td>\n",
       "    </tr>\n",
       "    <tr>\n",
       "      <th>151596</th>\n",
       "      <td>P10000291984</td>\n",
       "      <td>Email</td>\n",
       "      <td>99.90</td>\n",
       "    </tr>\n",
       "    <tr>\n",
       "      <th>151597</th>\n",
       "      <td>P10000291989</td>\n",
       "      <td>Google Ads</td>\n",
       "      <td>172.90</td>\n",
       "    </tr>\n",
       "    <tr>\n",
       "      <th>151598</th>\n",
       "      <td>P10000291990</td>\n",
       "      <td>Google Ads</td>\n",
       "      <td>299.90</td>\n",
       "    </tr>\n",
       "    <tr>\n",
       "      <th>151599</th>\n",
       "      <td>P10000291991</td>\n",
       "      <td>Busca orgânica</td>\n",
       "      <td>183.69</td>\n",
       "    </tr>\n",
       "  </tbody>\n",
       "</table>\n",
       "<p>151600 rows × 3 columns</p>\n",
       "</div>"
      ],
      "text/plain": [
       "          PEDIDO_ERP CANAL_MARKETING  RECEITA\n",
       "0       P10000123123      Google Ads   182.22\n",
       "1       P10000123124    Facebook Ads   189.90\n",
       "2       P10000123125           Email   230.07\n",
       "3       P10000123126          Direto    24.90\n",
       "4       P10000123127  Busca orgânica   114.17\n",
       "...              ...             ...      ...\n",
       "151595  P10000291983    Facebook Ads   499.70\n",
       "151596  P10000291984           Email    99.90\n",
       "151597  P10000291989      Google Ads   172.90\n",
       "151598  P10000291990      Google Ads   299.90\n",
       "151599  P10000291991  Busca orgânica   183.69\n",
       "\n",
       "[151600 rows x 3 columns]"
      ]
     },
     "execution_count": 37,
     "metadata": {
      "tags": []
     },
     "output_type": "execute_result"
    }
   ],
   "source": [
    "pedidos = pd.merge(pedido_midia, pedido_receita, how='inner', on = 'PEDIDO_ERP')\n",
    "pedidos"
   ]
  },
  {
   "cell_type": "code",
   "execution_count": null,
   "metadata": {
    "colab": {
     "base_uri": "https://localhost:8080/",
     "height": 254
    },
    "id": "Pl2XfwsMqFd9",
    "outputId": "f7949f25-b50b-404b-df8f-9fe2812a42b3"
   },
   "outputs": [
    {
     "data": {
      "text/html": [
       "<div>\n",
       "<style scoped>\n",
       "    .dataframe tbody tr th:only-of-type {\n",
       "        vertical-align: middle;\n",
       "    }\n",
       "\n",
       "    .dataframe tbody tr th {\n",
       "        vertical-align: top;\n",
       "    }\n",
       "\n",
       "    .dataframe thead th {\n",
       "        text-align: right;\n",
       "    }\n",
       "</style>\n",
       "<table border=\"1\" class=\"dataframe\">\n",
       "  <thead>\n",
       "    <tr style=\"text-align: right;\">\n",
       "      <th></th>\n",
       "      <th>CANAL_MARKETING</th>\n",
       "      <th>RECEITA</th>\n",
       "    </tr>\n",
       "  </thead>\n",
       "  <tbody>\n",
       "    <tr>\n",
       "      <th>0</th>\n",
       "      <td>Busca orgânica</td>\n",
       "      <td>4.722539e+06</td>\n",
       "    </tr>\n",
       "    <tr>\n",
       "      <th>1</th>\n",
       "      <td>Direto</td>\n",
       "      <td>2.963370e+06</td>\n",
       "    </tr>\n",
       "    <tr>\n",
       "      <th>2</th>\n",
       "      <td>Email</td>\n",
       "      <td>1.773147e+06</td>\n",
       "    </tr>\n",
       "    <tr>\n",
       "      <th>3</th>\n",
       "      <td>Facebook Ads</td>\n",
       "      <td>2.251013e+06</td>\n",
       "    </tr>\n",
       "    <tr>\n",
       "      <th>4</th>\n",
       "      <td>Google Ads</td>\n",
       "      <td>1.026167e+07</td>\n",
       "    </tr>\n",
       "    <tr>\n",
       "      <th>5</th>\n",
       "      <td>Outros</td>\n",
       "      <td>1.581049e+06</td>\n",
       "    </tr>\n",
       "    <tr>\n",
       "      <th>6</th>\n",
       "      <td>Referência</td>\n",
       "      <td>1.788930e+06</td>\n",
       "    </tr>\n",
       "  </tbody>\n",
       "</table>\n",
       "</div>"
      ],
      "text/plain": [
       "  CANAL_MARKETING       RECEITA\n",
       "0  Busca orgânica  4.722539e+06\n",
       "1          Direto  2.963370e+06\n",
       "2           Email  1.773147e+06\n",
       "3    Facebook Ads  2.251013e+06\n",
       "4      Google Ads  1.026167e+07\n",
       "5          Outros  1.581049e+06\n",
       "6      Referência  1.788930e+06"
      ]
     },
     "execution_count": 38,
     "metadata": {
      "tags": []
     },
     "output_type": "execute_result"
    }
   ],
   "source": [
    "pedidos_viz = pedidos.groupby(by = 'CANAL_MARKETING').sum().reset_index()\n",
    "pedidos_viz"
   ]
  },
  {
   "cell_type": "markdown",
   "metadata": {
    "id": "CCaf3onlrQiQ"
   },
   "source": [
    "Vizualização - Receita por canal de marketing"
   ]
  },
  {
   "cell_type": "code",
   "execution_count": null,
   "metadata": {
    "colab": {
     "base_uri": "https://localhost:8080/",
     "height": 368
    },
    "id": "u4z2fbmfqKCf",
    "outputId": "868a68a6-ff68-4bad-a13e-44f0a087d79e"
   },
   "outputs": [
    {
     "data": {
      "text/plain": [
       "<BarContainer object of 7 artists>"
      ]
     },
     "execution_count": 39,
     "metadata": {
      "tags": []
     },
     "output_type": "execute_result"
    },
    {
     "data": {
      "image/png": "[encoded data removed]",
      "text/plain": [
       "<Figure size 432x288 with 1 Axes>"
      ]
     },
     "metadata": {
      "needs_background": "light",
      "tags": []
     },
     "output_type": "display_data"
    }
   ],
   "source": [
    "x_axis = pedidos_viz.CANAL_MARKETING \n",
    "y_axis = pedidos_viz.RECEITA/1000000\n",
    "title = 'Receita por canal de marketing'\n",
    "xlabel = 'Canais de Marketing'\n",
    "ylabel = 'Receita em milhões'\n",
    "plt.xlabel(xlabel)\n",
    "plt.ylabel(ylabel)\n",
    "plt.title(title)\n",
    "plt.xticks(rotation = 50, ha = 'right')\n",
    "plt.bar(x_axis, y_axis)\n"
   ]
  },
  {
   "cell_type": "markdown",
   "metadata": {
    "id": "ZlassclSqU1o"
   },
   "source": [
    "Analisando os custos para poder subtrair e encontrar a margem\n"
   ]
  },
  {
   "cell_type": "markdown",
   "metadata": {
    "id": "b3lYhji0rXvM"
   },
   "source": [
    "Visualização - Receita e Custo por Canal de Marketing"
   ]
  },
  {
   "cell_type": "code",
   "execution_count": null,
   "metadata": {
    "colab": {
     "base_uri": "https://localhost:8080/",
     "height": 368
    },
    "id": "1I7WredLqXNZ",
    "outputId": "c4fc995d-0779-4866-eaa3-7a5d1f0470dc"
   },
   "outputs": [
    {
     "data": {
      "text/plain": [
       "<matplotlib.legend.Legend at 0x7f5560be1a90>"
      ]
     },
     "execution_count": 40,
     "metadata": {
      "tags": []
     },
     "output_type": "execute_result"
    },
    {
     "data": {
      "image/png": "[encoded data removed]",
      "text/plain": [
       "<Figure size 432x288 with 1 Axes>"
      ]
     },
     "metadata": {
      "needs_background": "light",
      "tags": []
     },
     "output_type": "display_data"
    }
   ],
   "source": [
    "custo = df_midia\n",
    "custo_total_g = custo['Google Ads'].sum()\n",
    "custo_total_f = custo['Facebook Ads'].sum()\n",
    "title = 'Receita e custo por canal de marketing'\n",
    "xlabel = 'Canais de Marketing'\n",
    "ylabel = 'R$ milhões'\n",
    "plt.xlabel(xlabel)\n",
    "plt.ylabel(ylabel)\n",
    "plt.title(title)\n",
    "plt.xticks(rotation = 50, ha = 'right')\n",
    "x = ('Google Ads', 'Facebook Ads')\n",
    "y = (custo_total_g/1000000, custo_total_f/1000000)\n",
    "plt.bar(x_axis, y_axis, label = 'Receita')\n",
    "plt.bar(x, y, label = 'Custo')\n",
    "plt.legend()"
   ]
  },
  {
   "cell_type": "code",
   "execution_count": null,
   "metadata": {
    "colab": {
     "base_uri": "https://localhost:8080/",
     "height": 106
    },
    "id": "X4qCiJ1XqtZE",
    "outputId": "610c85e1-4583-4e17-91fe-25e890398de8"
   },
   "outputs": [
    {
     "data": {
      "text/html": [
       "<div>\n",
       "<style scoped>\n",
       "    .dataframe tbody tr th:only-of-type {\n",
       "        vertical-align: middle;\n",
       "    }\n",
       "\n",
       "    .dataframe tbody tr th {\n",
       "        vertical-align: top;\n",
       "    }\n",
       "\n",
       "    .dataframe thead th {\n",
       "        text-align: right;\n",
       "    }\n",
       "</style>\n",
       "<table border=\"1\" class=\"dataframe\">\n",
       "  <thead>\n",
       "    <tr style=\"text-align: right;\">\n",
       "      <th></th>\n",
       "      <th>custo_total</th>\n",
       "    </tr>\n",
       "  </thead>\n",
       "  <tbody>\n",
       "    <tr>\n",
       "      <th>Facebook Ads</th>\n",
       "      <td>592059.27</td>\n",
       "    </tr>\n",
       "    <tr>\n",
       "      <th>Google Ads</th>\n",
       "      <td>270626.07</td>\n",
       "    </tr>\n",
       "  </tbody>\n",
       "</table>\n",
       "</div>"
      ],
      "text/plain": [
       "              custo_total\n",
       "Facebook Ads    592059.27\n",
       "Google Ads      270626.07"
      ]
     },
     "execution_count": 41,
     "metadata": {
      "tags": []
     },
     "output_type": "execute_result"
    }
   ],
   "source": [
    "custo_midia = df_midia\n",
    "custo_midia= pd.DataFrame(custo_midia[['Facebook Ads', 'Google Ads']].sum())\n",
    "custo_midia.columns = ['custo_total']\n",
    "custo_midia"
   ]
  },
  {
   "cell_type": "code",
   "execution_count": null,
   "metadata": {
    "colab": {
     "base_uri": "https://localhost:8080/",
     "height": 254
    },
    "id": "gthoAbanqyfX",
    "outputId": "ff8a5692-d885-45fb-a5d0-25608b61ac67"
   },
   "outputs": [
    {
     "data": {
      "text/html": [
       "<div>\n",
       "<style scoped>\n",
       "    .dataframe tbody tr th:only-of-type {\n",
       "        vertical-align: middle;\n",
       "    }\n",
       "\n",
       "    .dataframe tbody tr th {\n",
       "        vertical-align: top;\n",
       "    }\n",
       "\n",
       "    .dataframe thead th {\n",
       "        text-align: right;\n",
       "    }\n",
       "</style>\n",
       "<table border=\"1\" class=\"dataframe\">\n",
       "  <thead>\n",
       "    <tr style=\"text-align: right;\">\n",
       "      <th></th>\n",
       "      <th>CANAL_MARKETING</th>\n",
       "      <th>RECEITA</th>\n",
       "      <th>CUSTO</th>\n",
       "      <th>MARGEM</th>\n",
       "    </tr>\n",
       "  </thead>\n",
       "  <tbody>\n",
       "    <tr>\n",
       "      <th>2</th>\n",
       "      <td>Busca orgânica</td>\n",
       "      <td>4.722539e+06</td>\n",
       "      <td>0.00</td>\n",
       "      <td>4.722539e+06</td>\n",
       "    </tr>\n",
       "    <tr>\n",
       "      <th>3</th>\n",
       "      <td>Direto</td>\n",
       "      <td>2.963370e+06</td>\n",
       "      <td>0.00</td>\n",
       "      <td>2.963370e+06</td>\n",
       "    </tr>\n",
       "    <tr>\n",
       "      <th>4</th>\n",
       "      <td>Email</td>\n",
       "      <td>1.773147e+06</td>\n",
       "      <td>0.00</td>\n",
       "      <td>1.773147e+06</td>\n",
       "    </tr>\n",
       "    <tr>\n",
       "      <th>5</th>\n",
       "      <td>Facebook Ads</td>\n",
       "      <td>2.251013e+06</td>\n",
       "      <td>592059.27</td>\n",
       "      <td>1.658954e+06</td>\n",
       "    </tr>\n",
       "    <tr>\n",
       "      <th>6</th>\n",
       "      <td>Google Ads</td>\n",
       "      <td>1.026167e+07</td>\n",
       "      <td>270626.07</td>\n",
       "      <td>9.991048e+06</td>\n",
       "    </tr>\n",
       "    <tr>\n",
       "      <th>7</th>\n",
       "      <td>Outros</td>\n",
       "      <td>1.581049e+06</td>\n",
       "      <td>0.00</td>\n",
       "      <td>1.581049e+06</td>\n",
       "    </tr>\n",
       "    <tr>\n",
       "      <th>8</th>\n",
       "      <td>Referência</td>\n",
       "      <td>1.788930e+06</td>\n",
       "      <td>0.00</td>\n",
       "      <td>1.788930e+06</td>\n",
       "    </tr>\n",
       "  </tbody>\n",
       "</table>\n",
       "</div>"
      ],
      "text/plain": [
       "  CANAL_MARKETING       RECEITA      CUSTO        MARGEM\n",
       "2  Busca orgânica  4.722539e+06       0.00  4.722539e+06\n",
       "3          Direto  2.963370e+06       0.00  2.963370e+06\n",
       "4           Email  1.773147e+06       0.00  1.773147e+06\n",
       "5    Facebook Ads  2.251013e+06  592059.27  1.658954e+06\n",
       "6      Google Ads  1.026167e+07  270626.07  9.991048e+06\n",
       "7          Outros  1.581049e+06       0.00  1.581049e+06\n",
       "8      Referência  1.788930e+06       0.00  1.788930e+06"
      ]
     },
     "execution_count": 42,
     "metadata": {
      "tags": []
     },
     "output_type": "execute_result"
    }
   ],
   "source": [
    "receita_midia = pedidos_viz\n",
    "margem = pd.concat(objs=[custo_midia, receita_midia], axis = 1 )\n",
    "margem['CUSTO'] = margem.custo_total\n",
    "margem = margem.reset_index()\n",
    "margem = margem.drop(labels = ['index', 'custo_total'], axis = 1)\n",
    "margem.iloc[5, -1] = margem.iloc[0, -1]\n",
    "margem.iloc[6, -1] = margem.iloc[1, -1]\n",
    "margem = margem.drop(labels = [(0), (1)], axis = 0)\n",
    "margem = margem.fillna(value = 0)\n",
    "margem['MARGEM'] = margem.RECEITA - margem.CUSTO\n",
    "margem"
   ]
  },
  {
   "cell_type": "markdown",
   "metadata": {
    "id": "3lKi26FNrfok"
   },
   "source": [
    "Visualização - Margem de Lucro por Canal de Marketing"
   ]
  },
  {
   "cell_type": "code",
   "execution_count": null,
   "metadata": {
    "colab": {
     "base_uri": "https://localhost:8080/",
     "height": 368
    },
    "id": "I1FXrVTXq52s",
    "outputId": "66f9bb52-daae-4533-91d5-7b84a690e79d"
   },
   "outputs": [
    {
     "data": {
      "text/plain": [
       "<BarContainer object of 7 artists>"
      ]
     },
     "execution_count": 43,
     "metadata": {
      "tags": []
     },
     "output_type": "execute_result"
    },
    {
     "data": {
      "image/png": "[encoded data removed]",
      "text/plain": [
       "<Figure size 432x288 with 1 Axes>"
      ]
     },
     "metadata": {
      "needs_background": "light",
      "tags": []
     },
     "output_type": "display_data"
    }
   ],
   "source": [
    "x_margem = margem.CANAL_MARKETING\n",
    "y_margem = margem.MARGEM/1000000\n",
    "xlabel = 'Canais de Marketing'\n",
    "ylabel = 'Margem em R$ milhões'\n",
    "title = 'Margem de lucro por canal de marketing'\n",
    "plt.xlabel(xlabel)\n",
    "plt.ylabel(ylabel)\n",
    "plt.title(title)\n",
    "plt.xticks (rotation = 50, ha = 'right')\n",
    "plt.bar (x_margem, y_margem)"
   ]
  },
  {
   "cell_type": "markdown",
   "metadata": {
    "id": "hRMNE6cTr8GS"
   },
   "source": [
    "###Resultado\n",
    "#### Obeserva-se que os canais de marketing que conferem maior margem de lucro são o Google Ads e a busca orgânica. Portanto seria interessante focar a alocação de recursos no Google Ads e em ferramentas para aumentar a exposição em busca orgânica"
   ]
  },
  {
   "cell_type": "markdown",
   "metadata": {
    "id": "Xi_-cjQRzAAA"
   },
   "source": [
    "#Recorrência"
   ]
  },
  {
   "cell_type": "markdown",
   "metadata": {
    "id": "Rd_xCnxLzGms"
   },
   "source": [
    "##Análise 4 \n",
    "###No final de 2020, a empresa lançou um programa de fidelidade para aumentar a recorrência dos clientes, ou seja, estimular uma nova compra dos clientes já existentes.\n"
   ]
  },
  {
   "cell_type": "markdown",
   "metadata": {
    "id": "i-keWZgT9sPt"
   },
   "source": [
    "### Análise 4.1\n",
    "####É possível perceber um aumento na frequência média de compras dos clientes?"
   ]
  },
  {
   "cell_type": "code",
   "execution_count": null,
   "metadata": {
    "colab": {
     "base_uri": "https://localhost:8080/"
    },
    "id": "gH2uMACKwseX",
    "outputId": "63e2fc42-9857-4b68-94ed-5dcce236c9ca"
   },
   "outputs": [
    {
     "name": "stdout",
     "output_type": "stream",
     "text": [
      "<class 'pandas.core.frame.DataFrame'>\n",
      "RangeIndex: 296937 entries, 0 to 296936\n",
      "Data columns (total 11 columns):\n",
      " #   Column              Non-Null Count   Dtype  \n",
      "---  ------              --------------   -----  \n",
      " 0   DATA_VENDA          296937 non-null  object \n",
      " 1   PEDIDO              296937 non-null  int64  \n",
      " 2   PEDIDO_ERP          296937 non-null  object \n",
      " 3   COD_CLIENTE         296937 non-null  int64  \n",
      " 4   PRODUTO             296937 non-null  object \n",
      " 5   QTDE                296937 non-null  int64  \n",
      " 6   PRECO_UNITARIO      296937 non-null  float64\n",
      " 7   DESCONTO_ITEM       296937 non-null  float64\n",
      " 8   FRETE_PAGO_CLIENTE  296937 non-null  float64\n",
      " 9   RECEITA             296937 non-null  float64\n",
      " 10  CUSTO_FRETE         296937 non-null  float64\n",
      "dtypes: float64(5), int64(3), object(3)\n",
      "memory usage: 24.9+ MB\n"
     ]
    }
   ],
   "source": [
    "query = 'SELECT * FROM pedidos'\n",
    "tabela_pedidos = pd.read_sql_query(query, engine).copy()\n",
    "tabela_pedidos.info()"
   ]
  },
  {
   "cell_type": "markdown",
   "metadata": {
    "id": "m_zmgaaGzrrv"
   },
   "source": [
    "Sabe-se que na tabela pedidos o valor COD_CLIENTE se repete em uma mesma compra pois tem uma linha para cada produto comprado\n"
   ]
  },
  {
   "cell_type": "code",
   "execution_count": null,
   "metadata": {
    "colab": {
     "base_uri": "https://localhost:8080/",
     "height": 1000
    },
    "id": "-AxDVw2dzzcK",
    "outputId": "60877fb7-f1ea-4016-c63d-b9e320b80fb9"
   },
   "outputs": [
    {
     "data": {
      "text/html": [
       "<div>\n",
       "<style scoped>\n",
       "    .dataframe tbody tr th:only-of-type {\n",
       "        vertical-align: middle;\n",
       "    }\n",
       "\n",
       "    .dataframe tbody tr th {\n",
       "        vertical-align: top;\n",
       "    }\n",
       "\n",
       "    .dataframe thead th {\n",
       "        text-align: right;\n",
       "    }\n",
       "</style>\n",
       "<table border=\"1\" class=\"dataframe\">\n",
       "  <thead>\n",
       "    <tr style=\"text-align: right;\">\n",
       "      <th></th>\n",
       "      <th>DATA_VENDA</th>\n",
       "      <th>PEDIDO</th>\n",
       "      <th>PEDIDO_ERP</th>\n",
       "      <th>COD_CLIENTE</th>\n",
       "      <th>PRODUTO</th>\n",
       "      <th>QTDE</th>\n",
       "      <th>PRECO_UNITARIO</th>\n",
       "      <th>DESCONTO_ITEM</th>\n",
       "      <th>FRETE_PAGO_CLIENTE</th>\n",
       "      <th>RECEITA</th>\n",
       "      <th>CUSTO_FRETE</th>\n",
       "    </tr>\n",
       "  </thead>\n",
       "  <tbody>\n",
       "    <tr>\n",
       "      <th>0</th>\n",
       "      <td>2020-01-01 00:00:00.000000</td>\n",
       "      <td>7000001</td>\n",
       "      <td>P10000123123</td>\n",
       "      <td>4040690</td>\n",
       "      <td>E10505Y</td>\n",
       "      <td>1</td>\n",
       "      <td>149.9</td>\n",
       "      <td>0.00</td>\n",
       "      <td>32.32</td>\n",
       "      <td>182.22</td>\n",
       "      <td>32.32</td>\n",
       "    </tr>\n",
       "    <tr>\n",
       "      <th>1</th>\n",
       "      <td>2020-01-01 00:00:00.000000</td>\n",
       "      <td>7000003</td>\n",
       "      <td>P10000123124</td>\n",
       "      <td>4003939</td>\n",
       "      <td>E10513Y</td>\n",
       "      <td>1</td>\n",
       "      <td>189.9</td>\n",
       "      <td>0.00</td>\n",
       "      <td>0.00</td>\n",
       "      <td>189.90</td>\n",
       "      <td>0.00</td>\n",
       "    </tr>\n",
       "    <tr>\n",
       "      <th>2</th>\n",
       "      <td>2020-01-01 00:00:00.000000</td>\n",
       "      <td>7000006</td>\n",
       "      <td>P10000123128</td>\n",
       "      <td>4043259</td>\n",
       "      <td>E10375Y</td>\n",
       "      <td>1</td>\n",
       "      <td>129.9</td>\n",
       "      <td>-12.99</td>\n",
       "      <td>26.93</td>\n",
       "      <td>143.84</td>\n",
       "      <td>26.93</td>\n",
       "    </tr>\n",
       "    <tr>\n",
       "      <th>3</th>\n",
       "      <td>2020-01-01 00:00:00.000000</td>\n",
       "      <td>7000009</td>\n",
       "      <td>P10000123132</td>\n",
       "      <td>4090303</td>\n",
       "      <td>E10477Y</td>\n",
       "      <td>2</td>\n",
       "      <td>19.9</td>\n",
       "      <td>0.00</td>\n",
       "      <td>0.00</td>\n",
       "      <td>39.80</td>\n",
       "      <td>0.00</td>\n",
       "    </tr>\n",
       "    <tr>\n",
       "      <th>4</th>\n",
       "      <td>2020-01-01 00:00:00.000000</td>\n",
       "      <td>7000011</td>\n",
       "      <td>P10000294585</td>\n",
       "      <td>4080417</td>\n",
       "      <td>E10058Y</td>\n",
       "      <td>1</td>\n",
       "      <td>189.9</td>\n",
       "      <td>1.17</td>\n",
       "      <td>27.57</td>\n",
       "      <td>218.64</td>\n",
       "      <td>27.57</td>\n",
       "    </tr>\n",
       "    <tr>\n",
       "      <th>5</th>\n",
       "      <td>2020-01-01 00:00:00.000000</td>\n",
       "      <td>7000012</td>\n",
       "      <td>P10000123130</td>\n",
       "      <td>4060423</td>\n",
       "      <td>E10454Y</td>\n",
       "      <td>1</td>\n",
       "      <td>149.9</td>\n",
       "      <td>-14.99</td>\n",
       "      <td>33.20</td>\n",
       "      <td>168.11</td>\n",
       "      <td>33.20</td>\n",
       "    </tr>\n",
       "    <tr>\n",
       "      <th>6</th>\n",
       "      <td>2020-01-01 00:00:00.000000</td>\n",
       "      <td>7000014</td>\n",
       "      <td>P10000123134</td>\n",
       "      <td>4084931</td>\n",
       "      <td>E10110Y</td>\n",
       "      <td>1</td>\n",
       "      <td>49.9</td>\n",
       "      <td>0.00</td>\n",
       "      <td>10.00</td>\n",
       "      <td>59.90</td>\n",
       "      <td>10.00</td>\n",
       "    </tr>\n",
       "    <tr>\n",
       "      <th>7</th>\n",
       "      <td>2020-01-01 00:00:00.000000</td>\n",
       "      <td>7000015</td>\n",
       "      <td>P10000123136</td>\n",
       "      <td>4138415</td>\n",
       "      <td>E10069Y</td>\n",
       "      <td>1</td>\n",
       "      <td>69.9</td>\n",
       "      <td>0.00</td>\n",
       "      <td>8.08</td>\n",
       "      <td>77.98</td>\n",
       "      <td>8.08</td>\n",
       "    </tr>\n",
       "    <tr>\n",
       "      <th>8</th>\n",
       "      <td>2020-01-01 00:00:00.000000</td>\n",
       "      <td>7000018</td>\n",
       "      <td>P10000123139</td>\n",
       "      <td>4057603</td>\n",
       "      <td>E10431Y</td>\n",
       "      <td>1</td>\n",
       "      <td>149.9</td>\n",
       "      <td>-10.00</td>\n",
       "      <td>17.62</td>\n",
       "      <td>157.52</td>\n",
       "      <td>17.62</td>\n",
       "    </tr>\n",
       "    <tr>\n",
       "      <th>9</th>\n",
       "      <td>2020-01-01 00:00:00.000000</td>\n",
       "      <td>7000019</td>\n",
       "      <td>P10000123140</td>\n",
       "      <td>4127006</td>\n",
       "      <td>E10158Y</td>\n",
       "      <td>1</td>\n",
       "      <td>29.9</td>\n",
       "      <td>0.00</td>\n",
       "      <td>0.00</td>\n",
       "      <td>29.90</td>\n",
       "      <td>0.00</td>\n",
       "    </tr>\n",
       "    <tr>\n",
       "      <th>10</th>\n",
       "      <td>2020-01-01 00:00:00.000000</td>\n",
       "      <td>7000021</td>\n",
       "      <td>P10000123141</td>\n",
       "      <td>4145389</td>\n",
       "      <td>E10580Y</td>\n",
       "      <td>2</td>\n",
       "      <td>29.9</td>\n",
       "      <td>0.00</td>\n",
       "      <td>18.43</td>\n",
       "      <td>96.66</td>\n",
       "      <td>18.43</td>\n",
       "    </tr>\n",
       "    <tr>\n",
       "      <th>11</th>\n",
       "      <td>2020-01-01 00:00:00.000000</td>\n",
       "      <td>7000023</td>\n",
       "      <td>P10000123144</td>\n",
       "      <td>4009947</td>\n",
       "      <td>E10453Y</td>\n",
       "      <td>1</td>\n",
       "      <td>129.9</td>\n",
       "      <td>0.00</td>\n",
       "      <td>10.03</td>\n",
       "      <td>139.93</td>\n",
       "      <td>10.03</td>\n",
       "    </tr>\n",
       "    <tr>\n",
       "      <th>12</th>\n",
       "      <td>2020-01-01 00:00:00.000000</td>\n",
       "      <td>7000024</td>\n",
       "      <td>P10000123145</td>\n",
       "      <td>4015919</td>\n",
       "      <td>E10416Y</td>\n",
       "      <td>1</td>\n",
       "      <td>349.9</td>\n",
       "      <td>0.00</td>\n",
       "      <td>0.00</td>\n",
       "      <td>349.90</td>\n",
       "      <td>45.49</td>\n",
       "    </tr>\n",
       "    <tr>\n",
       "      <th>13</th>\n",
       "      <td>2020-01-01 00:00:00.000000</td>\n",
       "      <td>7000025</td>\n",
       "      <td>P10000123149</td>\n",
       "      <td>4109942</td>\n",
       "      <td>E10122</td>\n",
       "      <td>1</td>\n",
       "      <td>229.9</td>\n",
       "      <td>0.00</td>\n",
       "      <td>7.70</td>\n",
       "      <td>237.60</td>\n",
       "      <td>7.70</td>\n",
       "    </tr>\n",
       "    <tr>\n",
       "      <th>14</th>\n",
       "      <td>2020-01-01 00:00:00.000000</td>\n",
       "      <td>7000026</td>\n",
       "      <td>P10000123150</td>\n",
       "      <td>4055904</td>\n",
       "      <td>E10030Y</td>\n",
       "      <td>1</td>\n",
       "      <td>39.9</td>\n",
       "      <td>0.00</td>\n",
       "      <td>6.40</td>\n",
       "      <td>46.30</td>\n",
       "      <td>6.40</td>\n",
       "    </tr>\n",
       "    <tr>\n",
       "      <th>15</th>\n",
       "      <td>2020-01-01 00:00:00.000000</td>\n",
       "      <td>7000027</td>\n",
       "      <td>P10000123151</td>\n",
       "      <td>4087434</td>\n",
       "      <td>E10554Y</td>\n",
       "      <td>1</td>\n",
       "      <td>89.9</td>\n",
       "      <td>0.00</td>\n",
       "      <td>5.00</td>\n",
       "      <td>94.90</td>\n",
       "      <td>5.00</td>\n",
       "    </tr>\n",
       "    <tr>\n",
       "      <th>16</th>\n",
       "      <td>2020-01-01 00:00:00.000000</td>\n",
       "      <td>7000032</td>\n",
       "      <td>P10000123155</td>\n",
       "      <td>4075067</td>\n",
       "      <td>E10449Y</td>\n",
       "      <td>3</td>\n",
       "      <td>139.9</td>\n",
       "      <td>0.00</td>\n",
       "      <td>0.00</td>\n",
       "      <td>419.70</td>\n",
       "      <td>18.19</td>\n",
       "    </tr>\n",
       "    <tr>\n",
       "      <th>17</th>\n",
       "      <td>2020-01-01 00:00:00.000000</td>\n",
       "      <td>7000034</td>\n",
       "      <td>P10000123157</td>\n",
       "      <td>4145054</td>\n",
       "      <td>E10464Y</td>\n",
       "      <td>1</td>\n",
       "      <td>49.9</td>\n",
       "      <td>0.00</td>\n",
       "      <td>0.00</td>\n",
       "      <td>49.90</td>\n",
       "      <td>0.00</td>\n",
       "    </tr>\n",
       "    <tr>\n",
       "      <th>18</th>\n",
       "      <td>2020-01-01 00:00:00.000000</td>\n",
       "      <td>7000035</td>\n",
       "      <td>P10000123158</td>\n",
       "      <td>4030706</td>\n",
       "      <td>E10460Y</td>\n",
       "      <td>1</td>\n",
       "      <td>59.9</td>\n",
       "      <td>0.00</td>\n",
       "      <td>0.00</td>\n",
       "      <td>59.90</td>\n",
       "      <td>0.00</td>\n",
       "    </tr>\n",
       "    <tr>\n",
       "      <th>19</th>\n",
       "      <td>2020-01-01 00:00:00.000000</td>\n",
       "      <td>7000046</td>\n",
       "      <td>P10000123162</td>\n",
       "      <td>4097046</td>\n",
       "      <td>B10011</td>\n",
       "      <td>1</td>\n",
       "      <td>14.9</td>\n",
       "      <td>0.00</td>\n",
       "      <td>1.63</td>\n",
       "      <td>16.53</td>\n",
       "      <td>1.63</td>\n",
       "    </tr>\n",
       "    <tr>\n",
       "      <th>20</th>\n",
       "      <td>2020-01-01 00:00:00.000000</td>\n",
       "      <td>7000046</td>\n",
       "      <td>P10000123162</td>\n",
       "      <td>4097046</td>\n",
       "      <td>B10038</td>\n",
       "      <td>1</td>\n",
       "      <td>9.9</td>\n",
       "      <td>0.00</td>\n",
       "      <td>1.63</td>\n",
       "      <td>11.53</td>\n",
       "      <td>1.63</td>\n",
       "    </tr>\n",
       "    <tr>\n",
       "      <th>21</th>\n",
       "      <td>2020-01-01 00:00:00.000000</td>\n",
       "      <td>7000046</td>\n",
       "      <td>P10000123162</td>\n",
       "      <td>4097046</td>\n",
       "      <td>B10058G</td>\n",
       "      <td>1</td>\n",
       "      <td>29.9</td>\n",
       "      <td>-29.90</td>\n",
       "      <td>1.63</td>\n",
       "      <td>1.63</td>\n",
       "      <td>1.63</td>\n",
       "    </tr>\n",
       "    <tr>\n",
       "      <th>22</th>\n",
       "      <td>2020-01-01 00:00:00.000000</td>\n",
       "      <td>7000047</td>\n",
       "      <td>P10000123169</td>\n",
       "      <td>4009023</td>\n",
       "      <td>B10157</td>\n",
       "      <td>1</td>\n",
       "      <td>99.9</td>\n",
       "      <td>0.00</td>\n",
       "      <td>21.78</td>\n",
       "      <td>121.68</td>\n",
       "      <td>21.78</td>\n",
       "    </tr>\n",
       "    <tr>\n",
       "      <th>23</th>\n",
       "      <td>2020-01-01 00:00:00.000000</td>\n",
       "      <td>7000048</td>\n",
       "      <td>P10000123170</td>\n",
       "      <td>4081624</td>\n",
       "      <td>B10058G</td>\n",
       "      <td>1</td>\n",
       "      <td>29.9</td>\n",
       "      <td>-29.90</td>\n",
       "      <td>10.63</td>\n",
       "      <td>10.63</td>\n",
       "      <td>10.63</td>\n",
       "    </tr>\n",
       "    <tr>\n",
       "      <th>24</th>\n",
       "      <td>2020-01-01 00:00:00.000000</td>\n",
       "      <td>7000049</td>\n",
       "      <td>P10000123171</td>\n",
       "      <td>4068580</td>\n",
       "      <td>E10043Y</td>\n",
       "      <td>1</td>\n",
       "      <td>19.9</td>\n",
       "      <td>0.00</td>\n",
       "      <td>0.00</td>\n",
       "      <td>19.90</td>\n",
       "      <td>0.00</td>\n",
       "    </tr>\n",
       "    <tr>\n",
       "      <th>25</th>\n",
       "      <td>2020-01-01 00:00:00.000000</td>\n",
       "      <td>7000052</td>\n",
       "      <td>P10000123174</td>\n",
       "      <td>4065393</td>\n",
       "      <td>E10334Y</td>\n",
       "      <td>1</td>\n",
       "      <td>99.9</td>\n",
       "      <td>-5.00</td>\n",
       "      <td>20.47</td>\n",
       "      <td>115.37</td>\n",
       "      <td>20.47</td>\n",
       "    </tr>\n",
       "    <tr>\n",
       "      <th>26</th>\n",
       "      <td>2020-01-01 00:00:00.000000</td>\n",
       "      <td>7000055</td>\n",
       "      <td>P10000123179</td>\n",
       "      <td>4142510</td>\n",
       "      <td>E10382Y</td>\n",
       "      <td>1</td>\n",
       "      <td>199.9</td>\n",
       "      <td>0.00</td>\n",
       "      <td>10.90</td>\n",
       "      <td>210.80</td>\n",
       "      <td>10.90</td>\n",
       "    </tr>\n",
       "    <tr>\n",
       "      <th>27</th>\n",
       "      <td>2020-01-01 00:00:00.000000</td>\n",
       "      <td>7000056</td>\n",
       "      <td>P10000123180</td>\n",
       "      <td>4039834</td>\n",
       "      <td>E10060Y</td>\n",
       "      <td>1</td>\n",
       "      <td>69.9</td>\n",
       "      <td>0.00</td>\n",
       "      <td>0.00</td>\n",
       "      <td>69.90</td>\n",
       "      <td>0.00</td>\n",
       "    </tr>\n",
       "    <tr>\n",
       "      <th>28</th>\n",
       "      <td>2020-01-01 00:00:00.000000</td>\n",
       "      <td>7000056</td>\n",
       "      <td>P10000123180</td>\n",
       "      <td>4039834</td>\n",
       "      <td>E10203Y</td>\n",
       "      <td>1</td>\n",
       "      <td>29.9</td>\n",
       "      <td>0.00</td>\n",
       "      <td>0.00</td>\n",
       "      <td>29.90</td>\n",
       "      <td>0.00</td>\n",
       "    </tr>\n",
       "    <tr>\n",
       "      <th>29</th>\n",
       "      <td>2020-01-01 00:00:00.000000</td>\n",
       "      <td>7000057</td>\n",
       "      <td>P10000123176</td>\n",
       "      <td>4103211</td>\n",
       "      <td>E10177Y</td>\n",
       "      <td>1</td>\n",
       "      <td>99.9</td>\n",
       "      <td>0.00</td>\n",
       "      <td>0.00</td>\n",
       "      <td>99.90</td>\n",
       "      <td>12.99</td>\n",
       "    </tr>\n",
       "  </tbody>\n",
       "</table>\n",
       "</div>"
      ],
      "text/plain": [
       "                    DATA_VENDA   PEDIDO  ... RECEITA  CUSTO_FRETE\n",
       "0   2020-01-01 00:00:00.000000  7000001  ...  182.22        32.32\n",
       "1   2020-01-01 00:00:00.000000  7000003  ...  189.90         0.00\n",
       "2   2020-01-01 00:00:00.000000  7000006  ...  143.84        26.93\n",
       "3   2020-01-01 00:00:00.000000  7000009  ...   39.80         0.00\n",
       "4   2020-01-01 00:00:00.000000  7000011  ...  218.64        27.57\n",
       "5   2020-01-01 00:00:00.000000  7000012  ...  168.11        33.20\n",
       "6   2020-01-01 00:00:00.000000  7000014  ...   59.90        10.00\n",
       "7   2020-01-01 00:00:00.000000  7000015  ...   77.98         8.08\n",
       "8   2020-01-01 00:00:00.000000  7000018  ...  157.52        17.62\n",
       "9   2020-01-01 00:00:00.000000  7000019  ...   29.90         0.00\n",
       "10  2020-01-01 00:00:00.000000  7000021  ...   96.66        18.43\n",
       "11  2020-01-01 00:00:00.000000  7000023  ...  139.93        10.03\n",
       "12  2020-01-01 00:00:00.000000  7000024  ...  349.90        45.49\n",
       "13  2020-01-01 00:00:00.000000  7000025  ...  237.60         7.70\n",
       "14  2020-01-01 00:00:00.000000  7000026  ...   46.30         6.40\n",
       "15  2020-01-01 00:00:00.000000  7000027  ...   94.90         5.00\n",
       "16  2020-01-01 00:00:00.000000  7000032  ...  419.70        18.19\n",
       "17  2020-01-01 00:00:00.000000  7000034  ...   49.90         0.00\n",
       "18  2020-01-01 00:00:00.000000  7000035  ...   59.90         0.00\n",
       "19  2020-01-01 00:00:00.000000  7000046  ...   16.53         1.63\n",
       "20  2020-01-01 00:00:00.000000  7000046  ...   11.53         1.63\n",
       "21  2020-01-01 00:00:00.000000  7000046  ...    1.63         1.63\n",
       "22  2020-01-01 00:00:00.000000  7000047  ...  121.68        21.78\n",
       "23  2020-01-01 00:00:00.000000  7000048  ...   10.63        10.63\n",
       "24  2020-01-01 00:00:00.000000  7000049  ...   19.90         0.00\n",
       "25  2020-01-01 00:00:00.000000  7000052  ...  115.37        20.47\n",
       "26  2020-01-01 00:00:00.000000  7000055  ...  210.80        10.90\n",
       "27  2020-01-01 00:00:00.000000  7000056  ...   69.90         0.00\n",
       "28  2020-01-01 00:00:00.000000  7000056  ...   29.90         0.00\n",
       "29  2020-01-01 00:00:00.000000  7000057  ...   99.90        12.99\n",
       "\n",
       "[30 rows x 11 columns]"
      ]
     },
     "execution_count": 45,
     "metadata": {
      "tags": []
     },
     "output_type": "execute_result"
    }
   ],
   "source": [
    "tabela_pedidos.head(30)"
   ]
  },
  {
   "cell_type": "code",
   "execution_count": null,
   "metadata": {
    "colab": {
     "base_uri": "https://localhost:8080/"
    },
    "id": "A-EB9CCWz2Uk",
    "outputId": "8425a013-6af3-4de8-80aa-9b96595aa468"
   },
   "outputs": [
    {
     "data": {
      "text/plain": [
       "124905"
      ]
     },
     "execution_count": 46,
     "metadata": {
      "tags": []
     },
     "output_type": "execute_result"
    }
   ],
   "source": [
    "cliente_data = tabela_pedidos[['DATA_VENDA', 'COD_CLIENTE', 'PEDIDO_ERP']]\n",
    "\n",
    "\n",
    "cliente_data.duplicated().sum()"
   ]
  },
  {
   "cell_type": "markdown",
   "metadata": {
    "id": "mrMTRXTvz8PG"
   },
   "source": [
    "Portanto o df será filtrado por pedido. Apenas o primeiro registro do pedido permanece"
   ]
  },
  {
   "cell_type": "code",
   "execution_count": null,
   "metadata": {
    "colab": {
     "base_uri": "https://localhost:8080/",
     "height": 195
    },
    "id": "tJUiId74z8zL",
    "outputId": "49aa3868-722e-4769-8350-cc95921056dd"
   },
   "outputs": [
    {
     "data": {
      "text/html": [
       "<div>\n",
       "<style scoped>\n",
       "    .dataframe tbody tr th:only-of-type {\n",
       "        vertical-align: middle;\n",
       "    }\n",
       "\n",
       "    .dataframe tbody tr th {\n",
       "        vertical-align: top;\n",
       "    }\n",
       "\n",
       "    .dataframe thead th {\n",
       "        text-align: right;\n",
       "    }\n",
       "</style>\n",
       "<table border=\"1\" class=\"dataframe\">\n",
       "  <thead>\n",
       "    <tr style=\"text-align: right;\">\n",
       "      <th></th>\n",
       "      <th>DATA_VENDA</th>\n",
       "      <th>COD_CLIENTE</th>\n",
       "    </tr>\n",
       "  </thead>\n",
       "  <tbody>\n",
       "    <tr>\n",
       "      <th>0</th>\n",
       "      <td>2020-01-01 00:00:00.000000</td>\n",
       "      <td>4040690</td>\n",
       "    </tr>\n",
       "    <tr>\n",
       "      <th>1</th>\n",
       "      <td>2020-01-01 00:00:00.000000</td>\n",
       "      <td>4003939</td>\n",
       "    </tr>\n",
       "    <tr>\n",
       "      <th>2</th>\n",
       "      <td>2020-01-01 00:00:00.000000</td>\n",
       "      <td>4043259</td>\n",
       "    </tr>\n",
       "    <tr>\n",
       "      <th>3</th>\n",
       "      <td>2020-01-01 00:00:00.000000</td>\n",
       "      <td>4090303</td>\n",
       "    </tr>\n",
       "    <tr>\n",
       "      <th>4</th>\n",
       "      <td>2020-01-01 00:00:00.000000</td>\n",
       "      <td>4080417</td>\n",
       "    </tr>\n",
       "  </tbody>\n",
       "</table>\n",
       "</div>"
      ],
      "text/plain": [
       "                   DATA_VENDA  COD_CLIENTE\n",
       "0  2020-01-01 00:00:00.000000      4040690\n",
       "1  2020-01-01 00:00:00.000000      4003939\n",
       "2  2020-01-01 00:00:00.000000      4043259\n",
       "3  2020-01-01 00:00:00.000000      4090303\n",
       "4  2020-01-01 00:00:00.000000      4080417"
      ]
     },
     "execution_count": 47,
     "metadata": {
      "tags": []
     },
     "output_type": "execute_result"
    }
   ],
   "source": [
    "cliente_data = cliente_data.drop_duplicates(subset = ['PEDIDO_ERP'], keep = 'first')\n",
    "cliente_data = cliente_data.drop(labels = ['PEDIDO_ERP'], axis = 1)\n",
    "cliente_data.head()"
   ]
  },
  {
   "cell_type": "markdown",
   "metadata": {
    "id": "6L4e9yBc0DC7"
   },
   "source": [
    "Criando coluna MES e ANO"
   ]
  },
  {
   "cell_type": "code",
   "execution_count": null,
   "metadata": {
    "colab": {
     "base_uri": "https://localhost:8080/",
     "height": 1000
    },
    "id": "ElRjPJLg0FjK",
    "outputId": "2c61f970-26d7-4fad-ffe1-c0af58018f4b"
   },
   "outputs": [
    {
     "data": {
      "text/html": [
       "<div>\n",
       "<style scoped>\n",
       "    .dataframe tbody tr th:only-of-type {\n",
       "        vertical-align: middle;\n",
       "    }\n",
       "\n",
       "    .dataframe tbody tr th {\n",
       "        vertical-align: top;\n",
       "    }\n",
       "\n",
       "    .dataframe thead th {\n",
       "        text-align: right;\n",
       "    }\n",
       "</style>\n",
       "<table border=\"1\" class=\"dataframe\">\n",
       "  <thead>\n",
       "    <tr style=\"text-align: right;\">\n",
       "      <th></th>\n",
       "      <th>DATA_VENDA</th>\n",
       "      <th>COD_CLIENTE</th>\n",
       "      <th>MES</th>\n",
       "      <th>ANO</th>\n",
       "    </tr>\n",
       "  </thead>\n",
       "  <tbody>\n",
       "    <tr>\n",
       "      <th>1143</th>\n",
       "      <td>2020-01-17</td>\n",
       "      <td>4146331</td>\n",
       "      <td>1</td>\n",
       "      <td>2020</td>\n",
       "    </tr>\n",
       "    <tr>\n",
       "      <th>9849</th>\n",
       "      <td>2020-01-30</td>\n",
       "      <td>4146324</td>\n",
       "      <td>1</td>\n",
       "      <td>2020</td>\n",
       "    </tr>\n",
       "    <tr>\n",
       "      <th>5918</th>\n",
       "      <td>2020-01-15</td>\n",
       "      <td>4146306</td>\n",
       "      <td>1</td>\n",
       "      <td>2020</td>\n",
       "    </tr>\n",
       "    <tr>\n",
       "      <th>1520</th>\n",
       "      <td>2020-01-21</td>\n",
       "      <td>4146274</td>\n",
       "      <td>1</td>\n",
       "      <td>2020</td>\n",
       "    </tr>\n",
       "    <tr>\n",
       "      <th>9263</th>\n",
       "      <td>2020-01-26</td>\n",
       "      <td>4146244</td>\n",
       "      <td>1</td>\n",
       "      <td>2020</td>\n",
       "    </tr>\n",
       "    <tr>\n",
       "      <th>2025</th>\n",
       "      <td>2020-01-27</td>\n",
       "      <td>4146226</td>\n",
       "      <td>1</td>\n",
       "      <td>2020</td>\n",
       "    </tr>\n",
       "    <tr>\n",
       "      <th>8982</th>\n",
       "      <td>2020-01-25</td>\n",
       "      <td>4146220</td>\n",
       "      <td>1</td>\n",
       "      <td>2020</td>\n",
       "    </tr>\n",
       "    <tr>\n",
       "      <th>1858</th>\n",
       "      <td>2020-01-24</td>\n",
       "      <td>4146169</td>\n",
       "      <td>1</td>\n",
       "      <td>2020</td>\n",
       "    </tr>\n",
       "    <tr>\n",
       "      <th>12307</th>\n",
       "      <td>2020-01-11</td>\n",
       "      <td>4146134</td>\n",
       "      <td>1</td>\n",
       "      <td>2020</td>\n",
       "    </tr>\n",
       "    <tr>\n",
       "      <th>261</th>\n",
       "      <td>2020-01-06</td>\n",
       "      <td>4146073</td>\n",
       "      <td>1</td>\n",
       "      <td>2020</td>\n",
       "    </tr>\n",
       "    <tr>\n",
       "      <th>8321</th>\n",
       "      <td>2020-01-22</td>\n",
       "      <td>4146073</td>\n",
       "      <td>1</td>\n",
       "      <td>2020</td>\n",
       "    </tr>\n",
       "    <tr>\n",
       "      <th>5584</th>\n",
       "      <td>2020-01-13</td>\n",
       "      <td>4146058</td>\n",
       "      <td>1</td>\n",
       "      <td>2020</td>\n",
       "    </tr>\n",
       "    <tr>\n",
       "      <th>6124</th>\n",
       "      <td>2020-01-16</td>\n",
       "      <td>4146018</td>\n",
       "      <td>1</td>\n",
       "      <td>2020</td>\n",
       "    </tr>\n",
       "    <tr>\n",
       "      <th>4874</th>\n",
       "      <td>2020-01-08</td>\n",
       "      <td>4145973</td>\n",
       "      <td>1</td>\n",
       "      <td>2020</td>\n",
       "    </tr>\n",
       "    <tr>\n",
       "      <th>4447</th>\n",
       "      <td>2020-01-06</td>\n",
       "      <td>4145968</td>\n",
       "      <td>1</td>\n",
       "      <td>2020</td>\n",
       "    </tr>\n",
       "    <tr>\n",
       "      <th>667</th>\n",
       "      <td>2020-01-11</td>\n",
       "      <td>4145921</td>\n",
       "      <td>1</td>\n",
       "      <td>2020</td>\n",
       "    </tr>\n",
       "    <tr>\n",
       "      <th>2141</th>\n",
       "      <td>2020-01-28</td>\n",
       "      <td>4145916</td>\n",
       "      <td>1</td>\n",
       "      <td>2020</td>\n",
       "    </tr>\n",
       "    <tr>\n",
       "      <th>801</th>\n",
       "      <td>2020-01-13</td>\n",
       "      <td>4145905</td>\n",
       "      <td>1</td>\n",
       "      <td>2020</td>\n",
       "    </tr>\n",
       "    <tr>\n",
       "      <th>4252</th>\n",
       "      <td>2020-01-04</td>\n",
       "      <td>4145898</td>\n",
       "      <td>1</td>\n",
       "      <td>2020</td>\n",
       "    </tr>\n",
       "    <tr>\n",
       "      <th>6429</th>\n",
       "      <td>2020-01-18</td>\n",
       "      <td>4145866</td>\n",
       "      <td>1</td>\n",
       "      <td>2020</td>\n",
       "    </tr>\n",
       "    <tr>\n",
       "      <th>11239</th>\n",
       "      <td>2020-01-07</td>\n",
       "      <td>4145843</td>\n",
       "      <td>1</td>\n",
       "      <td>2020</td>\n",
       "    </tr>\n",
       "    <tr>\n",
       "      <th>676</th>\n",
       "      <td>2020-01-11</td>\n",
       "      <td>4145820</td>\n",
       "      <td>1</td>\n",
       "      <td>2020</td>\n",
       "    </tr>\n",
       "    <tr>\n",
       "      <th>2482</th>\n",
       "      <td>2020-01-31</td>\n",
       "      <td>4145817</td>\n",
       "      <td>1</td>\n",
       "      <td>2020</td>\n",
       "    </tr>\n",
       "    <tr>\n",
       "      <th>11102</th>\n",
       "      <td>2020-01-06</td>\n",
       "      <td>4145763</td>\n",
       "      <td>1</td>\n",
       "      <td>2020</td>\n",
       "    </tr>\n",
       "    <tr>\n",
       "      <th>390</th>\n",
       "      <td>2020-01-08</td>\n",
       "      <td>4145720</td>\n",
       "      <td>1</td>\n",
       "      <td>2020</td>\n",
       "    </tr>\n",
       "    <tr>\n",
       "      <th>8981</th>\n",
       "      <td>2020-01-25</td>\n",
       "      <td>4145656</td>\n",
       "      <td>1</td>\n",
       "      <td>2020</td>\n",
       "    </tr>\n",
       "    <tr>\n",
       "      <th>16059</th>\n",
       "      <td>2020-01-27</td>\n",
       "      <td>4145599</td>\n",
       "      <td>1</td>\n",
       "      <td>2020</td>\n",
       "    </tr>\n",
       "    <tr>\n",
       "      <th>2015</th>\n",
       "      <td>2020-01-26</td>\n",
       "      <td>4145561</td>\n",
       "      <td>1</td>\n",
       "      <td>2020</td>\n",
       "    </tr>\n",
       "    <tr>\n",
       "      <th>1973</th>\n",
       "      <td>2020-01-26</td>\n",
       "      <td>4145510</td>\n",
       "      <td>1</td>\n",
       "      <td>2020</td>\n",
       "    </tr>\n",
       "    <tr>\n",
       "      <th>10</th>\n",
       "      <td>2020-01-01</td>\n",
       "      <td>4145389</td>\n",
       "      <td>1</td>\n",
       "      <td>2020</td>\n",
       "    </tr>\n",
       "    <tr>\n",
       "      <th>10099</th>\n",
       "      <td>2020-01-31</td>\n",
       "      <td>4145382</td>\n",
       "      <td>1</td>\n",
       "      <td>2020</td>\n",
       "    </tr>\n",
       "    <tr>\n",
       "      <th>15277</th>\n",
       "      <td>2020-01-23</td>\n",
       "      <td>4145373</td>\n",
       "      <td>1</td>\n",
       "      <td>2020</td>\n",
       "    </tr>\n",
       "    <tr>\n",
       "      <th>374</th>\n",
       "      <td>2020-01-08</td>\n",
       "      <td>4145369</td>\n",
       "      <td>1</td>\n",
       "      <td>2020</td>\n",
       "    </tr>\n",
       "    <tr>\n",
       "      <th>171</th>\n",
       "      <td>2020-01-04</td>\n",
       "      <td>4145350</td>\n",
       "      <td>1</td>\n",
       "      <td>2020</td>\n",
       "    </tr>\n",
       "    <tr>\n",
       "      <th>10112</th>\n",
       "      <td>2020-01-31</td>\n",
       "      <td>4145300</td>\n",
       "      <td>1</td>\n",
       "      <td>2020</td>\n",
       "    </tr>\n",
       "    <tr>\n",
       "      <th>192</th>\n",
       "      <td>2020-01-05</td>\n",
       "      <td>4145299</td>\n",
       "      <td>1</td>\n",
       "      <td>2020</td>\n",
       "    </tr>\n",
       "    <tr>\n",
       "      <th>1327</th>\n",
       "      <td>2020-01-20</td>\n",
       "      <td>4145291</td>\n",
       "      <td>1</td>\n",
       "      <td>2020</td>\n",
       "    </tr>\n",
       "    <tr>\n",
       "      <th>191</th>\n",
       "      <td>2020-01-05</td>\n",
       "      <td>4145284</td>\n",
       "      <td>1</td>\n",
       "      <td>2020</td>\n",
       "    </tr>\n",
       "    <tr>\n",
       "      <th>12958</th>\n",
       "      <td>2020-01-14</td>\n",
       "      <td>4145240</td>\n",
       "      <td>1</td>\n",
       "      <td>2020</td>\n",
       "    </tr>\n",
       "    <tr>\n",
       "      <th>1309</th>\n",
       "      <td>2020-01-19</td>\n",
       "      <td>4145211</td>\n",
       "      <td>1</td>\n",
       "      <td>2020</td>\n",
       "    </tr>\n",
       "    <tr>\n",
       "      <th>636</th>\n",
       "      <td>2020-01-10</td>\n",
       "      <td>4145209</td>\n",
       "      <td>1</td>\n",
       "      <td>2020</td>\n",
       "    </tr>\n",
       "    <tr>\n",
       "      <th>16050</th>\n",
       "      <td>2020-01-26</td>\n",
       "      <td>4145104</td>\n",
       "      <td>1</td>\n",
       "      <td>2020</td>\n",
       "    </tr>\n",
       "    <tr>\n",
       "      <th>966</th>\n",
       "      <td>2020-01-15</td>\n",
       "      <td>4145083</td>\n",
       "      <td>1</td>\n",
       "      <td>2020</td>\n",
       "    </tr>\n",
       "    <tr>\n",
       "      <th>797</th>\n",
       "      <td>2020-01-13</td>\n",
       "      <td>4145082</td>\n",
       "      <td>1</td>\n",
       "      <td>2020</td>\n",
       "    </tr>\n",
       "    <tr>\n",
       "      <th>17</th>\n",
       "      <td>2020-01-01</td>\n",
       "      <td>4145054</td>\n",
       "      <td>1</td>\n",
       "      <td>2020</td>\n",
       "    </tr>\n",
       "    <tr>\n",
       "      <th>865</th>\n",
       "      <td>2020-01-14</td>\n",
       "      <td>4145030</td>\n",
       "      <td>1</td>\n",
       "      <td>2020</td>\n",
       "    </tr>\n",
       "    <tr>\n",
       "      <th>665</th>\n",
       "      <td>2020-01-11</td>\n",
       "      <td>4144998</td>\n",
       "      <td>1</td>\n",
       "      <td>2020</td>\n",
       "    </tr>\n",
       "    <tr>\n",
       "      <th>1416</th>\n",
       "      <td>2020-01-21</td>\n",
       "      <td>4144998</td>\n",
       "      <td>1</td>\n",
       "      <td>2020</td>\n",
       "    </tr>\n",
       "    <tr>\n",
       "      <th>2561</th>\n",
       "      <td>2020-01-31</td>\n",
       "      <td>4144994</td>\n",
       "      <td>1</td>\n",
       "      <td>2020</td>\n",
       "    </tr>\n",
       "    <tr>\n",
       "      <th>11456</th>\n",
       "      <td>2020-01-08</td>\n",
       "      <td>4144981</td>\n",
       "      <td>1</td>\n",
       "      <td>2020</td>\n",
       "    </tr>\n",
       "  </tbody>\n",
       "</table>\n",
       "</div>"
      ],
      "text/plain": [
       "      DATA_VENDA  COD_CLIENTE  MES   ANO\n",
       "1143  2020-01-17      4146331    1  2020\n",
       "9849  2020-01-30      4146324    1  2020\n",
       "5918  2020-01-15      4146306    1  2020\n",
       "1520  2020-01-21      4146274    1  2020\n",
       "9263  2020-01-26      4146244    1  2020\n",
       "2025  2020-01-27      4146226    1  2020\n",
       "8982  2020-01-25      4146220    1  2020\n",
       "1858  2020-01-24      4146169    1  2020\n",
       "12307 2020-01-11      4146134    1  2020\n",
       "261   2020-01-06      4146073    1  2020\n",
       "8321  2020-01-22      4146073    1  2020\n",
       "5584  2020-01-13      4146058    1  2020\n",
       "6124  2020-01-16      4146018    1  2020\n",
       "4874  2020-01-08      4145973    1  2020\n",
       "4447  2020-01-06      4145968    1  2020\n",
       "667   2020-01-11      4145921    1  2020\n",
       "2141  2020-01-28      4145916    1  2020\n",
       "801   2020-01-13      4145905    1  2020\n",
       "4252  2020-01-04      4145898    1  2020\n",
       "6429  2020-01-18      4145866    1  2020\n",
       "11239 2020-01-07      4145843    1  2020\n",
       "676   2020-01-11      4145820    1  2020\n",
       "2482  2020-01-31      4145817    1  2020\n",
       "11102 2020-01-06      4145763    1  2020\n",
       "390   2020-01-08      4145720    1  2020\n",
       "8981  2020-01-25      4145656    1  2020\n",
       "16059 2020-01-27      4145599    1  2020\n",
       "2015  2020-01-26      4145561    1  2020\n",
       "1973  2020-01-26      4145510    1  2020\n",
       "10    2020-01-01      4145389    1  2020\n",
       "10099 2020-01-31      4145382    1  2020\n",
       "15277 2020-01-23      4145373    1  2020\n",
       "374   2020-01-08      4145369    1  2020\n",
       "171   2020-01-04      4145350    1  2020\n",
       "10112 2020-01-31      4145300    1  2020\n",
       "192   2020-01-05      4145299    1  2020\n",
       "1327  2020-01-20      4145291    1  2020\n",
       "191   2020-01-05      4145284    1  2020\n",
       "12958 2020-01-14      4145240    1  2020\n",
       "1309  2020-01-19      4145211    1  2020\n",
       "636   2020-01-10      4145209    1  2020\n",
       "16050 2020-01-26      4145104    1  2020\n",
       "966   2020-01-15      4145083    1  2020\n",
       "797   2020-01-13      4145082    1  2020\n",
       "17    2020-01-01      4145054    1  2020\n",
       "865   2020-01-14      4145030    1  2020\n",
       "665   2020-01-11      4144998    1  2020\n",
       "1416  2020-01-21      4144998    1  2020\n",
       "2561  2020-01-31      4144994    1  2020\n",
       "11456 2020-01-08      4144981    1  2020"
      ]
     },
     "execution_count": 48,
     "metadata": {
      "tags": []
     },
     "output_type": "execute_result"
    }
   ],
   "source": [
    "cliente_data.DATA_VENDA = pd.to_datetime (cliente_data.DATA_VENDA)\n",
    "cliente_data['MES'] = cliente_data.DATA_VENDA.dt.month\n",
    "cliente_data['ANO'] = cliente_data.DATA_VENDA.dt.year\n",
    "cliente_data_2020 = cliente_data[cliente_data['ANO'] == 2020]\n",
    "clientes_janeiro_2020 = cliente_data_2020[cliente_data_2020['MES'] == 1]\n",
    "clientes_janeiro_2020.sort_values('COD_CLIENTE', ascending = False).head(50)\n",
    "\n"
   ]
  },
  {
   "cell_type": "markdown",
   "metadata": {
    "id": "SlM9l_Mz0PAu"
   },
   "source": [
    "Observa-se que existem clientes que fizeram mais de uma compra no mesmo mês (por exemplo: 4146073) . Portanto posso dividir clientes recorrentes em 2, aqueles que fizeram mais de uma compra no mes e aqueles que fizeram uma segunda compra em outro período. "
   ]
  },
  {
   "cell_type": "code",
   "execution_count": null,
   "metadata": {
    "colab": {
     "base_uri": "https://localhost:8080/",
     "height": 402
    },
    "id": "Jvdr7Eym0UwP",
    "outputId": "92cbcb44-7b41-4e3b-ad15-2df06e4bb2fb"
   },
   "outputs": [
    {
     "data": {
      "text/html": [
       "<div>\n",
       "<style scoped>\n",
       "    .dataframe tbody tr th:only-of-type {\n",
       "        vertical-align: middle;\n",
       "    }\n",
       "\n",
       "    .dataframe tbody tr th {\n",
       "        vertical-align: top;\n",
       "    }\n",
       "\n",
       "    .dataframe thead th {\n",
       "        text-align: right;\n",
       "    }\n",
       "</style>\n",
       "<table border=\"1\" class=\"dataframe\">\n",
       "  <thead>\n",
       "    <tr style=\"text-align: right;\">\n",
       "      <th></th>\n",
       "      <th>COD_CLIENTE</th>\n",
       "      <th>Numero_compras</th>\n",
       "      <th>MES</th>\n",
       "    </tr>\n",
       "  </thead>\n",
       "  <tbody>\n",
       "    <tr>\n",
       "      <th>0</th>\n",
       "      <td>4080598</td>\n",
       "      <td>5</td>\n",
       "      <td>1</td>\n",
       "    </tr>\n",
       "    <tr>\n",
       "      <th>1</th>\n",
       "      <td>4048649</td>\n",
       "      <td>4</td>\n",
       "      <td>1</td>\n",
       "    </tr>\n",
       "    <tr>\n",
       "      <th>2</th>\n",
       "      <td>4047747</td>\n",
       "      <td>4</td>\n",
       "      <td>1</td>\n",
       "    </tr>\n",
       "    <tr>\n",
       "      <th>3</th>\n",
       "      <td>4016609</td>\n",
       "      <td>4</td>\n",
       "      <td>1</td>\n",
       "    </tr>\n",
       "    <tr>\n",
       "      <th>4</th>\n",
       "      <td>4095545</td>\n",
       "      <td>4</td>\n",
       "      <td>1</td>\n",
       "    </tr>\n",
       "    <tr>\n",
       "      <th>...</th>\n",
       "      <td>...</td>\n",
       "      <td>...</td>\n",
       "      <td>...</td>\n",
       "    </tr>\n",
       "    <tr>\n",
       "      <th>164</th>\n",
       "      <td>4058240</td>\n",
       "      <td>2</td>\n",
       "      <td>1</td>\n",
       "    </tr>\n",
       "    <tr>\n",
       "      <th>165</th>\n",
       "      <td>4134335</td>\n",
       "      <td>2</td>\n",
       "      <td>1</td>\n",
       "    </tr>\n",
       "    <tr>\n",
       "      <th>166</th>\n",
       "      <td>4001705</td>\n",
       "      <td>2</td>\n",
       "      <td>1</td>\n",
       "    </tr>\n",
       "    <tr>\n",
       "      <th>167</th>\n",
       "      <td>4050091</td>\n",
       "      <td>2</td>\n",
       "      <td>1</td>\n",
       "    </tr>\n",
       "    <tr>\n",
       "      <th>168</th>\n",
       "      <td>4026646</td>\n",
       "      <td>2</td>\n",
       "      <td>1</td>\n",
       "    </tr>\n",
       "  </tbody>\n",
       "</table>\n",
       "<p>169 rows × 3 columns</p>\n",
       "</div>"
      ],
      "text/plain": [
       "     COD_CLIENTE  Numero_compras  MES\n",
       "0        4080598               5    1\n",
       "1        4048649               4    1\n",
       "2        4047747               4    1\n",
       "3        4016609               4    1\n",
       "4        4095545               4    1\n",
       "..           ...             ...  ...\n",
       "164      4058240               2    1\n",
       "165      4134335               2    1\n",
       "166      4001705               2    1\n",
       "167      4050091               2    1\n",
       "168      4026646               2    1\n",
       "\n",
       "[169 rows x 3 columns]"
      ]
     },
     "execution_count": 49,
     "metadata": {
      "tags": []
     },
     "output_type": "execute_result"
    }
   ],
   "source": [
    "#Criando a lista de clientes que compraram mais de uma vez em janeiro\n",
    "clientes_recorr_jan = clientes_janeiro_2020.value_counts(['COD_CLIENTE'])\n",
    "clientes_recorr_jan = clientes_recorr_jan[clientes_recorr_jan>1]\n",
    "clientes_recorr_jan = pd.DataFrame(clientes_recorr_jan)\n",
    "clientes_recorr_jan.reset_index()\n",
    "clientes_recorr_jan.rename(columns = {0: 'Numero_compras'}, inplace = True)\n",
    "clientes_recorr_jan = clientes_recorr_jan.reset_index()\n",
    "clientes_recorr_jan['MES'] = 1\n",
    "clientes_recorr_jan\n"
   ]
  },
  {
   "cell_type": "markdown",
   "metadata": {
    "id": "SZh5Xk0e0ZZJ"
   },
   "source": [
    "Criando df com clientes que fizeram mais de uma compra no mes em 2020"
   ]
  },
  {
   "cell_type": "code",
   "execution_count": null,
   "metadata": {
    "colab": {
     "base_uri": "https://localhost:8080/",
     "height": 47
    },
    "id": "XRuX0qNo0cSi",
    "outputId": "30f8ee96-bb65-41e3-90a6-d072f8261604"
   },
   "outputs": [
    {
     "data": {
      "text/html": [
       "<div>\n",
       "<style scoped>\n",
       "    .dataframe tbody tr th:only-of-type {\n",
       "        vertical-align: middle;\n",
       "    }\n",
       "\n",
       "    .dataframe tbody tr th {\n",
       "        vertical-align: top;\n",
       "    }\n",
       "\n",
       "    .dataframe thead th {\n",
       "        text-align: right;\n",
       "    }\n",
       "</style>\n",
       "<table border=\"1\" class=\"dataframe\">\n",
       "  <thead>\n",
       "    <tr style=\"text-align: right;\">\n",
       "      <th></th>\n",
       "      <th>COD_CLIENTE</th>\n",
       "      <th>Numero_compras</th>\n",
       "      <th>MES</th>\n",
       "    </tr>\n",
       "  </thead>\n",
       "  <tbody>\n",
       "  </tbody>\n",
       "</table>\n",
       "</div>"
      ],
      "text/plain": [
       "Empty DataFrame\n",
       "Columns: [COD_CLIENTE, Numero_compras, MES]\n",
       "Index: []"
      ]
     },
     "execution_count": 50,
     "metadata": {
      "tags": []
     },
     "output_type": "execute_result"
    }
   ],
   "source": [
    "cliente_data[cliente_data['ANO'] == 2020]\n",
    "b = pd.DataFrame(columns=['COD_CLIENTE', 'Numero_compras',  'MES'])\n",
    "\n",
    "\n",
    "b"
   ]
  },
  {
   "cell_type": "code",
   "execution_count": null,
   "metadata": {
    "colab": {
     "base_uri": "https://localhost:8080/",
     "height": 402
    },
    "id": "_Scj5_MO0ejC",
    "outputId": "0ba9b230-71bb-4851-d48a-2697d9fcc887"
   },
   "outputs": [
    {
     "data": {
      "text/html": [
       "<div>\n",
       "<style scoped>\n",
       "    .dataframe tbody tr th:only-of-type {\n",
       "        vertical-align: middle;\n",
       "    }\n",
       "\n",
       "    .dataframe tbody tr th {\n",
       "        vertical-align: top;\n",
       "    }\n",
       "\n",
       "    .dataframe thead th {\n",
       "        text-align: right;\n",
       "    }\n",
       "</style>\n",
       "<table border=\"1\" class=\"dataframe\">\n",
       "  <thead>\n",
       "    <tr style=\"text-align: right;\">\n",
       "      <th></th>\n",
       "      <th>COD_CLIENTE</th>\n",
       "      <th>Numero_compras</th>\n",
       "      <th>MES</th>\n",
       "    </tr>\n",
       "  </thead>\n",
       "  <tbody>\n",
       "    <tr>\n",
       "      <th>0</th>\n",
       "      <td>4121425</td>\n",
       "      <td>10</td>\n",
       "      <td>1</td>\n",
       "    </tr>\n",
       "    <tr>\n",
       "      <th>1</th>\n",
       "      <td>4143993</td>\n",
       "      <td>7</td>\n",
       "      <td>1</td>\n",
       "    </tr>\n",
       "    <tr>\n",
       "      <th>2</th>\n",
       "      <td>4095545</td>\n",
       "      <td>6</td>\n",
       "      <td>1</td>\n",
       "    </tr>\n",
       "    <tr>\n",
       "      <th>3</th>\n",
       "      <td>4086033</td>\n",
       "      <td>6</td>\n",
       "      <td>1</td>\n",
       "    </tr>\n",
       "    <tr>\n",
       "      <th>4</th>\n",
       "      <td>4062928</td>\n",
       "      <td>6</td>\n",
       "      <td>1</td>\n",
       "    </tr>\n",
       "    <tr>\n",
       "      <th>...</th>\n",
       "      <td>...</td>\n",
       "      <td>...</td>\n",
       "      <td>...</td>\n",
       "    </tr>\n",
       "    <tr>\n",
       "      <th>1003</th>\n",
       "      <td>4143764</td>\n",
       "      <td>2</td>\n",
       "      <td>12</td>\n",
       "    </tr>\n",
       "    <tr>\n",
       "      <th>1004</th>\n",
       "      <td>4146145</td>\n",
       "      <td>2</td>\n",
       "      <td>12</td>\n",
       "    </tr>\n",
       "    <tr>\n",
       "      <th>1005</th>\n",
       "      <td>4002332</td>\n",
       "      <td>2</td>\n",
       "      <td>12</td>\n",
       "    </tr>\n",
       "    <tr>\n",
       "      <th>1006</th>\n",
       "      <td>4074131</td>\n",
       "      <td>2</td>\n",
       "      <td>12</td>\n",
       "    </tr>\n",
       "    <tr>\n",
       "      <th>1007</th>\n",
       "      <td>4069566</td>\n",
       "      <td>2</td>\n",
       "      <td>12</td>\n",
       "    </tr>\n",
       "  </tbody>\n",
       "</table>\n",
       "<p>7828 rows × 3 columns</p>\n",
       "</div>"
      ],
      "text/plain": [
       "     COD_CLIENTE Numero_compras MES\n",
       "0        4121425             10   1\n",
       "1        4143993              7   1\n",
       "2        4095545              6   1\n",
       "3        4086033              6   1\n",
       "4        4062928              6   1\n",
       "...          ...            ...  ..\n",
       "1003     4143764              2  12\n",
       "1004     4146145              2  12\n",
       "1005     4002332              2  12\n",
       "1006     4074131              2  12\n",
       "1007     4069566              2  12\n",
       "\n",
       "[7828 rows x 3 columns]"
      ]
     },
     "execution_count": 51,
     "metadata": {
      "tags": []
     },
     "output_type": "execute_result"
    }
   ],
   "source": [
    "for mes in range(1, 13):             \n",
    "  df = cliente_data[cliente_data['MES'] == mes]\n",
    "  df = df[df['MES'] == mes]\n",
    "  df = df.value_counts(['COD_CLIENTE'])\n",
    "  df = df[df>1]\n",
    "  df = pd.DataFrame (df)\n",
    "  df['MES'] = mes\n",
    "  df = df.rename(columns = {0: 'Numero_compras'}).reset_index()\n",
    "\n",
    "  b = pd.concat([b, df])\n",
    "recorrencia_mes_2020 = b\n",
    "recorrencia_mes_2020"
   ]
  },
  {
   "cell_type": "markdown",
   "metadata": {
    "id": "SsPKf9PV0nUj"
   },
   "source": [
    "Criando df com clientes que fizeram mais de uma compra no mes em 2021"
   ]
  },
  {
   "cell_type": "code",
   "execution_count": null,
   "metadata": {
    "id": "PcLN5Sdj0k9M"
   },
   "outputs": [],
   "source": [
    "cliente_data[cliente_data['ANO'] == 2021]\n",
    "c = pd.DataFrame(columns=['COD_CLIENTE', 'Numero_compras',  'MES'])\n"
   ]
  },
  {
   "cell_type": "code",
   "execution_count": null,
   "metadata": {
    "colab": {
     "base_uri": "https://localhost:8080/",
     "height": 402
    },
    "id": "0QwiX7EB0rWr",
    "outputId": "fc3de900-29c4-40fe-c81b-ddd0f2394935"
   },
   "outputs": [
    {
     "data": {
      "text/html": [
       "<div>\n",
       "<style scoped>\n",
       "    .dataframe tbody tr th:only-of-type {\n",
       "        vertical-align: middle;\n",
       "    }\n",
       "\n",
       "    .dataframe tbody tr th {\n",
       "        vertical-align: top;\n",
       "    }\n",
       "\n",
       "    .dataframe thead th {\n",
       "        text-align: right;\n",
       "    }\n",
       "</style>\n",
       "<table border=\"1\" class=\"dataframe\">\n",
       "  <thead>\n",
       "    <tr style=\"text-align: right;\">\n",
       "      <th></th>\n",
       "      <th>COD_CLIENTE</th>\n",
       "      <th>Numero_compras</th>\n",
       "      <th>MES</th>\n",
       "    </tr>\n",
       "  </thead>\n",
       "  <tbody>\n",
       "    <tr>\n",
       "      <th>0</th>\n",
       "      <td>4121425</td>\n",
       "      <td>10</td>\n",
       "      <td>1</td>\n",
       "    </tr>\n",
       "    <tr>\n",
       "      <th>1</th>\n",
       "      <td>4143993</td>\n",
       "      <td>7</td>\n",
       "      <td>1</td>\n",
       "    </tr>\n",
       "    <tr>\n",
       "      <th>2</th>\n",
       "      <td>4095545</td>\n",
       "      <td>6</td>\n",
       "      <td>1</td>\n",
       "    </tr>\n",
       "    <tr>\n",
       "      <th>3</th>\n",
       "      <td>4086033</td>\n",
       "      <td>6</td>\n",
       "      <td>1</td>\n",
       "    </tr>\n",
       "    <tr>\n",
       "      <th>4</th>\n",
       "      <td>4062928</td>\n",
       "      <td>6</td>\n",
       "      <td>1</td>\n",
       "    </tr>\n",
       "    <tr>\n",
       "      <th>...</th>\n",
       "      <td>...</td>\n",
       "      <td>...</td>\n",
       "      <td>...</td>\n",
       "    </tr>\n",
       "    <tr>\n",
       "      <th>196</th>\n",
       "      <td>4033647</td>\n",
       "      <td>2</td>\n",
       "      <td>3</td>\n",
       "    </tr>\n",
       "    <tr>\n",
       "      <th>197</th>\n",
       "      <td>4142152</td>\n",
       "      <td>2</td>\n",
       "      <td>3</td>\n",
       "    </tr>\n",
       "    <tr>\n",
       "      <th>198</th>\n",
       "      <td>4105892</td>\n",
       "      <td>2</td>\n",
       "      <td>3</td>\n",
       "    </tr>\n",
       "    <tr>\n",
       "      <th>199</th>\n",
       "      <td>4033830</td>\n",
       "      <td>2</td>\n",
       "      <td>3</td>\n",
       "    </tr>\n",
       "    <tr>\n",
       "      <th>200</th>\n",
       "      <td>4000971</td>\n",
       "      <td>2</td>\n",
       "      <td>3</td>\n",
       "    </tr>\n",
       "  </tbody>\n",
       "</table>\n",
       "<p>1222 rows × 3 columns</p>\n",
       "</div>"
      ],
      "text/plain": [
       "    COD_CLIENTE Numero_compras MES\n",
       "0       4121425             10   1\n",
       "1       4143993              7   1\n",
       "2       4095545              6   1\n",
       "3       4086033              6   1\n",
       "4       4062928              6   1\n",
       "..          ...            ...  ..\n",
       "196     4033647              2   3\n",
       "197     4142152              2   3\n",
       "198     4105892              2   3\n",
       "199     4033830              2   3\n",
       "200     4000971              2   3\n",
       "\n",
       "[1222 rows x 3 columns]"
      ]
     },
     "execution_count": 53,
     "metadata": {
      "tags": []
     },
     "output_type": "execute_result"
    }
   ],
   "source": [
    "for mes in range(1, 4):             \n",
    "  df = cliente_data[cliente_data['MES'] == mes]\n",
    "  df = df[df['MES'] == mes]\n",
    "  df = df.value_counts(['COD_CLIENTE'])\n",
    "  df = df[df>1]\n",
    "  df = pd.DataFrame (df)\n",
    "  df['MES'] = mes\n",
    "  df = df.rename(columns = {0: 'Numero_compras'}).reset_index()\n",
    "\n",
    "  c = pd.concat([c, df])\n",
    "recorrencia_mes_2021 = c\n",
    "recorrencia_mes_2021"
   ]
  },
  {
   "cell_type": "markdown",
   "metadata": {
    "id": "wJjghLX208Vl"
   },
   "source": [
    "O que eu quero fazer ?\n",
    "\n",
    "1 - Pegar a lista de codigo de clientes no mes e comparar com a base dos clientes antigos\n",
    "\n",
    "2 - Adicionar os clientes novos a uma base de clientes novos\n",
    "\n",
    "\n",
    "3 - Adicionar os clientes novos à lista de clientes antigos\n",
    "\n",
    "4 - Passar para o próximo mês"
   ]
  },
  {
   "cell_type": "markdown",
   "metadata": {
    "id": "3gyL_sFG1E5p"
   },
   "source": [
    "Criando o lugar onde será armazenado os clientes que já compraram começando tomando janeiro como inicio"
   ]
  },
  {
   "cell_type": "code",
   "execution_count": null,
   "metadata": {
    "colab": {
     "base_uri": "https://localhost:8080/",
     "height": 402
    },
    "id": "BMvWtCoO1IE6",
    "outputId": "92f0f42f-5cc6-451c-ae63-5fc15d213594"
   },
   "outputs": [
    {
     "data": {
      "text/html": [
       "<div>\n",
       "<style scoped>\n",
       "    .dataframe tbody tr th:only-of-type {\n",
       "        vertical-align: middle;\n",
       "    }\n",
       "\n",
       "    .dataframe tbody tr th {\n",
       "        vertical-align: top;\n",
       "    }\n",
       "\n",
       "    .dataframe thead th {\n",
       "        text-align: right;\n",
       "    }\n",
       "</style>\n",
       "<table border=\"1\" class=\"dataframe\">\n",
       "  <thead>\n",
       "    <tr style=\"text-align: right;\">\n",
       "      <th></th>\n",
       "      <th>COD_CLIENTE</th>\n",
       "      <th>MES</th>\n",
       "    </tr>\n",
       "  </thead>\n",
       "  <tbody>\n",
       "    <tr>\n",
       "      <th>0</th>\n",
       "      <td>4040690</td>\n",
       "      <td>1</td>\n",
       "    </tr>\n",
       "    <tr>\n",
       "      <th>1</th>\n",
       "      <td>4003939</td>\n",
       "      <td>1</td>\n",
       "    </tr>\n",
       "    <tr>\n",
       "      <th>2</th>\n",
       "      <td>4043259</td>\n",
       "      <td>1</td>\n",
       "    </tr>\n",
       "    <tr>\n",
       "      <th>3</th>\n",
       "      <td>4090303</td>\n",
       "      <td>1</td>\n",
       "    </tr>\n",
       "    <tr>\n",
       "      <th>4</th>\n",
       "      <td>4080417</td>\n",
       "      <td>1</td>\n",
       "    </tr>\n",
       "    <tr>\n",
       "      <th>...</th>\n",
       "      <td>...</td>\n",
       "      <td>...</td>\n",
       "    </tr>\n",
       "    <tr>\n",
       "      <th>17660</th>\n",
       "      <td>4070588</td>\n",
       "      <td>1</td>\n",
       "    </tr>\n",
       "    <tr>\n",
       "      <th>17661</th>\n",
       "      <td>4068349</td>\n",
       "      <td>1</td>\n",
       "    </tr>\n",
       "    <tr>\n",
       "      <th>17662</th>\n",
       "      <td>4101531</td>\n",
       "      <td>1</td>\n",
       "    </tr>\n",
       "    <tr>\n",
       "      <th>17735</th>\n",
       "      <td>4024776</td>\n",
       "      <td>1</td>\n",
       "    </tr>\n",
       "    <tr>\n",
       "      <th>17742</th>\n",
       "      <td>4072600</td>\n",
       "      <td>1</td>\n",
       "    </tr>\n",
       "  </tbody>\n",
       "</table>\n",
       "<p>4746 rows × 2 columns</p>\n",
       "</div>"
      ],
      "text/plain": [
       "       COD_CLIENTE  MES\n",
       "0          4040690    1\n",
       "1          4003939    1\n",
       "2          4043259    1\n",
       "3          4090303    1\n",
       "4          4080417    1\n",
       "...            ...  ...\n",
       "17660      4070588    1\n",
       "17661      4068349    1\n",
       "17662      4101531    1\n",
       "17735      4024776    1\n",
       "17742      4072600    1\n",
       "\n",
       "[4746 rows x 2 columns]"
      ]
     },
     "execution_count": 54,
     "metadata": {
      "tags": []
     },
     "output_type": "execute_result"
    }
   ],
   "source": [
    "clientes_antigos = cliente_data[cliente_data['ANO'] == 2020]\n",
    "clientes_antigos = clientes_antigos[['COD_CLIENTE', 'MES']].drop_duplicates()\n",
    "clientes_antigos_inicial = clientes_antigos[clientes_antigos['MES']==1]\n",
    "clientes_antigos_inicial\n",
    "antigos = clientes_antigos_inicial\n",
    "antigos"
   ]
  },
  {
   "cell_type": "markdown",
   "metadata": {
    "id": "d-wUYFaz1PfS"
   },
   "source": [
    "left = antigos, right = fevereiro --> Eu quero um right excluding join para pegar os cliente de fevereiro que não estao na lista dos antigos == Clientes novos"
   ]
  },
  {
   "cell_type": "code",
   "execution_count": null,
   "metadata": {
    "colab": {
     "base_uri": "https://localhost:8080/",
     "height": 47
    },
    "id": "Hf_L8loO1ZYj",
    "outputId": "0d77c412-7de9-45de-c992-d5956918da59"
   },
   "outputs": [
    {
     "data": {
      "text/html": [
       "<div>\n",
       "<style scoped>\n",
       "    .dataframe tbody tr th:only-of-type {\n",
       "        vertical-align: middle;\n",
       "    }\n",
       "\n",
       "    .dataframe tbody tr th {\n",
       "        vertical-align: top;\n",
       "    }\n",
       "\n",
       "    .dataframe thead th {\n",
       "        text-align: right;\n",
       "    }\n",
       "</style>\n",
       "<table border=\"1\" class=\"dataframe\">\n",
       "  <thead>\n",
       "    <tr style=\"text-align: right;\">\n",
       "      <th></th>\n",
       "      <th>COD_CLIENTE</th>\n",
       "      <th>MES</th>\n",
       "    </tr>\n",
       "  </thead>\n",
       "  <tbody>\n",
       "  </tbody>\n",
       "</table>\n",
       "</div>"
      ],
      "text/plain": [
       "Empty DataFrame\n",
       "Columns: [COD_CLIENTE, MES]\n",
       "Index: []"
      ]
     },
     "execution_count": 55,
     "metadata": {
      "tags": []
     },
     "output_type": "execute_result"
    }
   ],
   "source": [
    "#Base onde serão armazenados os clientes novos\n",
    "clientes_novos = pd.DataFrame(columns=['COD_CLIENTE', 'MES'])\n",
    "clientes_novos\n"
   ]
  },
  {
   "cell_type": "markdown",
   "metadata": {
    "id": "PU4qLTr81c91"
   },
   "source": [
    "Fazendo o loop para todos os meses em 2020"
   ]
  },
  {
   "cell_type": "code",
   "execution_count": null,
   "metadata": {
    "colab": {
     "base_uri": "https://localhost:8080/",
     "height": 402
    },
    "id": "GGFleLHv1cD9",
    "outputId": "e24662a9-2058-4998-9d40-2023e0e30b2d"
   },
   "outputs": [
    {
     "data": {
      "text/html": [
       "<div>\n",
       "<style scoped>\n",
       "    .dataframe tbody tr th:only-of-type {\n",
       "        vertical-align: middle;\n",
       "    }\n",
       "\n",
       "    .dataframe tbody tr th {\n",
       "        vertical-align: top;\n",
       "    }\n",
       "\n",
       "    .dataframe thead th {\n",
       "        text-align: right;\n",
       "    }\n",
       "</style>\n",
       "<table border=\"1\" class=\"dataframe\">\n",
       "  <thead>\n",
       "    <tr style=\"text-align: right;\">\n",
       "      <th></th>\n",
       "      <th>COD_CLIENTE</th>\n",
       "      <th>MES</th>\n",
       "    </tr>\n",
       "  </thead>\n",
       "  <tbody>\n",
       "    <tr>\n",
       "      <th>0</th>\n",
       "      <td>4132557</td>\n",
       "      <td>2</td>\n",
       "    </tr>\n",
       "    <tr>\n",
       "      <th>1</th>\n",
       "      <td>4020591</td>\n",
       "      <td>2</td>\n",
       "    </tr>\n",
       "    <tr>\n",
       "      <th>2</th>\n",
       "      <td>4125343</td>\n",
       "      <td>2</td>\n",
       "    </tr>\n",
       "    <tr>\n",
       "      <th>3</th>\n",
       "      <td>4090660</td>\n",
       "      <td>2</td>\n",
       "    </tr>\n",
       "    <tr>\n",
       "      <th>4</th>\n",
       "      <td>4051716</td>\n",
       "      <td>2</td>\n",
       "    </tr>\n",
       "    <tr>\n",
       "      <th>...</th>\n",
       "      <td>...</td>\n",
       "      <td>...</td>\n",
       "    </tr>\n",
       "    <tr>\n",
       "      <th>16491</th>\n",
       "      <td>4116690</td>\n",
       "      <td>12</td>\n",
       "    </tr>\n",
       "    <tr>\n",
       "      <th>16492</th>\n",
       "      <td>4047403</td>\n",
       "      <td>12</td>\n",
       "    </tr>\n",
       "    <tr>\n",
       "      <th>16493</th>\n",
       "      <td>4145384</td>\n",
       "      <td>12</td>\n",
       "    </tr>\n",
       "    <tr>\n",
       "      <th>16494</th>\n",
       "      <td>4123929</td>\n",
       "      <td>12</td>\n",
       "    </tr>\n",
       "    <tr>\n",
       "      <th>16495</th>\n",
       "      <td>4049216</td>\n",
       "      <td>12</td>\n",
       "    </tr>\n",
       "  </tbody>\n",
       "</table>\n",
       "<p>128510 rows × 2 columns</p>\n",
       "</div>"
      ],
      "text/plain": [
       "      COD_CLIENTE MES\n",
       "0         4132557   2\n",
       "1         4020591   2\n",
       "2         4125343   2\n",
       "3         4090660   2\n",
       "4         4051716   2\n",
       "...           ...  ..\n",
       "16491     4116690  12\n",
       "16492     4047403  12\n",
       "16493     4145384  12\n",
       "16494     4123929  12\n",
       "16495     4049216  12\n",
       "\n",
       "[128510 rows x 2 columns]"
      ]
     },
     "execution_count": 56,
     "metadata": {
      "tags": []
     },
     "output_type": "execute_result"
    }
   ],
   "source": [
    "for mes in range(1, 13):\n",
    "  clientes_ano = cliente_data[cliente_data['ANO'] == 2020]\n",
    "  clientes_mes = clientes_ano[clientes_ano['MES']== mes]\n",
    "  clientes_mes = clientes_mes[['COD_CLIENTE', 'MES']].drop_duplicates()\n",
    "  q = pd.merge(antigos, clientes_mes, how ='right', on= 'COD_CLIENTE', indicator= 'right only') \n",
    "  q =  q[q['right only'] == 'right_only']\n",
    "  q = q.rename(columns = {'MES_y': 'MES'})\n",
    "  novos_mes = q.drop(columns = (['MES_x', 'right only']))\n",
    "  clientes_novos = pd.concat([clientes_novos, novos_mes]) #adicionando os novos do mes à lista de novos\n",
    "  antigos = pd.concat([antigos, novos_mes]) #adicionando os novos clientes do mes aos antigos\n",
    "\n",
    "antigos_2020 = antigos\n",
    "clientes_novos_2020 = clientes_novos\n",
    "clientes_novos_2020"
   ]
  },
  {
   "cell_type": "code",
   "execution_count": null,
   "metadata": {
    "colab": {
     "base_uri": "https://localhost:8080/",
     "height": 402
    },
    "id": "HFGEbaqL1pyy",
    "outputId": "e585c45f-2ff2-4c39-a43e-e46da88c9ba6"
   },
   "outputs": [
    {
     "data": {
      "text/html": [
       "<div>\n",
       "<style scoped>\n",
       "    .dataframe tbody tr th:only-of-type {\n",
       "        vertical-align: middle;\n",
       "    }\n",
       "\n",
       "    .dataframe tbody tr th {\n",
       "        vertical-align: top;\n",
       "    }\n",
       "\n",
       "    .dataframe thead th {\n",
       "        text-align: right;\n",
       "    }\n",
       "</style>\n",
       "<table border=\"1\" class=\"dataframe\">\n",
       "  <thead>\n",
       "    <tr style=\"text-align: right;\">\n",
       "      <th></th>\n",
       "      <th>MES</th>\n",
       "      <th>NUMERO_CLIENTES_ANTIGOS</th>\n",
       "    </tr>\n",
       "  </thead>\n",
       "  <tbody>\n",
       "    <tr>\n",
       "      <th>0</th>\n",
       "      <td>1</td>\n",
       "      <td>4746</td>\n",
       "    </tr>\n",
       "    <tr>\n",
       "      <th>1</th>\n",
       "      <td>2</td>\n",
       "      <td>8746</td>\n",
       "    </tr>\n",
       "    <tr>\n",
       "      <th>2</th>\n",
       "      <td>3</td>\n",
       "      <td>12715</td>\n",
       "    </tr>\n",
       "    <tr>\n",
       "      <th>3</th>\n",
       "      <td>4</td>\n",
       "      <td>21022</td>\n",
       "    </tr>\n",
       "    <tr>\n",
       "      <th>4</th>\n",
       "      <td>5</td>\n",
       "      <td>44877</td>\n",
       "    </tr>\n",
       "    <tr>\n",
       "      <th>5</th>\n",
       "      <td>6</td>\n",
       "      <td>64408</td>\n",
       "    </tr>\n",
       "    <tr>\n",
       "      <th>6</th>\n",
       "      <td>7</td>\n",
       "      <td>75444</td>\n",
       "    </tr>\n",
       "    <tr>\n",
       "      <th>7</th>\n",
       "      <td>8</td>\n",
       "      <td>84397</td>\n",
       "    </tr>\n",
       "    <tr>\n",
       "      <th>8</th>\n",
       "      <td>9</td>\n",
       "      <td>90305</td>\n",
       "    </tr>\n",
       "    <tr>\n",
       "      <th>9</th>\n",
       "      <td>10</td>\n",
       "      <td>97142</td>\n",
       "    </tr>\n",
       "    <tr>\n",
       "      <th>10</th>\n",
       "      <td>11</td>\n",
       "      <td>119396</td>\n",
       "    </tr>\n",
       "    <tr>\n",
       "      <th>11</th>\n",
       "      <td>12</td>\n",
       "      <td>133256</td>\n",
       "    </tr>\n",
       "  </tbody>\n",
       "</table>\n",
       "</div>"
      ],
      "text/plain": [
       "    MES  NUMERO_CLIENTES_ANTIGOS\n",
       "0     1                     4746\n",
       "1     2                     8746\n",
       "2     3                    12715\n",
       "3     4                    21022\n",
       "4     5                    44877\n",
       "5     6                    64408\n",
       "6     7                    75444\n",
       "7     8                    84397\n",
       "8     9                    90305\n",
       "9    10                    97142\n",
       "10   11                   119396\n",
       "11   12                   133256"
      ]
     },
     "execution_count": 57,
     "metadata": {
      "tags": []
     },
     "output_type": "execute_result"
    }
   ],
   "source": [
    "antigos_mes = antigos_2020.groupby('MES').count().cumsum().reset_index()\n",
    "antigos_mes = antigos_mes.rename(columns = {'COD_CLIENTE':'NUMERO_CLIENTES_ANTIGOS'})\n",
    "antigos_mes"
   ]
  },
  {
   "cell_type": "code",
   "execution_count": null,
   "metadata": {
    "colab": {
     "base_uri": "https://localhost:8080/",
     "height": 373
    },
    "id": "d-Dn-C2p2HAq",
    "outputId": "63be4267-73e3-488a-936a-4202f2a701ca"
   },
   "outputs": [
    {
     "data": {
      "text/html": [
       "<div>\n",
       "<style scoped>\n",
       "    .dataframe tbody tr th:only-of-type {\n",
       "        vertical-align: middle;\n",
       "    }\n",
       "\n",
       "    .dataframe tbody tr th {\n",
       "        vertical-align: top;\n",
       "    }\n",
       "\n",
       "    .dataframe thead th {\n",
       "        text-align: right;\n",
       "    }\n",
       "</style>\n",
       "<table border=\"1\" class=\"dataframe\">\n",
       "  <thead>\n",
       "    <tr style=\"text-align: right;\">\n",
       "      <th></th>\n",
       "      <th>MES</th>\n",
       "      <th>NUMERO_CLIENTES_NOVOS</th>\n",
       "    </tr>\n",
       "  </thead>\n",
       "  <tbody>\n",
       "    <tr>\n",
       "      <th>0</th>\n",
       "      <td>2</td>\n",
       "      <td>4000</td>\n",
       "    </tr>\n",
       "    <tr>\n",
       "      <th>1</th>\n",
       "      <td>3</td>\n",
       "      <td>3969</td>\n",
       "    </tr>\n",
       "    <tr>\n",
       "      <th>2</th>\n",
       "      <td>4</td>\n",
       "      <td>8307</td>\n",
       "    </tr>\n",
       "    <tr>\n",
       "      <th>3</th>\n",
       "      <td>5</td>\n",
       "      <td>23855</td>\n",
       "    </tr>\n",
       "    <tr>\n",
       "      <th>4</th>\n",
       "      <td>6</td>\n",
       "      <td>19531</td>\n",
       "    </tr>\n",
       "    <tr>\n",
       "      <th>5</th>\n",
       "      <td>7</td>\n",
       "      <td>11036</td>\n",
       "    </tr>\n",
       "    <tr>\n",
       "      <th>6</th>\n",
       "      <td>8</td>\n",
       "      <td>8953</td>\n",
       "    </tr>\n",
       "    <tr>\n",
       "      <th>7</th>\n",
       "      <td>9</td>\n",
       "      <td>5908</td>\n",
       "    </tr>\n",
       "    <tr>\n",
       "      <th>8</th>\n",
       "      <td>10</td>\n",
       "      <td>6837</td>\n",
       "    </tr>\n",
       "    <tr>\n",
       "      <th>9</th>\n",
       "      <td>11</td>\n",
       "      <td>22254</td>\n",
       "    </tr>\n",
       "    <tr>\n",
       "      <th>10</th>\n",
       "      <td>12</td>\n",
       "      <td>13860</td>\n",
       "    </tr>\n",
       "  </tbody>\n",
       "</table>\n",
       "</div>"
      ],
      "text/plain": [
       "    MES  NUMERO_CLIENTES_NOVOS\n",
       "0     2                   4000\n",
       "1     3                   3969\n",
       "2     4                   8307\n",
       "3     5                  23855\n",
       "4     6                  19531\n",
       "5     7                  11036\n",
       "6     8                   8953\n",
       "7     9                   5908\n",
       "8    10                   6837\n",
       "9    11                  22254\n",
       "10   12                  13860"
      ]
     },
     "execution_count": 58,
     "metadata": {
      "tags": []
     },
     "output_type": "execute_result"
    }
   ],
   "source": [
    "clientes_novos_mes = clientes_novos_2020.groupby('MES').count().reset_index()\n",
    "clientes_novos_mes = clientes_novos_mes.rename(columns = {'COD_CLIENTE': 'NUMERO_CLIENTES_NOVOS'})\n",
    "clientes_novos_mes"
   ]
  },
  {
   "cell_type": "markdown",
   "metadata": {
    "id": "3opEdvg-2UcG"
   },
   "source": [
    "Visualização - Número de clientes antigos"
   ]
  },
  {
   "cell_type": "code",
   "execution_count": null,
   "metadata": {
    "colab": {
     "base_uri": "https://localhost:8080/",
     "height": 312
    },
    "id": "un8ZIVPV2Wqi",
    "outputId": "3d526fd0-d256-4ab8-94f8-d281536957af"
   },
   "outputs": [
    {
     "data": {
      "text/plain": [
       "<BarContainer object of 12 artists>"
      ]
     },
     "execution_count": 59,
     "metadata": {
      "tags": []
     },
     "output_type": "execute_result"
    },
    {
     "data": {
      "image/png": "[encoded data removed]",
      "text/plain": [
       "<Figure size 432x288 with 1 Axes>"
      ]
     },
     "metadata": {
      "needs_background": "light",
      "tags": []
     },
     "output_type": "display_data"
    }
   ],
   "source": [
    "x_axis_a = antigos_mes.MES\n",
    "y_axis_a = antigos_mes.NUMERO_CLIENTES_ANTIGOS\n",
    "xlabel_a = 'Mês'\n",
    "ylabel_a = 'Numero de clientes antigos'\n",
    "title = 'Numero de clientes antigos por mês'\n",
    "plt.title(title)\n",
    "plt.xticks (x_axis_a)\n",
    "plt.xlabel(xlabel_a)\n",
    "plt.ylabel(ylabel_a)\n",
    "plt.bar(x_axis_a, y_axis_a)"
   ]
  },
  {
   "cell_type": "markdown",
   "metadata": {
    "id": "OzQ3aZTN4--5"
   },
   "source": [
    "Vizualização clientes novos"
   ]
  },
  {
   "cell_type": "code",
   "execution_count": null,
   "metadata": {
    "colab": {
     "base_uri": "https://localhost:8080/",
     "height": 329
    },
    "id": "KdRksyVe5CPJ",
    "outputId": "3d62796e-b0a4-47a5-cc2f-8368ede64da7"
   },
   "outputs": [
    {
     "name": "stderr",
     "output_type": "stream",
     "text": [
      "No handles with labels found to put in legend.\n"
     ]
    },
    {
     "data": {
      "text/plain": [
       "<matplotlib.legend.Legend at 0x7f5568fb8210>"
      ]
     },
     "execution_count": 60,
     "metadata": {
      "tags": []
     },
     "output_type": "execute_result"
    },
    {
     "data": {
      "image/png": "[encoded data removed]",
      "text/plain": [
       "<Figure size 432x288 with 1 Axes>"
      ]
     },
     "metadata": {
      "needs_background": "light",
      "tags": []
     },
     "output_type": "display_data"
    }
   ],
   "source": [
    "x_axis = clientes_novos_mes.MES\n",
    "y_axis = clientes_novos_mes.NUMERO_CLIENTES_NOVOS\n",
    "ylabel = 'Numero clientes'\n",
    "xlabel = 'Mês'\n",
    "title = 'Clientes por mes'\n",
    "plt.legend()\n",
    "plt.xlabel(xlabel)\n",
    "plt.ylabel(ylabel)\n",
    "plt.title(title)\n",
    "plt.bar(x_axis_a, y_axis_a, label = 'Total Clientes Antigos')\n",
    "plt.bar(x_axis, y_axis, label = 'Clientes Novos')\n",
    "plt.xticks(x_axis_a)\n",
    "plt.legend() "
   ]
  },
  {
   "cell_type": "markdown",
   "metadata": {
    "id": "kJjxyoIS62BL"
   },
   "source": [
    "Avaliação na frequencia média de compra de clientes recorrentes"
   ]
  },
  {
   "cell_type": "code",
   "execution_count": null,
   "metadata": {
    "colab": {
     "base_uri": "https://localhost:8080/",
     "height": 523
    },
    "id": "be2a-Q2I65bO",
    "outputId": "5d0a616d-336e-4af3-e346-8e2b0bb60e88"
   },
   "outputs": [
    {
     "name": "stderr",
     "output_type": "stream",
     "text": [
      "/usr/local/lib/python3.7/dist-packages/pandas/core/generic.py:5170: SettingWithCopyWarning: \n",
      "A value is trying to be set on a copy of a slice from a DataFrame.\n",
      "Try using .loc[row_indexer,col_indexer] = value instead\n",
      "\n",
      "See the caveats in the documentation: https://pandas.pydata.org/pandas-docs/stable/user_guide/indexing.html#returning-a-view-versus-a-copy\n",
      "  self[name] = value\n"
     ]
    },
    {
     "data": {
      "text/html": [
       "<div>\n",
       "<style scoped>\n",
       "    .dataframe tbody tr th:only-of-type {\n",
       "        vertical-align: middle;\n",
       "    }\n",
       "\n",
       "    .dataframe tbody tr th {\n",
       "        vertical-align: top;\n",
       "    }\n",
       "\n",
       "    .dataframe thead th {\n",
       "        text-align: right;\n",
       "    }\n",
       "</style>\n",
       "<table border=\"1\" class=\"dataframe\">\n",
       "  <thead>\n",
       "    <tr style=\"text-align: right;\">\n",
       "      <th></th>\n",
       "      <th>MES</th>\n",
       "      <th>Numero_compras</th>\n",
       "    </tr>\n",
       "  </thead>\n",
       "  <tbody>\n",
       "    <tr>\n",
       "      <th>0</th>\n",
       "      <td>1</td>\n",
       "      <td>2.170623</td>\n",
       "    </tr>\n",
       "    <tr>\n",
       "      <th>1</th>\n",
       "      <td>2</td>\n",
       "      <td>2.149856</td>\n",
       "    </tr>\n",
       "    <tr>\n",
       "      <th>2</th>\n",
       "      <td>3</td>\n",
       "      <td>2.109453</td>\n",
       "    </tr>\n",
       "    <tr>\n",
       "      <th>3</th>\n",
       "      <td>4</td>\n",
       "      <td>2.107692</td>\n",
       "    </tr>\n",
       "    <tr>\n",
       "      <th>4</th>\n",
       "      <td>5</td>\n",
       "      <td>2.091146</td>\n",
       "    </tr>\n",
       "    <tr>\n",
       "      <th>5</th>\n",
       "      <td>6</td>\n",
       "      <td>2.058910</td>\n",
       "    </tr>\n",
       "    <tr>\n",
       "      <th>6</th>\n",
       "      <td>7</td>\n",
       "      <td>2.100932</td>\n",
       "    </tr>\n",
       "    <tr>\n",
       "      <th>7</th>\n",
       "      <td>8</td>\n",
       "      <td>2.174927</td>\n",
       "    </tr>\n",
       "    <tr>\n",
       "      <th>8</th>\n",
       "      <td>9</td>\n",
       "      <td>2.180505</td>\n",
       "    </tr>\n",
       "    <tr>\n",
       "      <th>9</th>\n",
       "      <td>10</td>\n",
       "      <td>2.198413</td>\n",
       "    </tr>\n",
       "    <tr>\n",
       "      <th>10</th>\n",
       "      <td>11</td>\n",
       "      <td>2.238980</td>\n",
       "    </tr>\n",
       "    <tr>\n",
       "      <th>11</th>\n",
       "      <td>12</td>\n",
       "      <td>2.225198</td>\n",
       "    </tr>\n",
       "  </tbody>\n",
       "</table>\n",
       "</div>"
      ],
      "text/plain": [
       "    MES  Numero_compras\n",
       "0     1        2.170623\n",
       "1     2        2.149856\n",
       "2     3        2.109453\n",
       "3     4        2.107692\n",
       "4     5        2.091146\n",
       "5     6        2.058910\n",
       "6     7        2.100932\n",
       "7     8        2.174927\n",
       "8     9        2.180505\n",
       "9    10        2.198413\n",
       "10   11        2.238980\n",
       "11   12        2.225198"
      ]
     },
     "execution_count": 61,
     "metadata": {
      "tags": []
     },
     "output_type": "execute_result"
    }
   ],
   "source": [
    "recorrencia_mes_2020.sort_values('Numero_compras', ascending = False)\n",
    "r_mes_2020 = recorrencia_mes_2020[['Numero_compras', 'MES']]\n",
    "r_mes_2020.Numero_compras = pd.to_numeric(r_mes_2020.Numero_compras)\n",
    "r_mes_2020 = r_mes_2020.groupby('MES').mean().reset_index()\n",
    "r_mes_2020\n"
   ]
  },
  {
   "cell_type": "markdown",
   "metadata": {
    "id": "5RvLwHZD6-bd"
   },
   "source": [
    "Avaliação na frequencia média de compra dos clientes por mes\n"
   ]
  },
  {
   "cell_type": "code",
   "execution_count": null,
   "metadata": {
    "colab": {
     "base_uri": "https://localhost:8080/",
     "height": 402
    },
    "id": "ylClHCti7BgQ",
    "outputId": "8c471e69-f8f0-4cca-b4f8-ee83bd990881"
   },
   "outputs": [
    {
     "data": {
      "text/html": [
       "<div>\n",
       "<style scoped>\n",
       "    .dataframe tbody tr th:only-of-type {\n",
       "        vertical-align: middle;\n",
       "    }\n",
       "\n",
       "    .dataframe tbody tr th {\n",
       "        vertical-align: top;\n",
       "    }\n",
       "\n",
       "    .dataframe thead th {\n",
       "        text-align: right;\n",
       "    }\n",
       "</style>\n",
       "<table border=\"1\" class=\"dataframe\">\n",
       "  <thead>\n",
       "    <tr style=\"text-align: right;\">\n",
       "      <th></th>\n",
       "      <th>MES</th>\n",
       "      <th>Numero_compras</th>\n",
       "    </tr>\n",
       "  </thead>\n",
       "  <tbody>\n",
       "    <tr>\n",
       "      <th>0</th>\n",
       "      <td>1</td>\n",
       "      <td>1.114414</td>\n",
       "    </tr>\n",
       "    <tr>\n",
       "      <th>1</th>\n",
       "      <td>2</td>\n",
       "      <td>1.080835</td>\n",
       "    </tr>\n",
       "    <tr>\n",
       "      <th>2</th>\n",
       "      <td>3</td>\n",
       "      <td>1.066458</td>\n",
       "    </tr>\n",
       "    <tr>\n",
       "      <th>3</th>\n",
       "      <td>4</td>\n",
       "      <td>1.049371</td>\n",
       "    </tr>\n",
       "    <tr>\n",
       "      <th>4</th>\n",
       "      <td>5</td>\n",
       "      <td>1.066039</td>\n",
       "    </tr>\n",
       "    <tr>\n",
       "      <th>5</th>\n",
       "      <td>6</td>\n",
       "      <td>1.066803</td>\n",
       "    </tr>\n",
       "    <tr>\n",
       "      <th>6</th>\n",
       "      <td>7</td>\n",
       "      <td>1.110290</td>\n",
       "    </tr>\n",
       "    <tr>\n",
       "      <th>7</th>\n",
       "      <td>8</td>\n",
       "      <td>1.076652</td>\n",
       "    </tr>\n",
       "    <tr>\n",
       "      <th>8</th>\n",
       "      <td>9</td>\n",
       "      <td>1.090833</td>\n",
       "    </tr>\n",
       "    <tr>\n",
       "      <th>9</th>\n",
       "      <td>10</td>\n",
       "      <td>1.107206</td>\n",
       "    </tr>\n",
       "    <tr>\n",
       "      <th>10</th>\n",
       "      <td>11</td>\n",
       "      <td>1.203883</td>\n",
       "    </tr>\n",
       "    <tr>\n",
       "      <th>11</th>\n",
       "      <td>12</td>\n",
       "      <td>1.141111</td>\n",
       "    </tr>\n",
       "  </tbody>\n",
       "</table>\n",
       "</div>"
      ],
      "text/plain": [
       "    MES  Numero_compras\n",
       "0     1        1.114414\n",
       "1     2        1.080835\n",
       "2     3        1.066458\n",
       "3     4        1.049371\n",
       "4     5        1.066039\n",
       "5     6        1.066803\n",
       "6     7        1.110290\n",
       "7     8        1.076652\n",
       "8     9        1.090833\n",
       "9    10        1.107206\n",
       "10   11        1.203883\n",
       "11   12        1.141111"
      ]
     },
     "execution_count": 62,
     "metadata": {
      "tags": []
     },
     "output_type": "execute_result"
    }
   ],
   "source": [
    "for mes in range(1, 13):             \n",
    "  df = cliente_data[cliente_data['MES'] == mes]\n",
    "  df = df[df['MES'] == mes]\n",
    "  df = df.value_counts(['COD_CLIENTE'])\n",
    "  df = pd.DataFrame (df)\n",
    "  df['MES'] = mes\n",
    "  df = df.rename(columns = {0: 'Numero_compras'}).reset_index()\n",
    "\n",
    "  b = pd.concat([b, df])\n",
    "\n",
    "b.Numero_compras = pd.to_numeric(b.Numero_compras)\n",
    "media_total = b.groupby(['MES']).mean()\n",
    "media_total = media_total.reset_index()\n",
    "media_total"
   ]
  },
  {
   "cell_type": "markdown",
   "metadata": {
    "id": "PkmjD1wT7LmV"
   },
   "source": [
    "Visualização - Numero médio de compras por clientes recorrentes no mês e clientes totais"
   ]
  },
  {
   "cell_type": "code",
   "execution_count": null,
   "metadata": {
    "colab": {
     "base_uri": "https://localhost:8080/",
     "height": 312
    },
    "id": "LE2qp6S39PfY",
    "outputId": "9d5bda12-08fc-4c43-ad7f-0f314d3933e7"
   },
   "outputs": [
    {
     "data": {
      "text/plain": [
       "<matplotlib.legend.Legend at 0x7f5563e2c5d0>"
      ]
     },
     "execution_count": 63,
     "metadata": {
      "tags": []
     },
     "output_type": "execute_result"
    },
    {
     "data": {
      "image/png": "[encoded data removed]",
      "text/plain": [
       "<Figure size 432x288 with 1 Axes>"
      ]
     },
     "metadata": {
      "needs_background": "light",
      "tags": []
     },
     "output_type": "display_data"
    }
   ],
   "source": [
    "x_axis = r_mes_2020.MES\n",
    "y_axis_mt = media_total.Numero_compras\n",
    "y_axis = r_mes_2020.Numero_compras\n",
    "xlabel = 'Mês'\n",
    "ylabel = 'Numero médio de compras por cliente'\n",
    "title = 'Numero médio de compras'\n",
    "plt.xlabel(xlabel)\n",
    "plt.ylabel(ylabel)\n",
    "plt.xticks(x_axis)\n",
    "plt.title(title)\n",
    "plt.bar(x_axis, y_axis, label = 'Clientes Recorrentes')\n",
    "plt.bar(x_axis, y_axis_mt, label = 'Clientes totais')\n",
    "plt.legend(loc = 3)"
   ]
  },
  {
   "cell_type": "markdown",
   "metadata": {
    "id": "eKwksQSM-VK2"
   },
   "source": [
    "###Análise 4.2\n",
    "\n",
    "####É possível perceber um aumento da participação de clientes antigos no faturamento?\n"
   ]
  },
  {
   "cell_type": "markdown",
   "metadata": {
    "id": "zdRnjEtt8ddE"
   },
   "source": []
  },
  {
   "cell_type": "code",
   "execution_count": null,
   "metadata": {
    "colab": {
     "base_uri": "https://localhost:8080/",
     "height": 337
    },
    "id": "FOYTwOP_7Kyj",
    "outputId": "d5e1ef4f-b13b-45f3-fc58-6825d8963f03"
   },
   "outputs": [
    {
     "ename": "KeyError",
     "evalue": "ignored",
     "output_type": "error",
     "traceback": [
      "\u001b[0;31m---------------------------------------------------------------------------\u001b[0m",
      "\u001b[0;31mKeyError\u001b[0m                                  Traceback (most recent call last)",
      "\u001b[0;32m<ipython-input-64-417573d9b493>\u001b[0m in \u001b[0;36m<module>\u001b[0;34m()\u001b[0m\n\u001b[1;32m      1\u001b[0m \u001b[0mdf\u001b[0m\u001b[0;34m[\u001b[0m\u001b[0;34m'MES'\u001b[0m\u001b[0;34m]\u001b[0m \u001b[0;34m=\u001b[0m \u001b[0mdata_mes\u001b[0m\u001b[0;34m.\u001b[0m\u001b[0mMES\u001b[0m\u001b[0;34m\u001b[0m\u001b[0;34m\u001b[0m\u001b[0m\n\u001b[0;32m----> 2\u001b[0;31m \u001b[0me\u001b[0m \u001b[0;34m=\u001b[0m \u001b[0mdf\u001b[0m\u001b[0;34m[\u001b[0m\u001b[0;34m[\u001b[0m\u001b[0;34m'COD_CLIENTE'\u001b[0m\u001b[0;34m,\u001b[0m \u001b[0;34m'RECEITA'\u001b[0m\u001b[0;34m,\u001b[0m \u001b[0;34m'MES'\u001b[0m\u001b[0;34m]\u001b[0m\u001b[0;34m]\u001b[0m\u001b[0;34m\u001b[0m\u001b[0;34m\u001b[0m\u001b[0m\n\u001b[0m\u001b[1;32m      3\u001b[0m \u001b[0me\u001b[0m\u001b[0;34m.\u001b[0m\u001b[0mMES\u001b[0m \u001b[0;34m=\u001b[0m \u001b[0me\u001b[0m\u001b[0;34m.\u001b[0m\u001b[0mMES\u001b[0m\u001b[0;34m.\u001b[0m\u001b[0mastype\u001b[0m\u001b[0;34m(\u001b[0m\u001b[0mint\u001b[0m\u001b[0;34m)\u001b[0m\u001b[0;34m\u001b[0m\u001b[0;34m\u001b[0m\u001b[0m\n",
      "\u001b[0;32m/usr/local/lib/python3.7/dist-packages/pandas/core/frame.py\u001b[0m in \u001b[0;36m__getitem__\u001b[0;34m(self, key)\u001b[0m\n\u001b[1;32m   2910\u001b[0m             \u001b[0;32mif\u001b[0m \u001b[0mis_iterator\u001b[0m\u001b[0;34m(\u001b[0m\u001b[0mkey\u001b[0m\u001b[0;34m)\u001b[0m\u001b[0;34m:\u001b[0m\u001b[0;34m\u001b[0m\u001b[0;34m\u001b[0m\u001b[0m\n\u001b[1;32m   2911\u001b[0m                 \u001b[0mkey\u001b[0m \u001b[0;34m=\u001b[0m \u001b[0mlist\u001b[0m\u001b[0;34m(\u001b[0m\u001b[0mkey\u001b[0m\u001b[0;34m)\u001b[0m\u001b[0;34m\u001b[0m\u001b[0;34m\u001b[0m\u001b[0m\n\u001b[0;32m-> 2912\u001b[0;31m             \u001b[0mindexer\u001b[0m \u001b[0;34m=\u001b[0m \u001b[0mself\u001b[0m\u001b[0;34m.\u001b[0m\u001b[0mloc\u001b[0m\u001b[0;34m.\u001b[0m\u001b[0m_get_listlike_indexer\u001b[0m\u001b[0;34m(\u001b[0m\u001b[0mkey\u001b[0m\u001b[0;34m,\u001b[0m \u001b[0maxis\u001b[0m\u001b[0;34m=\u001b[0m\u001b[0;36m1\u001b[0m\u001b[0;34m,\u001b[0m \u001b[0mraise_missing\u001b[0m\u001b[0;34m=\u001b[0m\u001b[0;32mTrue\u001b[0m\u001b[0;34m)\u001b[0m\u001b[0;34m[\u001b[0m\u001b[0;36m1\u001b[0m\u001b[0;34m]\u001b[0m\u001b[0;34m\u001b[0m\u001b[0;34m\u001b[0m\u001b[0m\n\u001b[0m\u001b[1;32m   2913\u001b[0m \u001b[0;34m\u001b[0m\u001b[0m\n\u001b[1;32m   2914\u001b[0m         \u001b[0;31m# take() does not accept boolean indexers\u001b[0m\u001b[0;34m\u001b[0m\u001b[0;34m\u001b[0m\u001b[0;34m\u001b[0m\u001b[0m\n",
      "\u001b[0;32m/usr/local/lib/python3.7/dist-packages/pandas/core/indexing.py\u001b[0m in \u001b[0;36m_get_listlike_indexer\u001b[0;34m(self, key, axis, raise_missing)\u001b[0m\n\u001b[1;32m   1252\u001b[0m             \u001b[0mkeyarr\u001b[0m\u001b[0;34m,\u001b[0m \u001b[0mindexer\u001b[0m\u001b[0;34m,\u001b[0m \u001b[0mnew_indexer\u001b[0m \u001b[0;34m=\u001b[0m \u001b[0max\u001b[0m\u001b[0;34m.\u001b[0m\u001b[0m_reindex_non_unique\u001b[0m\u001b[0;34m(\u001b[0m\u001b[0mkeyarr\u001b[0m\u001b[0;34m)\u001b[0m\u001b[0;34m\u001b[0m\u001b[0;34m\u001b[0m\u001b[0m\n\u001b[1;32m   1253\u001b[0m \u001b[0;34m\u001b[0m\u001b[0m\n\u001b[0;32m-> 1254\u001b[0;31m         \u001b[0mself\u001b[0m\u001b[0;34m.\u001b[0m\u001b[0m_validate_read_indexer\u001b[0m\u001b[0;34m(\u001b[0m\u001b[0mkeyarr\u001b[0m\u001b[0;34m,\u001b[0m \u001b[0mindexer\u001b[0m\u001b[0;34m,\u001b[0m \u001b[0maxis\u001b[0m\u001b[0;34m,\u001b[0m \u001b[0mraise_missing\u001b[0m\u001b[0;34m=\u001b[0m\u001b[0mraise_missing\u001b[0m\u001b[0;34m)\u001b[0m\u001b[0;34m\u001b[0m\u001b[0;34m\u001b[0m\u001b[0m\n\u001b[0m\u001b[1;32m   1255\u001b[0m         \u001b[0;32mreturn\u001b[0m \u001b[0mkeyarr\u001b[0m\u001b[0;34m,\u001b[0m \u001b[0mindexer\u001b[0m\u001b[0;34m\u001b[0m\u001b[0;34m\u001b[0m\u001b[0m\n\u001b[1;32m   1256\u001b[0m \u001b[0;34m\u001b[0m\u001b[0m\n",
      "\u001b[0;32m/usr/local/lib/python3.7/dist-packages/pandas/core/indexing.py\u001b[0m in \u001b[0;36m_validate_read_indexer\u001b[0;34m(self, key, indexer, axis, raise_missing)\u001b[0m\n\u001b[1;32m   1302\u001b[0m             \u001b[0;32mif\u001b[0m \u001b[0mraise_missing\u001b[0m\u001b[0;34m:\u001b[0m\u001b[0;34m\u001b[0m\u001b[0;34m\u001b[0m\u001b[0m\n\u001b[1;32m   1303\u001b[0m                 \u001b[0mnot_found\u001b[0m \u001b[0;34m=\u001b[0m \u001b[0mlist\u001b[0m\u001b[0;34m(\u001b[0m\u001b[0mset\u001b[0m\u001b[0;34m(\u001b[0m\u001b[0mkey\u001b[0m\u001b[0;34m)\u001b[0m \u001b[0;34m-\u001b[0m \u001b[0mset\u001b[0m\u001b[0;34m(\u001b[0m\u001b[0max\u001b[0m\u001b[0;34m)\u001b[0m\u001b[0;34m)\u001b[0m\u001b[0;34m\u001b[0m\u001b[0;34m\u001b[0m\u001b[0m\n\u001b[0;32m-> 1304\u001b[0;31m                 \u001b[0;32mraise\u001b[0m \u001b[0mKeyError\u001b[0m\u001b[0;34m(\u001b[0m\u001b[0;34mf\"{not_found} not in index\"\u001b[0m\u001b[0;34m)\u001b[0m\u001b[0;34m\u001b[0m\u001b[0;34m\u001b[0m\u001b[0m\n\u001b[0m\u001b[1;32m   1305\u001b[0m \u001b[0;34m\u001b[0m\u001b[0m\n\u001b[1;32m   1306\u001b[0m             \u001b[0;31m# we skip the warning on Categorical\u001b[0m\u001b[0;34m\u001b[0m\u001b[0;34m\u001b[0m\u001b[0;34m\u001b[0m\u001b[0m\n",
      "\u001b[0;31mKeyError\u001b[0m: \"['RECEITA'] not in index\""
     ]
    }
   ],
   "source": [
    "df['MES'] = data_mes.MES\n",
    "e = df[['COD_CLIENTE', 'RECEITA', 'MES']]\n",
    "e.MES = e.MES.astype(int)"
   ]
  },
  {
   "cell_type": "code",
   "execution_count": null,
   "metadata": {
    "id": "IGYIgjLp8O0N"
   },
   "outputs": [],
   "source": [
    "e"
   ]
  },
  {
   "cell_type": "code",
   "execution_count": null,
   "metadata": {
    "id": "q8a5RjxYOlyb"
   },
   "outputs": [],
   "source": [
    "i = pd.merge(e, s, how = 'left', on = 'COD_CLIENTE')\n",
    "i.tail(100)\n"
   ]
  },
  {
   "cell_type": "code",
   "execution_count": null,
   "metadata": {
    "id": "igq3Gnq-NM2I"
   },
   "outputs": [],
   "source": [
    "d = e[['COD_CLIENTE']][e['MES'] == 2]"
   ]
  },
  {
   "cell_type": "markdown",
   "metadata": {
    "id": "r0DIV1Dl9dCW"
   },
   "source": [
    "###Resultado"
   ]
  },
  {
   "cell_type": "markdown",
   "metadata": {
    "id": "DssL88zh-7EA"
   },
   "source": [
    "#Margem"
   ]
  },
  {
   "cell_type": "markdown",
   "metadata": {
    "id": "Ef_z0jft_A5L"
   },
   "source": [
    "##Análise 5\n",
    "\n",
    "###Analise da margem média de cada pedido."
   ]
  },
  {
   "cell_type": "markdown",
   "metadata": {
    "id": "MCZ_W2Ffegw4"
   },
   "source": [
    "Adicionando a linha de produto à tabela"
   ]
  },
  {
   "cell_type": "code",
   "execution_count": null,
   "metadata": {
    "colab": {
     "base_uri": "https://localhost:8080/",
     "height": 195
    },
    "id": "mOezXMeu9ayk",
    "outputId": "72101650-20be-46b8-d221-bb75a184d3f9"
   },
   "outputs": [
    {
     "data": {
      "text/html": [
       "<div>\n",
       "<style scoped>\n",
       "    .dataframe tbody tr th:only-of-type {\n",
       "        vertical-align: middle;\n",
       "    }\n",
       "\n",
       "    .dataframe tbody tr th {\n",
       "        vertical-align: top;\n",
       "    }\n",
       "\n",
       "    .dataframe thead th {\n",
       "        text-align: right;\n",
       "    }\n",
       "</style>\n",
       "<table border=\"1\" class=\"dataframe\">\n",
       "  <thead>\n",
       "    <tr style=\"text-align: right;\">\n",
       "      <th></th>\n",
       "      <th>PRODUTO</th>\n",
       "      <th>CUSTO_MERCADORIA</th>\n",
       "      <th>LINHA_PRODUTO</th>\n",
       "    </tr>\n",
       "  </thead>\n",
       "  <tbody>\n",
       "    <tr>\n",
       "      <th>0</th>\n",
       "      <td>A10001G</td>\n",
       "      <td>21.1</td>\n",
       "      <td>BASICO</td>\n",
       "    </tr>\n",
       "    <tr>\n",
       "      <th>1</th>\n",
       "      <td>A10002M</td>\n",
       "      <td>21.1</td>\n",
       "      <td>BASICO</td>\n",
       "    </tr>\n",
       "    <tr>\n",
       "      <th>2</th>\n",
       "      <td>A10003M</td>\n",
       "      <td>22.6</td>\n",
       "      <td>BASICO</td>\n",
       "    </tr>\n",
       "    <tr>\n",
       "      <th>3</th>\n",
       "      <td>A10004P</td>\n",
       "      <td>22.6</td>\n",
       "      <td>BASICO</td>\n",
       "    </tr>\n",
       "    <tr>\n",
       "      <th>4</th>\n",
       "      <td>A10005M</td>\n",
       "      <td>22.6</td>\n",
       "      <td>BASICO</td>\n",
       "    </tr>\n",
       "  </tbody>\n",
       "</table>\n",
       "</div>"
      ],
      "text/plain": [
       "   PRODUTO  CUSTO_MERCADORIA LINHA_PRODUTO\n",
       "0  A10001G              21.1        BASICO\n",
       "1  A10002M              21.1        BASICO\n",
       "2  A10003M              22.6        BASICO\n",
       "3  A10004P              22.6        BASICO\n",
       "4  A10005M              22.6        BASICO"
      ]
     },
     "execution_count": 65,
     "metadata": {
      "tags": []
     },
     "output_type": "execute_result"
    }
   ],
   "source": [
    "query = 'SELECT * FROM info_produto'\n",
    "b = pd.read_sql_query(query, engine)\n",
    "b.head()\n"
   ]
  },
  {
   "cell_type": "code",
   "execution_count": null,
   "metadata": {
    "colab": {
     "base_uri": "https://localhost:8080/",
     "height": 590
    },
    "id": "ShE-yIyeeSqW",
    "outputId": "3363b124-4f51-4c45-ec5c-2371e478e110"
   },
   "outputs": [
    {
     "data": {
      "text/html": [
       "<div>\n",
       "<style scoped>\n",
       "    .dataframe tbody tr th:only-of-type {\n",
       "        vertical-align: middle;\n",
       "    }\n",
       "\n",
       "    .dataframe tbody tr th {\n",
       "        vertical-align: top;\n",
       "    }\n",
       "\n",
       "    .dataframe thead th {\n",
       "        text-align: right;\n",
       "    }\n",
       "</style>\n",
       "<table border=\"1\" class=\"dataframe\">\n",
       "  <thead>\n",
       "    <tr style=\"text-align: right;\">\n",
       "      <th></th>\n",
       "      <th>DATA_VENDA</th>\n",
       "      <th>PEDIDO</th>\n",
       "      <th>PEDIDO_ERP</th>\n",
       "      <th>COD_CLIENTE</th>\n",
       "      <th>PRODUTO</th>\n",
       "      <th>QTDE</th>\n",
       "      <th>PRECO_UNITARIO</th>\n",
       "      <th>DESCONTO_ITEM</th>\n",
       "      <th>FRETE_PAGO_CLIENTE</th>\n",
       "      <th>RECEITA</th>\n",
       "      <th>CUSTO_FRETE</th>\n",
       "      <th>CUSTO_MERCADORIA</th>\n",
       "      <th>LINHA_PRODUTO</th>\n",
       "    </tr>\n",
       "  </thead>\n",
       "  <tbody>\n",
       "    <tr>\n",
       "      <th>0</th>\n",
       "      <td>2020-01-01 00:00:00.000000</td>\n",
       "      <td>7000001</td>\n",
       "      <td>P10000123123</td>\n",
       "      <td>4040690</td>\n",
       "      <td>E10505Y</td>\n",
       "      <td>1</td>\n",
       "      <td>149.9</td>\n",
       "      <td>0.00</td>\n",
       "      <td>32.32</td>\n",
       "      <td>182.22</td>\n",
       "      <td>32.32</td>\n",
       "      <td>45.10</td>\n",
       "      <td>ACESSORIOS</td>\n",
       "    </tr>\n",
       "    <tr>\n",
       "      <th>1</th>\n",
       "      <td>2020-01-01 00:00:00.000000</td>\n",
       "      <td>7000003</td>\n",
       "      <td>P10000123124</td>\n",
       "      <td>4003939</td>\n",
       "      <td>E10513Y</td>\n",
       "      <td>1</td>\n",
       "      <td>189.9</td>\n",
       "      <td>0.00</td>\n",
       "      <td>0.00</td>\n",
       "      <td>189.90</td>\n",
       "      <td>0.00</td>\n",
       "      <td>43.13</td>\n",
       "      <td>BOLSAS</td>\n",
       "    </tr>\n",
       "    <tr>\n",
       "      <th>2</th>\n",
       "      <td>2020-01-01 00:00:00.000000</td>\n",
       "      <td>7000006</td>\n",
       "      <td>P10000123128</td>\n",
       "      <td>4043259</td>\n",
       "      <td>E10375Y</td>\n",
       "      <td>1</td>\n",
       "      <td>129.9</td>\n",
       "      <td>-12.99</td>\n",
       "      <td>26.93</td>\n",
       "      <td>143.84</td>\n",
       "      <td>26.93</td>\n",
       "      <td>21.97</td>\n",
       "      <td>FASHION</td>\n",
       "    </tr>\n",
       "    <tr>\n",
       "      <th>3</th>\n",
       "      <td>2020-01-01 00:00:00.000000</td>\n",
       "      <td>7000009</td>\n",
       "      <td>P10000123132</td>\n",
       "      <td>4090303</td>\n",
       "      <td>E10477Y</td>\n",
       "      <td>2</td>\n",
       "      <td>19.9</td>\n",
       "      <td>0.00</td>\n",
       "      <td>0.00</td>\n",
       "      <td>39.80</td>\n",
       "      <td>0.00</td>\n",
       "      <td>6.73</td>\n",
       "      <td>BASICO</td>\n",
       "    </tr>\n",
       "    <tr>\n",
       "      <th>4</th>\n",
       "      <td>2020-01-01 00:00:00.000000</td>\n",
       "      <td>7000011</td>\n",
       "      <td>P10000294585</td>\n",
       "      <td>4080417</td>\n",
       "      <td>E10058Y</td>\n",
       "      <td>1</td>\n",
       "      <td>189.9</td>\n",
       "      <td>1.17</td>\n",
       "      <td>27.57</td>\n",
       "      <td>218.64</td>\n",
       "      <td>27.57</td>\n",
       "      <td>36.67</td>\n",
       "      <td>ACESSORIOS</td>\n",
       "    </tr>\n",
       "    <tr>\n",
       "      <th>...</th>\n",
       "      <td>...</td>\n",
       "      <td>...</td>\n",
       "      <td>...</td>\n",
       "      <td>...</td>\n",
       "      <td>...</td>\n",
       "      <td>...</td>\n",
       "      <td>...</td>\n",
       "      <td>...</td>\n",
       "      <td>...</td>\n",
       "      <td>...</td>\n",
       "      <td>...</td>\n",
       "      <td>...</td>\n",
       "      <td>...</td>\n",
       "    </tr>\n",
       "    <tr>\n",
       "      <th>296932</th>\n",
       "      <td>2020-12-10 00:00:00.000000</td>\n",
       "      <td>8000000011</td>\n",
       "      <td>P10000294136</td>\n",
       "      <td>4049216</td>\n",
       "      <td>B10203</td>\n",
       "      <td>1</td>\n",
       "      <td>59.9</td>\n",
       "      <td>0.00</td>\n",
       "      <td>21.00</td>\n",
       "      <td>80.90</td>\n",
       "      <td>21.00</td>\n",
       "      <td>7.76</td>\n",
       "      <td>BASICO</td>\n",
       "    </tr>\n",
       "    <tr>\n",
       "      <th>296933</th>\n",
       "      <td>2020-12-10 00:00:00.000000</td>\n",
       "      <td>8000000012</td>\n",
       "      <td>P10000294137</td>\n",
       "      <td>4019312</td>\n",
       "      <td>E10860Y</td>\n",
       "      <td>1</td>\n",
       "      <td>89.9</td>\n",
       "      <td>0.00</td>\n",
       "      <td>10.50</td>\n",
       "      <td>100.40</td>\n",
       "      <td>10.50</td>\n",
       "      <td>12.38</td>\n",
       "      <td>FASHION</td>\n",
       "    </tr>\n",
       "    <tr>\n",
       "      <th>296934</th>\n",
       "      <td>2020-12-10 00:00:00.000000</td>\n",
       "      <td>8000000015</td>\n",
       "      <td>P10000294140</td>\n",
       "      <td>4055873</td>\n",
       "      <td>E10058Y</td>\n",
       "      <td>1</td>\n",
       "      <td>229.9</td>\n",
       "      <td>0.00</td>\n",
       "      <td>10.50</td>\n",
       "      <td>240.40</td>\n",
       "      <td>10.50</td>\n",
       "      <td>36.67</td>\n",
       "      <td>ACESSORIOS</td>\n",
       "    </tr>\n",
       "    <tr>\n",
       "      <th>296935</th>\n",
       "      <td>2020-12-10 00:00:00.000000</td>\n",
       "      <td>8000000017</td>\n",
       "      <td>P10000294142</td>\n",
       "      <td>4086203</td>\n",
       "      <td>E10809Y</td>\n",
       "      <td>1</td>\n",
       "      <td>59.9</td>\n",
       "      <td>0.00</td>\n",
       "      <td>4.56</td>\n",
       "      <td>64.46</td>\n",
       "      <td>4.56</td>\n",
       "      <td>8.88</td>\n",
       "      <td>BASICO</td>\n",
       "    </tr>\n",
       "    <tr>\n",
       "      <th>296936</th>\n",
       "      <td>2020-12-10 00:00:00.000000</td>\n",
       "      <td>8000000018</td>\n",
       "      <td>P10000294143</td>\n",
       "      <td>4145384</td>\n",
       "      <td>E10356Y</td>\n",
       "      <td>1</td>\n",
       "      <td>89.9</td>\n",
       "      <td>0.00</td>\n",
       "      <td>21.00</td>\n",
       "      <td>110.90</td>\n",
       "      <td>21.00</td>\n",
       "      <td>19.79</td>\n",
       "      <td>ACESSORIOS</td>\n",
       "    </tr>\n",
       "  </tbody>\n",
       "</table>\n",
       "<p>296937 rows × 13 columns</p>\n",
       "</div>"
      ],
      "text/plain": [
       "                        DATA_VENDA      PEDIDO  ... CUSTO_MERCADORIA  LINHA_PRODUTO\n",
       "0       2020-01-01 00:00:00.000000     7000001  ...            45.10     ACESSORIOS\n",
       "1       2020-01-01 00:00:00.000000     7000003  ...            43.13         BOLSAS\n",
       "2       2020-01-01 00:00:00.000000     7000006  ...            21.97        FASHION\n",
       "3       2020-01-01 00:00:00.000000     7000009  ...             6.73         BASICO\n",
       "4       2020-01-01 00:00:00.000000     7000011  ...            36.67     ACESSORIOS\n",
       "...                            ...         ...  ...              ...            ...\n",
       "296932  2020-12-10 00:00:00.000000  8000000011  ...             7.76         BASICO\n",
       "296933  2020-12-10 00:00:00.000000  8000000012  ...            12.38        FASHION\n",
       "296934  2020-12-10 00:00:00.000000  8000000015  ...            36.67     ACESSORIOS\n",
       "296935  2020-12-10 00:00:00.000000  8000000017  ...             8.88         BASICO\n",
       "296936  2020-12-10 00:00:00.000000  8000000018  ...            19.79     ACESSORIOS\n",
       "\n",
       "[296937 rows x 13 columns]"
      ]
     },
     "execution_count": 66,
     "metadata": {
      "tags": []
     },
     "output_type": "execute_result"
    }
   ],
   "source": [
    "query = 'SELECT * FROM pedidos'\n",
    "a = pd.read_sql_query(query, engine)\n",
    "df = pd.merge(a, b, on = 'PRODUTO', how = 'left')\n",
    "df"
   ]
  },
  {
   "cell_type": "markdown",
   "metadata": {
    "id": "k_5g8Tuie5As"
   },
   "source": [
    "Criando a coluna de imposto consideranto que o imposto é 27,25% o valor de venda do produto"
   ]
  },
  {
   "cell_type": "code",
   "execution_count": null,
   "metadata": {
    "colab": {
     "base_uri": "https://localhost:8080/",
     "height": 590
    },
    "id": "7fc6hwX-s3dV",
    "outputId": "94a41c4b-cd23-40ec-ba14-5773e8289850"
   },
   "outputs": [
    {
     "data": {
      "text/html": [
       "<div>\n",
       "<style scoped>\n",
       "    .dataframe tbody tr th:only-of-type {\n",
       "        vertical-align: middle;\n",
       "    }\n",
       "\n",
       "    .dataframe tbody tr th {\n",
       "        vertical-align: top;\n",
       "    }\n",
       "\n",
       "    .dataframe thead th {\n",
       "        text-align: right;\n",
       "    }\n",
       "</style>\n",
       "<table border=\"1\" class=\"dataframe\">\n",
       "  <thead>\n",
       "    <tr style=\"text-align: right;\">\n",
       "      <th></th>\n",
       "      <th>DATA_VENDA</th>\n",
       "      <th>PEDIDO</th>\n",
       "      <th>PEDIDO_ERP</th>\n",
       "      <th>COD_CLIENTE</th>\n",
       "      <th>PRODUTO</th>\n",
       "      <th>QTDE</th>\n",
       "      <th>PRECO_UNITARIO</th>\n",
       "      <th>DESCONTO_ITEM</th>\n",
       "      <th>FRETE_PAGO_CLIENTE</th>\n",
       "      <th>RECEITA</th>\n",
       "      <th>CUSTO_FRETE</th>\n",
       "      <th>CUSTO_MERCADORIA</th>\n",
       "      <th>LINHA_PRODUTO</th>\n",
       "      <th>IMPOSTO</th>\n",
       "    </tr>\n",
       "  </thead>\n",
       "  <tbody>\n",
       "    <tr>\n",
       "      <th>0</th>\n",
       "      <td>2020-01-01 00:00:00.000000</td>\n",
       "      <td>7000001</td>\n",
       "      <td>P10000123123</td>\n",
       "      <td>4040690</td>\n",
       "      <td>E10505Y</td>\n",
       "      <td>1</td>\n",
       "      <td>149.9</td>\n",
       "      <td>0.00</td>\n",
       "      <td>32.32</td>\n",
       "      <td>182.22</td>\n",
       "      <td>32.32</td>\n",
       "      <td>45.10</td>\n",
       "      <td>ACESSORIOS</td>\n",
       "      <td>40.84775</td>\n",
       "    </tr>\n",
       "    <tr>\n",
       "      <th>1</th>\n",
       "      <td>2020-01-01 00:00:00.000000</td>\n",
       "      <td>7000003</td>\n",
       "      <td>P10000123124</td>\n",
       "      <td>4003939</td>\n",
       "      <td>E10513Y</td>\n",
       "      <td>1</td>\n",
       "      <td>189.9</td>\n",
       "      <td>0.00</td>\n",
       "      <td>0.00</td>\n",
       "      <td>189.90</td>\n",
       "      <td>0.00</td>\n",
       "      <td>43.13</td>\n",
       "      <td>BOLSAS</td>\n",
       "      <td>51.74775</td>\n",
       "    </tr>\n",
       "    <tr>\n",
       "      <th>2</th>\n",
       "      <td>2020-01-01 00:00:00.000000</td>\n",
       "      <td>7000006</td>\n",
       "      <td>P10000123128</td>\n",
       "      <td>4043259</td>\n",
       "      <td>E10375Y</td>\n",
       "      <td>1</td>\n",
       "      <td>129.9</td>\n",
       "      <td>-12.99</td>\n",
       "      <td>26.93</td>\n",
       "      <td>143.84</td>\n",
       "      <td>26.93</td>\n",
       "      <td>21.97</td>\n",
       "      <td>FASHION</td>\n",
       "      <td>35.39775</td>\n",
       "    </tr>\n",
       "    <tr>\n",
       "      <th>3</th>\n",
       "      <td>2020-01-01 00:00:00.000000</td>\n",
       "      <td>7000009</td>\n",
       "      <td>P10000123132</td>\n",
       "      <td>4090303</td>\n",
       "      <td>E10477Y</td>\n",
       "      <td>2</td>\n",
       "      <td>19.9</td>\n",
       "      <td>0.00</td>\n",
       "      <td>0.00</td>\n",
       "      <td>39.80</td>\n",
       "      <td>0.00</td>\n",
       "      <td>6.73</td>\n",
       "      <td>BASICO</td>\n",
       "      <td>10.84550</td>\n",
       "    </tr>\n",
       "    <tr>\n",
       "      <th>4</th>\n",
       "      <td>2020-01-01 00:00:00.000000</td>\n",
       "      <td>7000011</td>\n",
       "      <td>P10000294585</td>\n",
       "      <td>4080417</td>\n",
       "      <td>E10058Y</td>\n",
       "      <td>1</td>\n",
       "      <td>189.9</td>\n",
       "      <td>1.17</td>\n",
       "      <td>27.57</td>\n",
       "      <td>218.64</td>\n",
       "      <td>27.57</td>\n",
       "      <td>36.67</td>\n",
       "      <td>ACESSORIOS</td>\n",
       "      <td>51.74775</td>\n",
       "    </tr>\n",
       "    <tr>\n",
       "      <th>...</th>\n",
       "      <td>...</td>\n",
       "      <td>...</td>\n",
       "      <td>...</td>\n",
       "      <td>...</td>\n",
       "      <td>...</td>\n",
       "      <td>...</td>\n",
       "      <td>...</td>\n",
       "      <td>...</td>\n",
       "      <td>...</td>\n",
       "      <td>...</td>\n",
       "      <td>...</td>\n",
       "      <td>...</td>\n",
       "      <td>...</td>\n",
       "      <td>...</td>\n",
       "    </tr>\n",
       "    <tr>\n",
       "      <th>296932</th>\n",
       "      <td>2020-12-10 00:00:00.000000</td>\n",
       "      <td>8000000011</td>\n",
       "      <td>P10000294136</td>\n",
       "      <td>4049216</td>\n",
       "      <td>B10203</td>\n",
       "      <td>1</td>\n",
       "      <td>59.9</td>\n",
       "      <td>0.00</td>\n",
       "      <td>21.00</td>\n",
       "      <td>80.90</td>\n",
       "      <td>21.00</td>\n",
       "      <td>7.76</td>\n",
       "      <td>BASICO</td>\n",
       "      <td>16.32275</td>\n",
       "    </tr>\n",
       "    <tr>\n",
       "      <th>296933</th>\n",
       "      <td>2020-12-10 00:00:00.000000</td>\n",
       "      <td>8000000012</td>\n",
       "      <td>P10000294137</td>\n",
       "      <td>4019312</td>\n",
       "      <td>E10860Y</td>\n",
       "      <td>1</td>\n",
       "      <td>89.9</td>\n",
       "      <td>0.00</td>\n",
       "      <td>10.50</td>\n",
       "      <td>100.40</td>\n",
       "      <td>10.50</td>\n",
       "      <td>12.38</td>\n",
       "      <td>FASHION</td>\n",
       "      <td>24.49775</td>\n",
       "    </tr>\n",
       "    <tr>\n",
       "      <th>296934</th>\n",
       "      <td>2020-12-10 00:00:00.000000</td>\n",
       "      <td>8000000015</td>\n",
       "      <td>P10000294140</td>\n",
       "      <td>4055873</td>\n",
       "      <td>E10058Y</td>\n",
       "      <td>1</td>\n",
       "      <td>229.9</td>\n",
       "      <td>0.00</td>\n",
       "      <td>10.50</td>\n",
       "      <td>240.40</td>\n",
       "      <td>10.50</td>\n",
       "      <td>36.67</td>\n",
       "      <td>ACESSORIOS</td>\n",
       "      <td>62.64775</td>\n",
       "    </tr>\n",
       "    <tr>\n",
       "      <th>296935</th>\n",
       "      <td>2020-12-10 00:00:00.000000</td>\n",
       "      <td>8000000017</td>\n",
       "      <td>P10000294142</td>\n",
       "      <td>4086203</td>\n",
       "      <td>E10809Y</td>\n",
       "      <td>1</td>\n",
       "      <td>59.9</td>\n",
       "      <td>0.00</td>\n",
       "      <td>4.56</td>\n",
       "      <td>64.46</td>\n",
       "      <td>4.56</td>\n",
       "      <td>8.88</td>\n",
       "      <td>BASICO</td>\n",
       "      <td>16.32275</td>\n",
       "    </tr>\n",
       "    <tr>\n",
       "      <th>296936</th>\n",
       "      <td>2020-12-10 00:00:00.000000</td>\n",
       "      <td>8000000018</td>\n",
       "      <td>P10000294143</td>\n",
       "      <td>4145384</td>\n",
       "      <td>E10356Y</td>\n",
       "      <td>1</td>\n",
       "      <td>89.9</td>\n",
       "      <td>0.00</td>\n",
       "      <td>21.00</td>\n",
       "      <td>110.90</td>\n",
       "      <td>21.00</td>\n",
       "      <td>19.79</td>\n",
       "      <td>ACESSORIOS</td>\n",
       "      <td>24.49775</td>\n",
       "    </tr>\n",
       "  </tbody>\n",
       "</table>\n",
       "<p>296937 rows × 14 columns</p>\n",
       "</div>"
      ],
      "text/plain": [
       "                        DATA_VENDA      PEDIDO  ... LINHA_PRODUTO   IMPOSTO\n",
       "0       2020-01-01 00:00:00.000000     7000001  ...    ACESSORIOS  40.84775\n",
       "1       2020-01-01 00:00:00.000000     7000003  ...        BOLSAS  51.74775\n",
       "2       2020-01-01 00:00:00.000000     7000006  ...       FASHION  35.39775\n",
       "3       2020-01-01 00:00:00.000000     7000009  ...        BASICO  10.84550\n",
       "4       2020-01-01 00:00:00.000000     7000011  ...    ACESSORIOS  51.74775\n",
       "...                            ...         ...  ...           ...       ...\n",
       "296932  2020-12-10 00:00:00.000000  8000000011  ...        BASICO  16.32275\n",
       "296933  2020-12-10 00:00:00.000000  8000000012  ...       FASHION  24.49775\n",
       "296934  2020-12-10 00:00:00.000000  8000000015  ...    ACESSORIOS  62.64775\n",
       "296935  2020-12-10 00:00:00.000000  8000000017  ...        BASICO  16.32275\n",
       "296936  2020-12-10 00:00:00.000000  8000000018  ...    ACESSORIOS  24.49775\n",
       "\n",
       "[296937 rows x 14 columns]"
      ]
     },
     "execution_count": 67,
     "metadata": {
      "tags": []
     },
     "output_type": "execute_result"
    }
   ],
   "source": [
    "df['IMPOSTO'] = df['PRECO_UNITARIO']*df['QTDE']*0.2725\n",
    "df"
   ]
  },
  {
   "cell_type": "markdown",
   "metadata": {
    "id": "cRRnUruLewtA"
   },
   "source": [
    "Calculando a Margem por produto"
   ]
  },
  {
   "cell_type": "code",
   "execution_count": null,
   "metadata": {
    "colab": {
     "base_uri": "https://localhost:8080/"
    },
    "id": "CgPpGoeWeng6",
    "outputId": "fa6d5e68-7edc-4e1e-cf31-33e44680794c"
   },
   "outputs": [
    {
     "data": {
      "text/plain": [
       "count    296937.000000\n",
       "mean         40.372004\n",
       "std          49.729367\n",
       "min       -1067.185000\n",
       "25%          10.147250\n",
       "50%          27.417250\n",
       "75%          61.537250\n",
       "max        5784.920250\n",
       "Name: MARGEM, dtype: float64"
      ]
     },
     "execution_count": 69,
     "metadata": {
      "tags": []
     },
     "output_type": "execute_result"
    }
   ],
   "source": [
    "df['CUSTO_TOTAL'] = df['CUSTO_FRETE'] + df['CUSTO_MERCADORIA']+df['IMPOSTO']\n",
    "df['MARGEM'] = df['RECEITA'] - df['CUSTO_TOTAL']\n",
    "df['MARGEM'].describe()"
   ]
  },
  {
   "cell_type": "markdown",
   "metadata": {
    "id": "Vk3i_5LXu3Fz"
   },
   "source": [
    "Visualização - Histograma da margem dos produtos"
   ]
  },
  {
   "cell_type": "code",
   "execution_count": null,
   "metadata": {
    "colab": {
     "base_uri": "https://localhost:8080/",
     "height": 282
    },
    "id": "N96H90E0uvK5",
    "outputId": "bd3ff6ab-75cf-482f-ea7a-99ff0ecc92a2"
   },
   "outputs": [
    {
     "data": {
      "image/png": "[encoded data removed]",
      "text/plain": [
       "<Figure size 432x288 with 1 Axes>"
      ]
     },
     "metadata": {
      "needs_background": "light",
      "tags": []
     },
     "output_type": "display_data"
    },
    {
     "data": {
      "text/plain": [
       "<Figure size 432x288 with 0 Axes>"
      ]
     },
     "metadata": {
      "tags": []
     },
     "output_type": "display_data"
    }
   ],
   "source": [
    "df['MARGEM'].hist(range = [-100, 500])\n",
    "_=plt.figure()"
   ]
  },
  {
   "cell_type": "markdown",
   "metadata": {
    "id": "0xYKGYZFvY3M"
   },
   "source": [
    "Calculando a margem por pedido"
   ]
  },
  {
   "cell_type": "code",
   "execution_count": null,
   "metadata": {
    "colab": {
     "base_uri": "https://localhost:8080/"
    },
    "id": "XMp5cjlot66H",
    "outputId": "adaf05be-abe6-4934-dea7-f94a25125147"
   },
   "outputs": [
    {
     "data": {
      "text/plain": [
       "count    172031.000000\n",
       "mean         69.684777\n",
       "std          67.179912\n",
       "min       -1169.828500\n",
       "25%          29.162250\n",
       "50%          57.447250\n",
       "75%          95.543500\n",
       "max        5797.532500\n",
       "Name: MARGEM, dtype: float64"
      ]
     },
     "execution_count": 71,
     "metadata": {
      "tags": []
     },
     "output_type": "execute_result"
    }
   ],
   "source": [
    "margem_pedido = df[['PEDIDO_ERP', 'MARGEM']]\n",
    "\n",
    "margem_pedido = margem_pedido.groupby('PEDIDO_ERP').sum().reset_index()\n",
    "\n",
    "margem_pedido['MARGEM'].describe()"
   ]
  },
  {
   "cell_type": "markdown",
   "metadata": {
    "id": "TG2KQ4Twvqck"
   },
   "source": [
    "Visualização Margem por pedido"
   ]
  },
  {
   "cell_type": "code",
   "execution_count": null,
   "metadata": {
    "colab": {
     "base_uri": "https://localhost:8080/",
     "height": 282
    },
    "id": "bxMsYk65enuR",
    "outputId": "65c55bfc-8bd9-4fe8-99b5-8e4ea9f91389"
   },
   "outputs": [
    {
     "data": {
      "image/png": "[encoded data removed]",
      "text/plain": [
       "<Figure size 432x288 with 1 Axes>"
      ]
     },
     "metadata": {
      "needs_background": "light",
      "tags": []
     },
     "output_type": "display_data"
    },
    {
     "data": {
      "text/plain": [
       "<Figure size 432x288 with 0 Axes>"
      ]
     },
     "metadata": {
      "tags": []
     },
     "output_type": "display_data"
    }
   ],
   "source": [
    "margem_pedido['MARGEM'].hist(range = [-100, 500])\n",
    "_=plt.figure()"
   ]
  },
  {
   "cell_type": "markdown",
   "metadata": {
    "id": "e1yUMr0fv6oI"
   },
   "source": [
    "Linha de produtos com menor margem para ser excluída\n"
   ]
  },
  {
   "cell_type": "code",
   "execution_count": null,
   "metadata": {
    "colab": {
     "base_uri": "https://localhost:8080/",
     "height": 225
    },
    "id": "OB8JCJE7en_k",
    "outputId": "f29aac09-f281-46fb-babe-4661b6ea02a1"
   },
   "outputs": [
    {
     "data": {
      "text/html": [
       "<div>\n",
       "<style scoped>\n",
       "    .dataframe tbody tr th:only-of-type {\n",
       "        vertical-align: middle;\n",
       "    }\n",
       "\n",
       "    .dataframe tbody tr th {\n",
       "        vertical-align: top;\n",
       "    }\n",
       "\n",
       "    .dataframe thead th {\n",
       "        text-align: right;\n",
       "    }\n",
       "</style>\n",
       "<table border=\"1\" class=\"dataframe\">\n",
       "  <thead>\n",
       "    <tr style=\"text-align: right;\">\n",
       "      <th></th>\n",
       "      <th>LINHA_PRODUTO</th>\n",
       "      <th>MARGEM</th>\n",
       "    </tr>\n",
       "  </thead>\n",
       "  <tbody>\n",
       "    <tr>\n",
       "      <th>0</th>\n",
       "      <td>ACESSORIOS</td>\n",
       "      <td>4.171557e+06</td>\n",
       "    </tr>\n",
       "    <tr>\n",
       "      <th>1</th>\n",
       "      <td>BASICO</td>\n",
       "      <td>3.017859e+06</td>\n",
       "    </tr>\n",
       "    <tr>\n",
       "      <th>2</th>\n",
       "      <td>BOLSAS</td>\n",
       "      <td>1.813285e+06</td>\n",
       "    </tr>\n",
       "    <tr>\n",
       "      <th>3</th>\n",
       "      <td>COMPLEMENTOS</td>\n",
       "      <td>3.104443e+03</td>\n",
       "    </tr>\n",
       "    <tr>\n",
       "      <th>4</th>\n",
       "      <td>FASHION</td>\n",
       "      <td>2.168369e+06</td>\n",
       "    </tr>\n",
       "    <tr>\n",
       "      <th>5</th>\n",
       "      <td>TECH</td>\n",
       "      <td>6.854024e+05</td>\n",
       "    </tr>\n",
       "  </tbody>\n",
       "</table>\n",
       "</div>"
      ],
      "text/plain": [
       "  LINHA_PRODUTO        MARGEM\n",
       "0    ACESSORIOS  4.171557e+06\n",
       "1        BASICO  3.017859e+06\n",
       "2        BOLSAS  1.813285e+06\n",
       "3  COMPLEMENTOS  3.104443e+03\n",
       "4       FASHION  2.168369e+06\n",
       "5          TECH  6.854024e+05"
      ]
     },
     "execution_count": 73,
     "metadata": {
      "tags": []
     },
     "output_type": "execute_result"
    }
   ],
   "source": [
    "df.head()\n",
    "\n",
    "linha_margem = df[['LINHA_PRODUTO', 'MARGEM']]\n",
    "\n",
    "\n",
    "linha_margem = linha_margem.groupby(['LINHA_PRODUTO']).sum().reset_index()\n",
    "\n",
    "linha_margem\n",
    "\n"
   ]
  },
  {
   "cell_type": "markdown",
   "metadata": {
    "id": "qTKuGBuzwErk"
   },
   "source": [
    "Visualização margem de lucro por linha de produto"
   ]
  },
  {
   "cell_type": "code",
   "execution_count": null,
   "metadata": {
    "colab": {
     "base_uri": "https://localhost:8080/",
     "height": 373
    },
    "id": "0o1sysI3eoG5",
    "outputId": "84e40378-dbae-43bb-dfa8-a12e8abdfdc1"
   },
   "outputs": [
    {
     "data": {
      "text/plain": [
       "<BarContainer object of 6 artists>"
      ]
     },
     "execution_count": 74,
     "metadata": {
      "tags": []
     },
     "output_type": "execute_result"
    },
    {
     "data": {
      "image/png": "[encoded data removed]",
      "text/plain": [
       "<Figure size 432x288 with 1 Axes>"
      ]
     },
     "metadata": {
      "needs_background": "light",
      "tags": []
     },
     "output_type": "display_data"
    }
   ],
   "source": [
    "x_axis_m = linha_margem.LINHA_PRODUTO\n",
    "y_axis_m = linha_margem.MARGEM/1000000\n",
    "title = 'Margem de lucro por linha de produto'\n",
    "ylabel = 'Margem (R$ milhões)'\n",
    "xlabel = 'Linha de produto'\n",
    "plt.title(title)\n",
    "plt.xlabel(xlabel)\n",
    "plt.ylabel(ylabel)\n",
    "plt.xticks(rotation = 50, ha = 'right')\n",
    "plt.grid(axis = 'both')\n",
    "plt.bar(x_axis_m, y_axis_m)"
   ]
  },
  {
   "cell_type": "markdown",
   "metadata": {
    "id": "8m6PCMUowbwL"
   },
   "source": [
    "Receita por linha de produto"
   ]
  },
  {
   "cell_type": "code",
   "execution_count": null,
   "metadata": {
    "colab": {
     "base_uri": "https://localhost:8080/",
     "height": 225
    },
    "id": "8b8ACaIneoMF",
    "outputId": "b76f4601-c771-4de8-b3e2-5ffcd7a53b1e"
   },
   "outputs": [
    {
     "data": {
      "text/html": [
       "<div>\n",
       "<style scoped>\n",
       "    .dataframe tbody tr th:only-of-type {\n",
       "        vertical-align: middle;\n",
       "    }\n",
       "\n",
       "    .dataframe tbody tr th {\n",
       "        vertical-align: top;\n",
       "    }\n",
       "\n",
       "    .dataframe thead th {\n",
       "        text-align: right;\n",
       "    }\n",
       "</style>\n",
       "<table border=\"1\" class=\"dataframe\">\n",
       "  <thead>\n",
       "    <tr style=\"text-align: right;\">\n",
       "      <th></th>\n",
       "      <th>LINHA_PRODUTO</th>\n",
       "      <th>RECEITA</th>\n",
       "    </tr>\n",
       "  </thead>\n",
       "  <tbody>\n",
       "    <tr>\n",
       "      <th>0</th>\n",
       "      <td>ACESSORIOS</td>\n",
       "      <td>9.686336e+06</td>\n",
       "    </tr>\n",
       "    <tr>\n",
       "      <th>1</th>\n",
       "      <td>BASICO</td>\n",
       "      <td>7.520475e+06</td>\n",
       "    </tr>\n",
       "    <tr>\n",
       "      <th>2</th>\n",
       "      <td>BOLSAS</td>\n",
       "      <td>4.262632e+06</td>\n",
       "    </tr>\n",
       "    <tr>\n",
       "      <th>3</th>\n",
       "      <td>COMPLEMENTOS</td>\n",
       "      <td>7.183720e+03</td>\n",
       "    </tr>\n",
       "    <tr>\n",
       "      <th>4</th>\n",
       "      <td>FASHION</td>\n",
       "      <td>4.778655e+06</td>\n",
       "    </tr>\n",
       "    <tr>\n",
       "      <th>5</th>\n",
       "      <td>TECH</td>\n",
       "      <td>1.983271e+06</td>\n",
       "    </tr>\n",
       "  </tbody>\n",
       "</table>\n",
       "</div>"
      ],
      "text/plain": [
       "  LINHA_PRODUTO       RECEITA\n",
       "0    ACESSORIOS  9.686336e+06\n",
       "1        BASICO  7.520475e+06\n",
       "2        BOLSAS  4.262632e+06\n",
       "3  COMPLEMENTOS  7.183720e+03\n",
       "4       FASHION  4.778655e+06\n",
       "5          TECH  1.983271e+06"
      ]
     },
     "execution_count": 75,
     "metadata": {
      "tags": []
     },
     "output_type": "execute_result"
    }
   ],
   "source": [
    "linha_receita = df[['LINHA_PRODUTO', 'RECEITA']]\n",
    "\n",
    "\n",
    "linha_receita = linha_receita.groupby(['LINHA_PRODUTO']).sum().reset_index()\n",
    "\n",
    "linha_receita\n"
   ]
  },
  {
   "cell_type": "markdown",
   "metadata": {
    "id": "gIgcG__dwj3E"
   },
   "source": [
    "Visualização receita por linha de produto"
   ]
  },
  {
   "cell_type": "code",
   "execution_count": null,
   "metadata": {
    "colab": {
     "base_uri": "https://localhost:8080/",
     "height": 373
    },
    "id": "3JNGm7TSeoRx",
    "outputId": "0c49ad0f-5ca0-458a-bdc5-4d2cd89db13e"
   },
   "outputs": [
    {
     "data": {
      "text/plain": [
       "<matplotlib.legend.Legend at 0x7f556556b990>"
      ]
     },
     "execution_count": 76,
     "metadata": {
      "tags": []
     },
     "output_type": "execute_result"
    },
    {
     "data": {
      "image/png": "[encoded data removed]",
      "text/plain": [
       "<Figure size 432x288 with 1 Axes>"
      ]
     },
     "metadata": {
      "needs_background": "light",
      "tags": []
     },
     "output_type": "display_data"
    }
   ],
   "source": [
    "x_axis = linha_receita.LINHA_PRODUTO\n",
    "y_axis = linha_receita.RECEITA/1000000\n",
    "title = 'Receita e margem por linha de produto'\n",
    "ylabel = 'Receita (R$ milhões)'\n",
    "xlabel = 'Linha de produto'\n",
    "\n",
    "plt.title(title)\n",
    "plt.xlabel(xlabel)\n",
    "plt.ylabel(ylabel)\n",
    "plt.xticks(rotation = 50, ha = 'right')\n",
    "plt.grid(axis = 'both')\n",
    "plt.bar(x_axis, y_axis, label = 'Receita')\n",
    "plt.bar(x_axis_m, y_axis_m, label = 'Margem')\n",
    "\n",
    "plt.legend()\n"
   ]
  },
  {
   "cell_type": "code",
   "execution_count": null,
   "metadata": {
    "id": "iELOb-j-xLQw"
   },
   "outputs": [],
   "source": [
    "a = df[['RECEITA', 'CUSTO_MERCADORIA', 'LINHA_PRODUTO', 'MARGEM']]\n",
    "a.RECEITA.describe()\n",
    "b = a\n",
    "b.RECEITA = a[a['RECEITA']< 1000]"
   ]
  },
  {
   "cell_type": "code",
   "execution_count": null,
   "metadata": {
    "id": "Kp9ezio3eoX-"
   },
   "outputs": [],
   "source": [
    "sns.FacetGrid(b, hue=\"LINHA_PRODUTO\", height=5, xlim=(0,100)).map(sns.kdeplot, \"MARGEM\").add_legend()\n",
    "\n",
    "plt.show()"
   ]
  },
  {
   "cell_type": "markdown",
   "metadata": {
    "id": "8VcJBzzw9-IV"
   },
   "source": [
    "- Falta ver:\n",
    "\n",
    "- Analisar clientes antigos por receita (4.1)\n",
    "- Ver o Grid (todos)\n",
    "- Rever siginificado dos indicadores falados nos videos\n",
    "- Resultados análise 4\n",
    "- Visualização das margens em porcentagem\n",
    "- Continuar no Merge\n",
    "- Fazer lista de indicadores descritos no videos\n",
    "- Ver quais indicadores da pra fazer"
   ]
  }
 ],
 "metadata": {
  "colab": {
   "collapsed_sections": [],
   "name": "Case - Entrega",
   "provenance": [],
   "toc_visible": true
  },
  "kernelspec": {
   "display_name": "Python 3",
   "language": "python",
   "name": "python3"
  },
  "language_info": {
   "codemirror_mode": {
    "name": "ipython",
    "version": 3
   },
   "file_extension": ".py",
   "mimetype": "text/x-python",
   "name": "python",
   "nbconvert_exporter": "python",
   "pygments_lexer": "ipython3",
   "version": "3.8.5"
  }
 },
 "nbformat": 4,
 "nbformat_minor": 1
}
